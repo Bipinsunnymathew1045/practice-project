{
 "cells": [
  {
   "cell_type": "markdown",
   "metadata": {},
   "source": [
    "### The aim of E commerce  retail price prediction is to understand different factors that influence different retail products price.\n",
    "\n",
    "### 1. Retail Price\n",
    "\n",
    "### 2. Rating of customers\n",
    "\n",
    "### 3. Units Sold\n",
    "\n",
    "### 4. Profit percentage"
   ]
  },
  {
   "cell_type": "code",
   "execution_count": 1,
   "metadata": {},
   "outputs": [],
   "source": [
    "\n",
    "import pandas\n",
    "import numpy as np\n",
    "import pandas as pd\n",
    "import seaborn as sns\n",
    "import matplotlib.pyplot as plt\n",
    "import warnings\n",
    "warnings.filterwarnings('ignore')"
   ]
  },
  {
   "cell_type": "code",
   "execution_count": 2,
   "metadata": {},
   "outputs": [],
   "source": [
    "data = pd.read_csv('/home/bipin_sunny/Downloads/practice_project/data/summer-products-with-rating-and-performance_2020-08.csv')\n",
    " "
   ]
  },
  {
   "cell_type": "code",
   "execution_count": 3,
   "metadata": {},
   "outputs": [
    {
     "data": {
      "text/html": [
       "<div>\n",
       "<style scoped>\n",
       "    .dataframe tbody tr th:only-of-type {\n",
       "        vertical-align: middle;\n",
       "    }\n",
       "\n",
       "    .dataframe tbody tr th {\n",
       "        vertical-align: top;\n",
       "    }\n",
       "\n",
       "    .dataframe thead th {\n",
       "        text-align: right;\n",
       "    }\n",
       "</style>\n",
       "<table border=\"1\" class=\"dataframe\">\n",
       "  <thead>\n",
       "    <tr style=\"text-align: right;\">\n",
       "      <th></th>\n",
       "      <th>index</th>\n",
       "      <th>title</th>\n",
       "      <th>title_orig</th>\n",
       "      <th>price</th>\n",
       "      <th>retail_price</th>\n",
       "      <th>currency_buyer</th>\n",
       "      <th>units_sold</th>\n",
       "      <th>uses_ad_boosts</th>\n",
       "      <th>rating</th>\n",
       "      <th>rating_count</th>\n",
       "      <th>...</th>\n",
       "      <th>merchant_rating_count</th>\n",
       "      <th>merchant_rating</th>\n",
       "      <th>merchant_id</th>\n",
       "      <th>merchant_has_profile_picture</th>\n",
       "      <th>merchant_profile_picture</th>\n",
       "      <th>product_url</th>\n",
       "      <th>product_picture</th>\n",
       "      <th>product_id</th>\n",
       "      <th>theme</th>\n",
       "      <th>crawl_month</th>\n",
       "    </tr>\n",
       "  </thead>\n",
       "  <tbody>\n",
       "    <tr>\n",
       "      <th>0</th>\n",
       "      <td>0</td>\n",
       "      <td>2020 Summer Vintage Flamingo Print  Pajamas Se...</td>\n",
       "      <td>2020 Summer Vintage Flamingo Print  Pajamas Se...</td>\n",
       "      <td>16.00</td>\n",
       "      <td>14</td>\n",
       "      <td>EUR</td>\n",
       "      <td>100</td>\n",
       "      <td>0</td>\n",
       "      <td>3.76</td>\n",
       "      <td>54</td>\n",
       "      <td>...</td>\n",
       "      <td>568</td>\n",
       "      <td>4.128521</td>\n",
       "      <td>595097d6a26f6e070cb878d1</td>\n",
       "      <td>0</td>\n",
       "      <td>NaN</td>\n",
       "      <td>https://www.wish.com/c/5e9ae51d43d6a96e303acdb0</td>\n",
       "      <td>https://contestimg.wish.com/api/webimage/5e9ae...</td>\n",
       "      <td>5e9ae51d43d6a96e303acdb0</td>\n",
       "      <td>summer</td>\n",
       "      <td>2020-08</td>\n",
       "    </tr>\n",
       "    <tr>\n",
       "      <th>1</th>\n",
       "      <td>1</td>\n",
       "      <td>SSHOUSE Summer Casual Sleeveless Soirée Party ...</td>\n",
       "      <td>Women's Casual Summer Sleeveless Sexy Mini Dress</td>\n",
       "      <td>8.00</td>\n",
       "      <td>22</td>\n",
       "      <td>EUR</td>\n",
       "      <td>20000</td>\n",
       "      <td>1</td>\n",
       "      <td>3.45</td>\n",
       "      <td>6135</td>\n",
       "      <td>...</td>\n",
       "      <td>17752</td>\n",
       "      <td>3.899673</td>\n",
       "      <td>56458aa03a698c35c9050988</td>\n",
       "      <td>0</td>\n",
       "      <td>NaN</td>\n",
       "      <td>https://www.wish.com/c/58940d436a0d3d5da4e95a38</td>\n",
       "      <td>https://contestimg.wish.com/api/webimage/58940...</td>\n",
       "      <td>58940d436a0d3d5da4e95a38</td>\n",
       "      <td>summer</td>\n",
       "      <td>2020-08</td>\n",
       "    </tr>\n",
       "    <tr>\n",
       "      <th>2</th>\n",
       "      <td>2</td>\n",
       "      <td>2020 Nouvelle Arrivée Femmes Printemps et Été ...</td>\n",
       "      <td>2020 New Arrival Women Spring and Summer Beach...</td>\n",
       "      <td>8.00</td>\n",
       "      <td>43</td>\n",
       "      <td>EUR</td>\n",
       "      <td>100</td>\n",
       "      <td>0</td>\n",
       "      <td>3.57</td>\n",
       "      <td>14</td>\n",
       "      <td>...</td>\n",
       "      <td>295</td>\n",
       "      <td>3.989831</td>\n",
       "      <td>5d464a1ffdf7bc44ee933c65</td>\n",
       "      <td>0</td>\n",
       "      <td>NaN</td>\n",
       "      <td>https://www.wish.com/c/5ea10e2c617580260d55310a</td>\n",
       "      <td>https://contestimg.wish.com/api/webimage/5ea10...</td>\n",
       "      <td>5ea10e2c617580260d55310a</td>\n",
       "      <td>summer</td>\n",
       "      <td>2020-08</td>\n",
       "    </tr>\n",
       "    <tr>\n",
       "      <th>3</th>\n",
       "      <td>3</td>\n",
       "      <td>Hot Summer Cool T-shirt pour les femmes Mode T...</td>\n",
       "      <td>Hot Summer Cool T Shirt for Women Fashion Tops...</td>\n",
       "      <td>8.00</td>\n",
       "      <td>8</td>\n",
       "      <td>EUR</td>\n",
       "      <td>5000</td>\n",
       "      <td>1</td>\n",
       "      <td>4.03</td>\n",
       "      <td>579</td>\n",
       "      <td>...</td>\n",
       "      <td>23832</td>\n",
       "      <td>4.020435</td>\n",
       "      <td>58cfdefdacb37b556efdff7c</td>\n",
       "      <td>0</td>\n",
       "      <td>NaN</td>\n",
       "      <td>https://www.wish.com/c/5cedf17ad1d44c52c59e4aca</td>\n",
       "      <td>https://contestimg.wish.com/api/webimage/5cedf...</td>\n",
       "      <td>5cedf17ad1d44c52c59e4aca</td>\n",
       "      <td>summer</td>\n",
       "      <td>2020-08</td>\n",
       "    </tr>\n",
       "    <tr>\n",
       "      <th>4</th>\n",
       "      <td>4</td>\n",
       "      <td>Femmes Shorts d'été à lacets taille élastique ...</td>\n",
       "      <td>Women Summer Shorts Lace Up Elastic Waistband ...</td>\n",
       "      <td>2.72</td>\n",
       "      <td>3</td>\n",
       "      <td>EUR</td>\n",
       "      <td>100</td>\n",
       "      <td>1</td>\n",
       "      <td>3.10</td>\n",
       "      <td>20</td>\n",
       "      <td>...</td>\n",
       "      <td>14482</td>\n",
       "      <td>4.001588</td>\n",
       "      <td>5ab3b592c3911a095ad5dadb</td>\n",
       "      <td>0</td>\n",
       "      <td>NaN</td>\n",
       "      <td>https://www.wish.com/c/5ebf5819ebac372b070b0e70</td>\n",
       "      <td>https://contestimg.wish.com/api/webimage/5ebf5...</td>\n",
       "      <td>5ebf5819ebac372b070b0e70</td>\n",
       "      <td>summer</td>\n",
       "      <td>2020-08</td>\n",
       "    </tr>\n",
       "    <tr>\n",
       "      <th>5</th>\n",
       "      <td>5</td>\n",
       "      <td>Plus la taille d'été femmes décontracté sans m...</td>\n",
       "      <td>Plus Size Summer Women Casual Sleeveless Rompe...</td>\n",
       "      <td>3.92</td>\n",
       "      <td>9</td>\n",
       "      <td>EUR</td>\n",
       "      <td>10</td>\n",
       "      <td>0</td>\n",
       "      <td>5.00</td>\n",
       "      <td>1</td>\n",
       "      <td>...</td>\n",
       "      <td>65</td>\n",
       "      <td>3.507692</td>\n",
       "      <td>5e4b9c3801ba9d210036fc5a</td>\n",
       "      <td>0</td>\n",
       "      <td>NaN</td>\n",
       "      <td>https://www.wish.com/c/5ec645bafd107a02279c8c54</td>\n",
       "      <td>https://contestimg.wish.com/api/webimage/5ec64...</td>\n",
       "      <td>5ec645bafd107a02279c8c54</td>\n",
       "      <td>summer</td>\n",
       "      <td>2020-08</td>\n",
       "    </tr>\n",
       "    <tr>\n",
       "      <th>6</th>\n",
       "      <td>6</td>\n",
       "      <td>Women Fashion Loose Lace Blouse Blouse V Neck ...</td>\n",
       "      <td>Women Fashion Loose Lace Blouse V Neck Bat Sle...</td>\n",
       "      <td>7.00</td>\n",
       "      <td>6</td>\n",
       "      <td>EUR</td>\n",
       "      <td>50000</td>\n",
       "      <td>0</td>\n",
       "      <td>3.84</td>\n",
       "      <td>6742</td>\n",
       "      <td>...</td>\n",
       "      <td>10194</td>\n",
       "      <td>4.076516</td>\n",
       "      <td>5652f4053a698c76dc9a3f37</td>\n",
       "      <td>1</td>\n",
       "      <td>https://s3-us-west-1.amazonaws.com/sweeper-pro...</td>\n",
       "      <td>https://www.wish.com/c/5c63a337d5e2ce4bbb3152cf</td>\n",
       "      <td>https://contestimg.wish.com/api/webimage/5c63a...</td>\n",
       "      <td>5c63a337d5e2ce4bbb3152cf</td>\n",
       "      <td>summer</td>\n",
       "      <td>2020-08</td>\n",
       "    </tr>\n",
       "    <tr>\n",
       "      <th>7</th>\n",
       "      <td>7</td>\n",
       "      <td>Robe tunique ample femme Robe d'été Robe en je...</td>\n",
       "      <td>Women's Baggy Tunic Dress Summer Dress Denim D...</td>\n",
       "      <td>12.00</td>\n",
       "      <td>11</td>\n",
       "      <td>EUR</td>\n",
       "      <td>1000</td>\n",
       "      <td>0</td>\n",
       "      <td>3.76</td>\n",
       "      <td>286</td>\n",
       "      <td>...</td>\n",
       "      <td>342</td>\n",
       "      <td>3.681287</td>\n",
       "      <td>5d45349676befe65691dcfbb</td>\n",
       "      <td>0</td>\n",
       "      <td>NaN</td>\n",
       "      <td>https://www.wish.com/c/5e0ae5ebc2efb76ccf0a3391</td>\n",
       "      <td>https://contestimg.wish.com/api/webimage/5e0ae...</td>\n",
       "      <td>5e0ae5ebc2efb76ccf0a3391</td>\n",
       "      <td>summer</td>\n",
       "      <td>2020-08</td>\n",
       "    </tr>\n",
       "    <tr>\n",
       "      <th>8</th>\n",
       "      <td>8</td>\n",
       "      <td>Robe d'été décontractée à manches courtes pour...</td>\n",
       "      <td>Women's Summer Casual Dress Fashion Short Slee...</td>\n",
       "      <td>11.00</td>\n",
       "      <td>84</td>\n",
       "      <td>EUR</td>\n",
       "      <td>100</td>\n",
       "      <td>1</td>\n",
       "      <td>3.47</td>\n",
       "      <td>15</td>\n",
       "      <td>...</td>\n",
       "      <td>330</td>\n",
       "      <td>3.803030</td>\n",
       "      <td>5d42980e8388970d32294ddc</td>\n",
       "      <td>0</td>\n",
       "      <td>NaN</td>\n",
       "      <td>https://www.wish.com/c/5e6f1fb7fe4a5bb4b8bf36e5</td>\n",
       "      <td>https://contestimg.wish.com/api/webimage/5e6f1...</td>\n",
       "      <td>5e6f1fb7fe4a5bb4b8bf36e5</td>\n",
       "      <td>summer</td>\n",
       "      <td>2020-08</td>\n",
       "    </tr>\n",
       "    <tr>\n",
       "      <th>9</th>\n",
       "      <td>9</td>\n",
       "      <td>Femmes d'été, plus la taille décontractée lâch...</td>\n",
       "      <td>Summer Women Plus Size Casual Loose V Neck Sho...</td>\n",
       "      <td>5.78</td>\n",
       "      <td>22</td>\n",
       "      <td>EUR</td>\n",
       "      <td>5000</td>\n",
       "      <td>0</td>\n",
       "      <td>3.60</td>\n",
       "      <td>687</td>\n",
       "      <td>...</td>\n",
       "      <td>5534</td>\n",
       "      <td>3.999819</td>\n",
       "      <td>5ba2251b4315d12ebce873fa</td>\n",
       "      <td>0</td>\n",
       "      <td>NaN</td>\n",
       "      <td>https://www.wish.com/c/5ccfaf238a8d535cec2dfb47</td>\n",
       "      <td>https://contestimg.wish.com/api/webimage/5ccfa...</td>\n",
       "      <td>5ccfaf238a8d535cec2dfb47</td>\n",
       "      <td>summer</td>\n",
       "      <td>2020-08</td>\n",
       "    </tr>\n",
       "    <tr>\n",
       "      <th>10</th>\n",
       "      <td>10</td>\n",
       "      <td>Femmes Mode Été Lâche Sans Manches Poches Coul...</td>\n",
       "      <td>Women's Fashion Summer Loose Sleeveless Pocket...</td>\n",
       "      <td>5.79</td>\n",
       "      <td>5</td>\n",
       "      <td>EUR</td>\n",
       "      <td>1000</td>\n",
       "      <td>0</td>\n",
       "      <td>3.46</td>\n",
       "      <td>613</td>\n",
       "      <td>...</td>\n",
       "      <td>9470</td>\n",
       "      <td>3.956811</td>\n",
       "      <td>5952a218e81e8a4c30b5bbbc</td>\n",
       "      <td>0</td>\n",
       "      <td>NaN</td>\n",
       "      <td>https://www.wish.com/c/5cac5af68de7960d89e54fe0</td>\n",
       "      <td>https://contestimg.wish.com/api/webimage/5cac5...</td>\n",
       "      <td>5cac5af68de7960d89e54fe0</td>\n",
       "      <td>summer</td>\n",
       "      <td>2020-08</td>\n",
       "    </tr>\n",
       "    <tr>\n",
       "      <th>11</th>\n",
       "      <td>11</td>\n",
       "      <td>Été Sexy Femmes Mode Casual Lâche Tops Casual ...</td>\n",
       "      <td>Summer Sexy Women Fashion Casual Loose Tops Ca...</td>\n",
       "      <td>6.00</td>\n",
       "      <td>8</td>\n",
       "      <td>EUR</td>\n",
       "      <td>100</td>\n",
       "      <td>1</td>\n",
       "      <td>3.31</td>\n",
       "      <td>13</td>\n",
       "      <td>...</td>\n",
       "      <td>3515</td>\n",
       "      <td>3.983784</td>\n",
       "      <td>56cd27b048e91e13aa3986e4</td>\n",
       "      <td>0</td>\n",
       "      <td>NaN</td>\n",
       "      <td>https://www.wish.com/c/5ec49d527d7044ccfa3f1c04</td>\n",
       "      <td>https://contestimg.wish.com/api/webimage/5ec49...</td>\n",
       "      <td>5ec49d527d7044ccfa3f1c04</td>\n",
       "      <td>summer</td>\n",
       "      <td>2020-08</td>\n",
       "    </tr>\n",
       "    <tr>\n",
       "      <th>12</th>\n",
       "      <td>12</td>\n",
       "      <td>Shorts de causalité d'été de nouvelles femmes ...</td>\n",
       "      <td>New Women's Summer Causal Shorts Drawstring Sh...</td>\n",
       "      <td>1.91</td>\n",
       "      <td>6</td>\n",
       "      <td>EUR</td>\n",
       "      <td>1000</td>\n",
       "      <td>1</td>\n",
       "      <td>3.45</td>\n",
       "      <td>141</td>\n",
       "      <td>...</td>\n",
       "      <td>557</td>\n",
       "      <td>4.123878</td>\n",
       "      <td>5d3c419de4b65d4fb81e7286</td>\n",
       "      <td>0</td>\n",
       "      <td>NaN</td>\n",
       "      <td>https://www.wish.com/c/5e9da39dc737cf255eddd4bf</td>\n",
       "      <td>https://contestimg.wish.com/api/webimage/5e9da...</td>\n",
       "      <td>5e9da39dc737cf255eddd4bf</td>\n",
       "      <td>summer</td>\n",
       "      <td>2020-08</td>\n",
       "    </tr>\n",
       "    <tr>\n",
       "      <th>13</th>\n",
       "      <td>13</td>\n",
       "      <td>Mode féminine sans manches col profond croix s...</td>\n",
       "      <td>Women Fashion Sleeveless Deep Neck Cross Spagh...</td>\n",
       "      <td>5.79</td>\n",
       "      <td>42</td>\n",
       "      <td>EUR</td>\n",
       "      <td>1000</td>\n",
       "      <td>0</td>\n",
       "      <td>3.32</td>\n",
       "      <td>121</td>\n",
       "      <td>...</td>\n",
       "      <td>5083</td>\n",
       "      <td>3.947472</td>\n",
       "      <td>566eaa533a698c6442549a74</td>\n",
       "      <td>0</td>\n",
       "      <td>NaN</td>\n",
       "      <td>https://www.wish.com/c/5d1db3c0e2b5cc0f74e091af</td>\n",
       "      <td>https://contestimg.wish.com/api/webimage/5d1db...</td>\n",
       "      <td>5d1db3c0e2b5cc0f74e091af</td>\n",
       "      <td>summer</td>\n",
       "      <td>2020-08</td>\n",
       "    </tr>\n",
       "    <tr>\n",
       "      <th>14</th>\n",
       "      <td>14</td>\n",
       "      <td>2019 Summer Women's Fashion Nouvelle robe sans...</td>\n",
       "      <td>2019 Summer Women's Fashion New Sleeveless Pol...</td>\n",
       "      <td>2.00</td>\n",
       "      <td>2</td>\n",
       "      <td>EUR</td>\n",
       "      <td>20000</td>\n",
       "      <td>1</td>\n",
       "      <td>3.65</td>\n",
       "      <td>2457</td>\n",
       "      <td>...</td>\n",
       "      <td>55499</td>\n",
       "      <td>4.138885</td>\n",
       "      <td>5926c5ace8ff5525241b368d</td>\n",
       "      <td>0</td>\n",
       "      <td>NaN</td>\n",
       "      <td>https://www.wish.com/c/5cc2ce18bc97595b6549fa14</td>\n",
       "      <td>https://contestimg.wish.com/api/webimage/5cc2c...</td>\n",
       "      <td>5cc2ce18bc97595b6549fa14</td>\n",
       "      <td>summer</td>\n",
       "      <td>2020-08</td>\n",
       "    </tr>\n",
       "    <tr>\n",
       "      <th>15</th>\n",
       "      <td>15</td>\n",
       "      <td>Mode d'été Flare Sleeve Plus Size T-shirt hors...</td>\n",
       "      <td>Summer Fashion Flare Sleeve Plus Size T-shirt ...</td>\n",
       "      <td>11.00</td>\n",
       "      <td>81</td>\n",
       "      <td>EUR</td>\n",
       "      <td>1000</td>\n",
       "      <td>0</td>\n",
       "      <td>3.92</td>\n",
       "      <td>426</td>\n",
       "      <td>...</td>\n",
       "      <td>39381</td>\n",
       "      <td>4.066326</td>\n",
       "      <td>566012f6769a5629aefca555</td>\n",
       "      <td>0</td>\n",
       "      <td>NaN</td>\n",
       "      <td>https://www.wish.com/c/5c85d47641ec3b55d4d14f79</td>\n",
       "      <td>https://contestimg.wish.com/api/webimage/5c85d...</td>\n",
       "      <td>5c85d47641ec3b55d4d14f79</td>\n",
       "      <td>summer</td>\n",
       "      <td>2020-08</td>\n",
       "    </tr>\n",
       "    <tr>\n",
       "      <th>16</th>\n",
       "      <td>16</td>\n",
       "      <td>Nouvelle mode d'été pour femmes Robe sans manc...</td>\n",
       "      <td>New Summer Women's Fashion Sleeveless Polka Do...</td>\n",
       "      <td>11.00</td>\n",
       "      <td>10</td>\n",
       "      <td>EUR</td>\n",
       "      <td>10000</td>\n",
       "      <td>0</td>\n",
       "      <td>3.72</td>\n",
       "      <td>2058</td>\n",
       "      <td>...</td>\n",
       "      <td>6302</td>\n",
       "      <td>3.958426</td>\n",
       "      <td>5b8beef49996c87b299cdbec</td>\n",
       "      <td>0</td>\n",
       "      <td>NaN</td>\n",
       "      <td>https://www.wish.com/c/5cd3e795ebe403118bbc0f89</td>\n",
       "      <td>https://contestimg.wish.com/api/webimage/5cd3e...</td>\n",
       "      <td>5cd3e795ebe403118bbc0f89</td>\n",
       "      <td>summer</td>\n",
       "      <td>2020-08</td>\n",
       "    </tr>\n",
       "    <tr>\n",
       "      <th>17</th>\n",
       "      <td>17</td>\n",
       "      <td>2018 New Fashion Women's Tops Sexy Strappy Sle...</td>\n",
       "      <td>2018 New Fashion Women's Tops Sexy Strappy Sle...</td>\n",
       "      <td>5.00</td>\n",
       "      <td>25</td>\n",
       "      <td>EUR</td>\n",
       "      <td>100000</td>\n",
       "      <td>1</td>\n",
       "      <td>3.83</td>\n",
       "      <td>17980</td>\n",
       "      <td>...</td>\n",
       "      <td>139223</td>\n",
       "      <td>3.933581</td>\n",
       "      <td>5708773c3c02161b3f8c7900</td>\n",
       "      <td>0</td>\n",
       "      <td>NaN</td>\n",
       "      <td>https://www.wish.com/c/5b07a7c6e997b33c6f9947da</td>\n",
       "      <td>https://contestimg.wish.com/api/webimage/5b07a...</td>\n",
       "      <td>5b07a7c6e997b33c6f9947da</td>\n",
       "      <td>summer</td>\n",
       "      <td>2020-08</td>\n",
       "    </tr>\n",
       "    <tr>\n",
       "      <th>18</th>\n",
       "      <td>18</td>\n",
       "      <td>Débardeur d'été 5 Couleurs Grandes Tailles été...</td>\n",
       "      <td>5 Color Plus Size Summer New Women Fashion Lad...</td>\n",
       "      <td>9.00</td>\n",
       "      <td>9</td>\n",
       "      <td>EUR</td>\n",
       "      <td>20000</td>\n",
       "      <td>0</td>\n",
       "      <td>3.82</td>\n",
       "      <td>5479</td>\n",
       "      <td>...</td>\n",
       "      <td>22089</td>\n",
       "      <td>4.081624</td>\n",
       "      <td>59cdc2112351344fc0dfa54f</td>\n",
       "      <td>0</td>\n",
       "      <td>NaN</td>\n",
       "      <td>https://www.wish.com/c/5a8f82375e2ae101c8913122</td>\n",
       "      <td>https://contestimg.wish.com/api/webimage/5a8f8...</td>\n",
       "      <td>5a8f82375e2ae101c8913122</td>\n",
       "      <td>summer</td>\n",
       "      <td>2020-08</td>\n",
       "    </tr>\n",
       "    <tr>\n",
       "      <th>19</th>\n",
       "      <td>19</td>\n",
       "      <td>S ~ 5XL Zipper Vest Tee Nouveau Col En V Sans ...</td>\n",
       "      <td>S~5XL Zipper Vest Tee New V-neck Sleeveless Pl...</td>\n",
       "      <td>7.00</td>\n",
       "      <td>7</td>\n",
       "      <td>EUR</td>\n",
       "      <td>1000</td>\n",
       "      <td>0</td>\n",
       "      <td>3.67</td>\n",
       "      <td>214</td>\n",
       "      <td>...</td>\n",
       "      <td>3592</td>\n",
       "      <td>4.062361</td>\n",
       "      <td>5ae296b6cd968d66be12d247</td>\n",
       "      <td>0</td>\n",
       "      <td>NaN</td>\n",
       "      <td>https://www.wish.com/c/5cf648ce373ac2069fd6317d</td>\n",
       "      <td>https://contestimg.wish.com/api/webimage/5cf64...</td>\n",
       "      <td>5cf648ce373ac2069fd6317d</td>\n",
       "      <td>summer</td>\n",
       "      <td>2020-08</td>\n",
       "    </tr>\n",
       "    <tr>\n",
       "      <th>20</th>\n",
       "      <td>20</td>\n",
       "      <td>Top Maillot de bain Ensembles Mode Maillots de...</td>\n",
       "      <td>Top Swimsuit Sets Fashion Swimwear Women Bikin...</td>\n",
       "      <td>11.00</td>\n",
       "      <td>10</td>\n",
       "      <td>EUR</td>\n",
       "      <td>5000</td>\n",
       "      <td>0</td>\n",
       "      <td>3.84</td>\n",
       "      <td>1183</td>\n",
       "      <td>...</td>\n",
       "      <td>23609</td>\n",
       "      <td>4.256597</td>\n",
       "      <td>5576bb43de4a8c24953ae98f</td>\n",
       "      <td>0</td>\n",
       "      <td>NaN</td>\n",
       "      <td>https://www.wish.com/c/57416238fc6f7d5d698f3c9f</td>\n",
       "      <td>https://contestimg.wish.com/api/webimage/57416...</td>\n",
       "      <td>57416238fc6f7d5d698f3c9f</td>\n",
       "      <td>summer</td>\n",
       "      <td>2020-08</td>\n",
       "    </tr>\n",
       "    <tr>\n",
       "      <th>21</th>\n",
       "      <td>21</td>\n",
       "      <td>Gilet d'été pour femmes Gilet de mode couleur ...</td>\n",
       "      <td>Summer Women Fashion Vest Solid Color Women Sl...</td>\n",
       "      <td>5.00</td>\n",
       "      <td>6</td>\n",
       "      <td>EUR</td>\n",
       "      <td>20000</td>\n",
       "      <td>0</td>\n",
       "      <td>3.60</td>\n",
       "      <td>3552</td>\n",
       "      <td>...</td>\n",
       "      <td>12913</td>\n",
       "      <td>3.981337</td>\n",
       "      <td>55ed5a3362e273427107759e</td>\n",
       "      <td>1</td>\n",
       "      <td>https://s3-us-west-1.amazonaws.com/sweeper-pro...</td>\n",
       "      <td>https://www.wish.com/c/5c244b73e6a1c618296f73db</td>\n",
       "      <td>https://contestimg.wish.com/api/webimage/5c244...</td>\n",
       "      <td>5c244b73e6a1c618296f73db</td>\n",
       "      <td>summer</td>\n",
       "      <td>2020-08</td>\n",
       "    </tr>\n",
       "    <tr>\n",
       "      <th>22</th>\n",
       "      <td>22</td>\n",
       "      <td>Conception de rosée Femmes Mode D'été Sexy Col...</td>\n",
       "      <td>Dew Design Women Summer Fashion Sexy V-Neck Ve...</td>\n",
       "      <td>11.00</td>\n",
       "      <td>26</td>\n",
       "      <td>EUR</td>\n",
       "      <td>1000</td>\n",
       "      <td>0</td>\n",
       "      <td>3.38</td>\n",
       "      <td>72</td>\n",
       "      <td>...</td>\n",
       "      <td>4516</td>\n",
       "      <td>4.231842</td>\n",
       "      <td>5ae93337d204cc177313f242</td>\n",
       "      <td>0</td>\n",
       "      <td>NaN</td>\n",
       "      <td>https://www.wish.com/c/5e1056784fff5f26e6f1745d</td>\n",
       "      <td>https://contestimg.wish.com/api/webimage/5e105...</td>\n",
       "      <td>5e1056784fff5f26e6f1745d</td>\n",
       "      <td>summer</td>\n",
       "      <td>2020-08</td>\n",
       "    </tr>\n",
       "    <tr>\n",
       "      <th>23</th>\n",
       "      <td>23</td>\n",
       "      <td>Mode d'été Femmes À Manches Courtes U-cou Slim...</td>\n",
       "      <td>Summer Fashion Women Short Sleeve U-neck Slim ...</td>\n",
       "      <td>7.00</td>\n",
       "      <td>6</td>\n",
       "      <td>EUR</td>\n",
       "      <td>5000</td>\n",
       "      <td>1</td>\n",
       "      <td>3.67</td>\n",
       "      <td>510</td>\n",
       "      <td>...</td>\n",
       "      <td>96838</td>\n",
       "      <td>4.264659</td>\n",
       "      <td>5cb636dda7173671aedef051</td>\n",
       "      <td>0</td>\n",
       "      <td>NaN</td>\n",
       "      <td>https://www.wish.com/c/5d15731024c17f6b8b9bd97a</td>\n",
       "      <td>https://contestimg.wish.com/api/webimage/5d157...</td>\n",
       "      <td>5d15731024c17f6b8b9bd97a</td>\n",
       "      <td>summer</td>\n",
       "      <td>2020-08</td>\n",
       "    </tr>\n",
       "    <tr>\n",
       "      <th>24</th>\n",
       "      <td>24</td>\n",
       "      <td>Nouvelle mode pour dames Débardeurs d'été Tops...</td>\n",
       "      <td>New Ladies Fashion Summer Tank Tops Sexy Backl...</td>\n",
       "      <td>5.71</td>\n",
       "      <td>5</td>\n",
       "      <td>EUR</td>\n",
       "      <td>1000</td>\n",
       "      <td>0</td>\n",
       "      <td>3.75</td>\n",
       "      <td>678</td>\n",
       "      <td>...</td>\n",
       "      <td>80093</td>\n",
       "      <td>4.006692</td>\n",
       "      <td>583138b06339b410ab9663ec</td>\n",
       "      <td>0</td>\n",
       "      <td>NaN</td>\n",
       "      <td>https://www.wish.com/c/5c63adf7edc5d6528e8b1ca3</td>\n",
       "      <td>https://contestimg.wish.com/api/webimage/5c63a...</td>\n",
       "      <td>5c63adf7edc5d6528e8b1ca3</td>\n",
       "      <td>summer</td>\n",
       "      <td>2020-08</td>\n",
       "    </tr>\n",
       "    <tr>\n",
       "      <th>25</th>\n",
       "      <td>25</td>\n",
       "      <td>2018 Mode d'été Femme Camouflage décontracté C...</td>\n",
       "      <td>2018 Summer Fashion Women Casual Camouflage Ta...</td>\n",
       "      <td>9.00</td>\n",
       "      <td>32</td>\n",
       "      <td>EUR</td>\n",
       "      <td>1000</td>\n",
       "      <td>0</td>\n",
       "      <td>4.15</td>\n",
       "      <td>567</td>\n",
       "      <td>...</td>\n",
       "      <td>9395</td>\n",
       "      <td>4.110059</td>\n",
       "      <td>575cfe470551415caa5505b5</td>\n",
       "      <td>0</td>\n",
       "      <td>NaN</td>\n",
       "      <td>https://www.wish.com/c/5bed2a42bdf0421a30e62c6c</td>\n",
       "      <td>https://contestimg.wish.com/api/webimage/5bed2...</td>\n",
       "      <td>5bed2a42bdf0421a30e62c6c</td>\n",
       "      <td>summer</td>\n",
       "      <td>2020-08</td>\n",
       "    </tr>\n",
       "    <tr>\n",
       "      <th>26</th>\n",
       "      <td>26</td>\n",
       "      <td>Nouveau Femme Dentelle Crochet Bikini Maillot ...</td>\n",
       "      <td>New Women Lace Crochet Bikini Cover Up Swimwea...</td>\n",
       "      <td>9.00</td>\n",
       "      <td>9</td>\n",
       "      <td>EUR</td>\n",
       "      <td>1000</td>\n",
       "      <td>0</td>\n",
       "      <td>4.03</td>\n",
       "      <td>216</td>\n",
       "      <td>...</td>\n",
       "      <td>4298</td>\n",
       "      <td>4.229409</td>\n",
       "      <td>5a0fe8770a332a615df86c5e</td>\n",
       "      <td>0</td>\n",
       "      <td>NaN</td>\n",
       "      <td>https://www.wish.com/c/5b5edbae1e222732845e655f</td>\n",
       "      <td>https://contestimg.wish.com/api/webimage/5b5ed...</td>\n",
       "      <td>5b5edbae1e222732845e655f</td>\n",
       "      <td>summer</td>\n",
       "      <td>2020-08</td>\n",
       "    </tr>\n",
       "    <tr>\n",
       "      <th>27</th>\n",
       "      <td>27</td>\n",
       "      <td>Printemps/Été Mode Femme \"miel\" Lettre Imprim...</td>\n",
       "      <td>Spring/Summer Fashion Women \"honey\"Letter Pri...</td>\n",
       "      <td>5.65</td>\n",
       "      <td>5</td>\n",
       "      <td>EUR</td>\n",
       "      <td>20000</td>\n",
       "      <td>0</td>\n",
       "      <td>4.29</td>\n",
       "      <td>2996</td>\n",
       "      <td>...</td>\n",
       "      <td>40943</td>\n",
       "      <td>4.017488</td>\n",
       "      <td>56c6f731bc435416ed5984d7</td>\n",
       "      <td>0</td>\n",
       "      <td>NaN</td>\n",
       "      <td>https://www.wish.com/c/5a4f2d8f5dcd0221008b2c36</td>\n",
       "      <td>https://contestimg.wish.com/api/webimage/5a4f2...</td>\n",
       "      <td>5a4f2d8f5dcd0221008b2c36</td>\n",
       "      <td>summer</td>\n",
       "      <td>2020-08</td>\n",
       "    </tr>\n",
       "    <tr>\n",
       "      <th>28</th>\n",
       "      <td>28</td>\n",
       "      <td>2020 nouvelle mode d'été femmes sans manches n...</td>\n",
       "      <td>2020 New Fashion Summer Women Sleeveless Black...</td>\n",
       "      <td>1.74</td>\n",
       "      <td>2</td>\n",
       "      <td>EUR</td>\n",
       "      <td>100</td>\n",
       "      <td>1</td>\n",
       "      <td>4.25</td>\n",
       "      <td>12</td>\n",
       "      <td>...</td>\n",
       "      <td>18138</td>\n",
       "      <td>3.831514</td>\n",
       "      <td>58ba636a69ad29505a730852</td>\n",
       "      <td>0</td>\n",
       "      <td>NaN</td>\n",
       "      <td>https://www.wish.com/c/5e5e09065b03ef0b420f333f</td>\n",
       "      <td>https://contestimg.wish.com/api/webimage/5e5e0...</td>\n",
       "      <td>5e5e09065b03ef0b420f333f</td>\n",
       "      <td>summer</td>\n",
       "      <td>2020-08</td>\n",
       "    </tr>\n",
       "    <tr>\n",
       "      <th>29</th>\n",
       "      <td>29</td>\n",
       "      <td>4 Couleur Femmes Mode Casual Couleur Unie Tops...</td>\n",
       "      <td>4 Color Women's Fashion Casual Solid Color top...</td>\n",
       "      <td>5.65</td>\n",
       "      <td>6</td>\n",
       "      <td>EUR</td>\n",
       "      <td>1000</td>\n",
       "      <td>0</td>\n",
       "      <td>4.06</td>\n",
       "      <td>301</td>\n",
       "      <td>...</td>\n",
       "      <td>7034</td>\n",
       "      <td>4.060279</td>\n",
       "      <td>5adef3559d5e9767b3177472</td>\n",
       "      <td>0</td>\n",
       "      <td>NaN</td>\n",
       "      <td>https://www.wish.com/c/5cc0049aca0c3b3d01a87964</td>\n",
       "      <td>https://contestimg.wish.com/api/webimage/5cc00...</td>\n",
       "      <td>5cc0049aca0c3b3d01a87964</td>\n",
       "      <td>summer</td>\n",
       "      <td>2020-08</td>\n",
       "    </tr>\n",
       "  </tbody>\n",
       "</table>\n",
       "<p>30 rows × 44 columns</p>\n",
       "</div>"
      ],
      "text/plain": [
       "    index                                              title  \\\n",
       "0       0  2020 Summer Vintage Flamingo Print  Pajamas Se...   \n",
       "1       1  SSHOUSE Summer Casual Sleeveless Soirée Party ...   \n",
       "2       2  2020 Nouvelle Arrivée Femmes Printemps et Été ...   \n",
       "3       3  Hot Summer Cool T-shirt pour les femmes Mode T...   \n",
       "4       4  Femmes Shorts d'été à lacets taille élastique ...   \n",
       "5       5  Plus la taille d'été femmes décontracté sans m...   \n",
       "6       6  Women Fashion Loose Lace Blouse Blouse V Neck ...   \n",
       "7       7  Robe tunique ample femme Robe d'été Robe en je...   \n",
       "8       8  Robe d'été décontractée à manches courtes pour...   \n",
       "9       9  Femmes d'été, plus la taille décontractée lâch...   \n",
       "10     10  Femmes Mode Été Lâche Sans Manches Poches Coul...   \n",
       "11     11  Été Sexy Femmes Mode Casual Lâche Tops Casual ...   \n",
       "12     12  Shorts de causalité d'été de nouvelles femmes ...   \n",
       "13     13  Mode féminine sans manches col profond croix s...   \n",
       "14     14  2019 Summer Women's Fashion Nouvelle robe sans...   \n",
       "15     15  Mode d'été Flare Sleeve Plus Size T-shirt hors...   \n",
       "16     16  Nouvelle mode d'été pour femmes Robe sans manc...   \n",
       "17     17  2018 New Fashion Women's Tops Sexy Strappy Sle...   \n",
       "18     18  Débardeur d'été 5 Couleurs Grandes Tailles été...   \n",
       "19     19  S ~ 5XL Zipper Vest Tee Nouveau Col En V Sans ...   \n",
       "20     20  Top Maillot de bain Ensembles Mode Maillots de...   \n",
       "21     21  Gilet d'été pour femmes Gilet de mode couleur ...   \n",
       "22     22  Conception de rosée Femmes Mode D'été Sexy Col...   \n",
       "23     23  Mode d'été Femmes À Manches Courtes U-cou Slim...   \n",
       "24     24  Nouvelle mode pour dames Débardeurs d'été Tops...   \n",
       "25     25  2018 Mode d'été Femme Camouflage décontracté C...   \n",
       "26     26  Nouveau Femme Dentelle Crochet Bikini Maillot ...   \n",
       "27     27   Printemps/Été Mode Femme \"miel\" Lettre Imprim...   \n",
       "28     28  2020 nouvelle mode d'été femmes sans manches n...   \n",
       "29     29  4 Couleur Femmes Mode Casual Couleur Unie Tops...   \n",
       "\n",
       "                                           title_orig  price  retail_price  \\\n",
       "0   2020 Summer Vintage Flamingo Print  Pajamas Se...  16.00            14   \n",
       "1    Women's Casual Summer Sleeveless Sexy Mini Dress   8.00            22   \n",
       "2   2020 New Arrival Women Spring and Summer Beach...   8.00            43   \n",
       "3   Hot Summer Cool T Shirt for Women Fashion Tops...   8.00             8   \n",
       "4   Women Summer Shorts Lace Up Elastic Waistband ...   2.72             3   \n",
       "5   Plus Size Summer Women Casual Sleeveless Rompe...   3.92             9   \n",
       "6   Women Fashion Loose Lace Blouse V Neck Bat Sle...   7.00             6   \n",
       "7   Women's Baggy Tunic Dress Summer Dress Denim D...  12.00            11   \n",
       "8   Women's Summer Casual Dress Fashion Short Slee...  11.00            84   \n",
       "9   Summer Women Plus Size Casual Loose V Neck Sho...   5.78            22   \n",
       "10  Women's Fashion Summer Loose Sleeveless Pocket...   5.79             5   \n",
       "11  Summer Sexy Women Fashion Casual Loose Tops Ca...   6.00             8   \n",
       "12  New Women's Summer Causal Shorts Drawstring Sh...   1.91             6   \n",
       "13  Women Fashion Sleeveless Deep Neck Cross Spagh...   5.79            42   \n",
       "14  2019 Summer Women's Fashion New Sleeveless Pol...   2.00             2   \n",
       "15  Summer Fashion Flare Sleeve Plus Size T-shirt ...  11.00            81   \n",
       "16  New Summer Women's Fashion Sleeveless Polka Do...  11.00            10   \n",
       "17  2018 New Fashion Women's Tops Sexy Strappy Sle...   5.00            25   \n",
       "18  5 Color Plus Size Summer New Women Fashion Lad...   9.00             9   \n",
       "19  S~5XL Zipper Vest Tee New V-neck Sleeveless Pl...   7.00             7   \n",
       "20  Top Swimsuit Sets Fashion Swimwear Women Bikin...  11.00            10   \n",
       "21  Summer Women Fashion Vest Solid Color Women Sl...   5.00             6   \n",
       "22  Dew Design Women Summer Fashion Sexy V-Neck Ve...  11.00            26   \n",
       "23  Summer Fashion Women Short Sleeve U-neck Slim ...   7.00             6   \n",
       "24  New Ladies Fashion Summer Tank Tops Sexy Backl...   5.71             5   \n",
       "25  2018 Summer Fashion Women Casual Camouflage Ta...   9.00            32   \n",
       "26  New Women Lace Crochet Bikini Cover Up Swimwea...   9.00             9   \n",
       "27   Spring/Summer Fashion Women \"honey\"Letter Pri...   5.65             5   \n",
       "28  2020 New Fashion Summer Women Sleeveless Black...   1.74             2   \n",
       "29  4 Color Women's Fashion Casual Solid Color top...   5.65             6   \n",
       "\n",
       "   currency_buyer  units_sold  uses_ad_boosts  rating  rating_count  ...  \\\n",
       "0             EUR         100               0    3.76            54  ...   \n",
       "1             EUR       20000               1    3.45          6135  ...   \n",
       "2             EUR         100               0    3.57            14  ...   \n",
       "3             EUR        5000               1    4.03           579  ...   \n",
       "4             EUR         100               1    3.10            20  ...   \n",
       "5             EUR          10               0    5.00             1  ...   \n",
       "6             EUR       50000               0    3.84          6742  ...   \n",
       "7             EUR        1000               0    3.76           286  ...   \n",
       "8             EUR         100               1    3.47            15  ...   \n",
       "9             EUR        5000               0    3.60           687  ...   \n",
       "10            EUR        1000               0    3.46           613  ...   \n",
       "11            EUR         100               1    3.31            13  ...   \n",
       "12            EUR        1000               1    3.45           141  ...   \n",
       "13            EUR        1000               0    3.32           121  ...   \n",
       "14            EUR       20000               1    3.65          2457  ...   \n",
       "15            EUR        1000               0    3.92           426  ...   \n",
       "16            EUR       10000               0    3.72          2058  ...   \n",
       "17            EUR      100000               1    3.83         17980  ...   \n",
       "18            EUR       20000               0    3.82          5479  ...   \n",
       "19            EUR        1000               0    3.67           214  ...   \n",
       "20            EUR        5000               0    3.84          1183  ...   \n",
       "21            EUR       20000               0    3.60          3552  ...   \n",
       "22            EUR        1000               0    3.38            72  ...   \n",
       "23            EUR        5000               1    3.67           510  ...   \n",
       "24            EUR        1000               0    3.75           678  ...   \n",
       "25            EUR        1000               0    4.15           567  ...   \n",
       "26            EUR        1000               0    4.03           216  ...   \n",
       "27            EUR       20000               0    4.29          2996  ...   \n",
       "28            EUR         100               1    4.25            12  ...   \n",
       "29            EUR        1000               0    4.06           301  ...   \n",
       "\n",
       "    merchant_rating_count  merchant_rating               merchant_id  \\\n",
       "0                     568         4.128521  595097d6a26f6e070cb878d1   \n",
       "1                   17752         3.899673  56458aa03a698c35c9050988   \n",
       "2                     295         3.989831  5d464a1ffdf7bc44ee933c65   \n",
       "3                   23832         4.020435  58cfdefdacb37b556efdff7c   \n",
       "4                   14482         4.001588  5ab3b592c3911a095ad5dadb   \n",
       "5                      65         3.507692  5e4b9c3801ba9d210036fc5a   \n",
       "6                   10194         4.076516  5652f4053a698c76dc9a3f37   \n",
       "7                     342         3.681287  5d45349676befe65691dcfbb   \n",
       "8                     330         3.803030  5d42980e8388970d32294ddc   \n",
       "9                    5534         3.999819  5ba2251b4315d12ebce873fa   \n",
       "10                   9470         3.956811  5952a218e81e8a4c30b5bbbc   \n",
       "11                   3515         3.983784  56cd27b048e91e13aa3986e4   \n",
       "12                    557         4.123878  5d3c419de4b65d4fb81e7286   \n",
       "13                   5083         3.947472  566eaa533a698c6442549a74   \n",
       "14                  55499         4.138885  5926c5ace8ff5525241b368d   \n",
       "15                  39381         4.066326  566012f6769a5629aefca555   \n",
       "16                   6302         3.958426  5b8beef49996c87b299cdbec   \n",
       "17                 139223         3.933581  5708773c3c02161b3f8c7900   \n",
       "18                  22089         4.081624  59cdc2112351344fc0dfa54f   \n",
       "19                   3592         4.062361  5ae296b6cd968d66be12d247   \n",
       "20                  23609         4.256597  5576bb43de4a8c24953ae98f   \n",
       "21                  12913         3.981337  55ed5a3362e273427107759e   \n",
       "22                   4516         4.231842  5ae93337d204cc177313f242   \n",
       "23                  96838         4.264659  5cb636dda7173671aedef051   \n",
       "24                  80093         4.006692  583138b06339b410ab9663ec   \n",
       "25                   9395         4.110059  575cfe470551415caa5505b5   \n",
       "26                   4298         4.229409  5a0fe8770a332a615df86c5e   \n",
       "27                  40943         4.017488  56c6f731bc435416ed5984d7   \n",
       "28                  18138         3.831514  58ba636a69ad29505a730852   \n",
       "29                   7034         4.060279  5adef3559d5e9767b3177472   \n",
       "\n",
       "    merchant_has_profile_picture  \\\n",
       "0                              0   \n",
       "1                              0   \n",
       "2                              0   \n",
       "3                              0   \n",
       "4                              0   \n",
       "5                              0   \n",
       "6                              1   \n",
       "7                              0   \n",
       "8                              0   \n",
       "9                              0   \n",
       "10                             0   \n",
       "11                             0   \n",
       "12                             0   \n",
       "13                             0   \n",
       "14                             0   \n",
       "15                             0   \n",
       "16                             0   \n",
       "17                             0   \n",
       "18                             0   \n",
       "19                             0   \n",
       "20                             0   \n",
       "21                             1   \n",
       "22                             0   \n",
       "23                             0   \n",
       "24                             0   \n",
       "25                             0   \n",
       "26                             0   \n",
       "27                             0   \n",
       "28                             0   \n",
       "29                             0   \n",
       "\n",
       "                             merchant_profile_picture  \\\n",
       "0                                                 NaN   \n",
       "1                                                 NaN   \n",
       "2                                                 NaN   \n",
       "3                                                 NaN   \n",
       "4                                                 NaN   \n",
       "5                                                 NaN   \n",
       "6   https://s3-us-west-1.amazonaws.com/sweeper-pro...   \n",
       "7                                                 NaN   \n",
       "8                                                 NaN   \n",
       "9                                                 NaN   \n",
       "10                                                NaN   \n",
       "11                                                NaN   \n",
       "12                                                NaN   \n",
       "13                                                NaN   \n",
       "14                                                NaN   \n",
       "15                                                NaN   \n",
       "16                                                NaN   \n",
       "17                                                NaN   \n",
       "18                                                NaN   \n",
       "19                                                NaN   \n",
       "20                                                NaN   \n",
       "21  https://s3-us-west-1.amazonaws.com/sweeper-pro...   \n",
       "22                                                NaN   \n",
       "23                                                NaN   \n",
       "24                                                NaN   \n",
       "25                                                NaN   \n",
       "26                                                NaN   \n",
       "27                                                NaN   \n",
       "28                                                NaN   \n",
       "29                                                NaN   \n",
       "\n",
       "                                        product_url  \\\n",
       "0   https://www.wish.com/c/5e9ae51d43d6a96e303acdb0   \n",
       "1   https://www.wish.com/c/58940d436a0d3d5da4e95a38   \n",
       "2   https://www.wish.com/c/5ea10e2c617580260d55310a   \n",
       "3   https://www.wish.com/c/5cedf17ad1d44c52c59e4aca   \n",
       "4   https://www.wish.com/c/5ebf5819ebac372b070b0e70   \n",
       "5   https://www.wish.com/c/5ec645bafd107a02279c8c54   \n",
       "6   https://www.wish.com/c/5c63a337d5e2ce4bbb3152cf   \n",
       "7   https://www.wish.com/c/5e0ae5ebc2efb76ccf0a3391   \n",
       "8   https://www.wish.com/c/5e6f1fb7fe4a5bb4b8bf36e5   \n",
       "9   https://www.wish.com/c/5ccfaf238a8d535cec2dfb47   \n",
       "10  https://www.wish.com/c/5cac5af68de7960d89e54fe0   \n",
       "11  https://www.wish.com/c/5ec49d527d7044ccfa3f1c04   \n",
       "12  https://www.wish.com/c/5e9da39dc737cf255eddd4bf   \n",
       "13  https://www.wish.com/c/5d1db3c0e2b5cc0f74e091af   \n",
       "14  https://www.wish.com/c/5cc2ce18bc97595b6549fa14   \n",
       "15  https://www.wish.com/c/5c85d47641ec3b55d4d14f79   \n",
       "16  https://www.wish.com/c/5cd3e795ebe403118bbc0f89   \n",
       "17  https://www.wish.com/c/5b07a7c6e997b33c6f9947da   \n",
       "18  https://www.wish.com/c/5a8f82375e2ae101c8913122   \n",
       "19  https://www.wish.com/c/5cf648ce373ac2069fd6317d   \n",
       "20  https://www.wish.com/c/57416238fc6f7d5d698f3c9f   \n",
       "21  https://www.wish.com/c/5c244b73e6a1c618296f73db   \n",
       "22  https://www.wish.com/c/5e1056784fff5f26e6f1745d   \n",
       "23  https://www.wish.com/c/5d15731024c17f6b8b9bd97a   \n",
       "24  https://www.wish.com/c/5c63adf7edc5d6528e8b1ca3   \n",
       "25  https://www.wish.com/c/5bed2a42bdf0421a30e62c6c   \n",
       "26  https://www.wish.com/c/5b5edbae1e222732845e655f   \n",
       "27  https://www.wish.com/c/5a4f2d8f5dcd0221008b2c36   \n",
       "28  https://www.wish.com/c/5e5e09065b03ef0b420f333f   \n",
       "29  https://www.wish.com/c/5cc0049aca0c3b3d01a87964   \n",
       "\n",
       "                                      product_picture  \\\n",
       "0   https://contestimg.wish.com/api/webimage/5e9ae...   \n",
       "1   https://contestimg.wish.com/api/webimage/58940...   \n",
       "2   https://contestimg.wish.com/api/webimage/5ea10...   \n",
       "3   https://contestimg.wish.com/api/webimage/5cedf...   \n",
       "4   https://contestimg.wish.com/api/webimage/5ebf5...   \n",
       "5   https://contestimg.wish.com/api/webimage/5ec64...   \n",
       "6   https://contestimg.wish.com/api/webimage/5c63a...   \n",
       "7   https://contestimg.wish.com/api/webimage/5e0ae...   \n",
       "8   https://contestimg.wish.com/api/webimage/5e6f1...   \n",
       "9   https://contestimg.wish.com/api/webimage/5ccfa...   \n",
       "10  https://contestimg.wish.com/api/webimage/5cac5...   \n",
       "11  https://contestimg.wish.com/api/webimage/5ec49...   \n",
       "12  https://contestimg.wish.com/api/webimage/5e9da...   \n",
       "13  https://contestimg.wish.com/api/webimage/5d1db...   \n",
       "14  https://contestimg.wish.com/api/webimage/5cc2c...   \n",
       "15  https://contestimg.wish.com/api/webimage/5c85d...   \n",
       "16  https://contestimg.wish.com/api/webimage/5cd3e...   \n",
       "17  https://contestimg.wish.com/api/webimage/5b07a...   \n",
       "18  https://contestimg.wish.com/api/webimage/5a8f8...   \n",
       "19  https://contestimg.wish.com/api/webimage/5cf64...   \n",
       "20  https://contestimg.wish.com/api/webimage/57416...   \n",
       "21  https://contestimg.wish.com/api/webimage/5c244...   \n",
       "22  https://contestimg.wish.com/api/webimage/5e105...   \n",
       "23  https://contestimg.wish.com/api/webimage/5d157...   \n",
       "24  https://contestimg.wish.com/api/webimage/5c63a...   \n",
       "25  https://contestimg.wish.com/api/webimage/5bed2...   \n",
       "26  https://contestimg.wish.com/api/webimage/5b5ed...   \n",
       "27  https://contestimg.wish.com/api/webimage/5a4f2...   \n",
       "28  https://contestimg.wish.com/api/webimage/5e5e0...   \n",
       "29  https://contestimg.wish.com/api/webimage/5cc00...   \n",
       "\n",
       "                  product_id   theme crawl_month  \n",
       "0   5e9ae51d43d6a96e303acdb0  summer     2020-08  \n",
       "1   58940d436a0d3d5da4e95a38  summer     2020-08  \n",
       "2   5ea10e2c617580260d55310a  summer     2020-08  \n",
       "3   5cedf17ad1d44c52c59e4aca  summer     2020-08  \n",
       "4   5ebf5819ebac372b070b0e70  summer     2020-08  \n",
       "5   5ec645bafd107a02279c8c54  summer     2020-08  \n",
       "6   5c63a337d5e2ce4bbb3152cf  summer     2020-08  \n",
       "7   5e0ae5ebc2efb76ccf0a3391  summer     2020-08  \n",
       "8   5e6f1fb7fe4a5bb4b8bf36e5  summer     2020-08  \n",
       "9   5ccfaf238a8d535cec2dfb47  summer     2020-08  \n",
       "10  5cac5af68de7960d89e54fe0  summer     2020-08  \n",
       "11  5ec49d527d7044ccfa3f1c04  summer     2020-08  \n",
       "12  5e9da39dc737cf255eddd4bf  summer     2020-08  \n",
       "13  5d1db3c0e2b5cc0f74e091af  summer     2020-08  \n",
       "14  5cc2ce18bc97595b6549fa14  summer     2020-08  \n",
       "15  5c85d47641ec3b55d4d14f79  summer     2020-08  \n",
       "16  5cd3e795ebe403118bbc0f89  summer     2020-08  \n",
       "17  5b07a7c6e997b33c6f9947da  summer     2020-08  \n",
       "18  5a8f82375e2ae101c8913122  summer     2020-08  \n",
       "19  5cf648ce373ac2069fd6317d  summer     2020-08  \n",
       "20  57416238fc6f7d5d698f3c9f  summer     2020-08  \n",
       "21  5c244b73e6a1c618296f73db  summer     2020-08  \n",
       "22  5e1056784fff5f26e6f1745d  summer     2020-08  \n",
       "23  5d15731024c17f6b8b9bd97a  summer     2020-08  \n",
       "24  5c63adf7edc5d6528e8b1ca3  summer     2020-08  \n",
       "25  5bed2a42bdf0421a30e62c6c  summer     2020-08  \n",
       "26  5b5edbae1e222732845e655f  summer     2020-08  \n",
       "27  5a4f2d8f5dcd0221008b2c36  summer     2020-08  \n",
       "28  5e5e09065b03ef0b420f333f  summer     2020-08  \n",
       "29  5cc0049aca0c3b3d01a87964  summer     2020-08  \n",
       "\n",
       "[30 rows x 44 columns]"
      ]
     },
     "execution_count": 3,
     "metadata": {},
     "output_type": "execute_result"
    }
   ],
   "source": [
    "data.head(30)"
   ]
  },
  {
   "cell_type": "markdown",
   "metadata": {},
   "source": [
    "## Total Number of samples and columns "
   ]
  },
  {
   "cell_type": "code",
   "execution_count": 4,
   "metadata": {},
   "outputs": [
    {
     "data": {
      "text/plain": [
       "(1573, 44)"
      ]
     },
     "execution_count": 4,
     "metadata": {},
     "output_type": "execute_result"
    }
   ],
   "source": [
    "data.shape"
   ]
  },
  {
   "cell_type": "markdown",
   "metadata": {},
   "source": [
    "## Columns in data"
   ]
  },
  {
   "cell_type": "code",
   "execution_count": 5,
   "metadata": {
    "scrolled": false
   },
   "outputs": [
    {
     "data": {
      "text/plain": [
       "array(['index', 'title', 'title_orig', 'price', 'retail_price',\n",
       "       'currency_buyer', 'units_sold', 'uses_ad_boosts', 'rating',\n",
       "       'rating_count', 'rating_five_count', 'rating_four_count',\n",
       "       'rating_three_count', 'rating_two_count', 'rating_one_count',\n",
       "       'badges_count', 'badge_local_product', 'badge_product_quality',\n",
       "       'badge_fast_shipping', 'tags', 'product_color',\n",
       "       'product_variation_size_id', 'product_variation_inventory',\n",
       "       'shipping_option_name', 'shipping_option_price',\n",
       "       'shipping_is_express', 'countries_shipped_to', 'inventory_total',\n",
       "       'has_urgency_banner', 'urgency_text', 'origin_country',\n",
       "       'merchant_title', 'merchant_name', 'merchant_info_subtitle',\n",
       "       'merchant_rating_count', 'merchant_rating', 'merchant_id',\n",
       "       'merchant_has_profile_picture', 'merchant_profile_picture',\n",
       "       'product_url', 'product_picture', 'product_id', 'theme',\n",
       "       'crawl_month'], dtype=object)"
      ]
     },
     "execution_count": 5,
     "metadata": {},
     "output_type": "execute_result"
    }
   ],
   "source": [
    "data.columns.values"
   ]
  },
  {
   "cell_type": "code",
   "execution_count": 6,
   "metadata": {},
   "outputs": [],
   "source": [
    "column_names = ['index', 'title', 'price', 'retail_price',\n",
    "       'currency_buyer', 'units_sold', 'uses_ad_boosts', 'rating',\n",
    "       'rating_count', 'rating_five_count', 'rating_four_count',\n",
    "       'rating_three_count', 'rating_two_count', 'rating_one_count',\n",
    "       'badges_count', 'badge_local_product', 'badge_product_quality',\n",
    "        'product_color',\n",
    "       'product_variation_size_id', 'product_variation_inventory',\n",
    "       'shipping_option_name', 'shipping_option_price',\n",
    "       'shipping_is_express', 'countries_shipped_to', 'inventory_total','merchant_rating_count',\n",
    "        'merchant_rating','product_id','theme'\n",
    "      ]\n"
   ]
  },
  {
   "cell_type": "markdown",
   "metadata": {},
   "source": [
    "## List of Columns and data types\n"
   ]
  },
  {
   "cell_type": "code",
   "execution_count": 7,
   "metadata": {},
   "outputs": [
    {
     "data": {
      "text/plain": [
       "index                             int64\n",
       "title                            object\n",
       "title_orig                       object\n",
       "price                           float64\n",
       "retail_price                      int64\n",
       "currency_buyer                   object\n",
       "units_sold                        int64\n",
       "uses_ad_boosts                    int64\n",
       "rating                          float64\n",
       "rating_count                      int64\n",
       "rating_five_count               float64\n",
       "rating_four_count               float64\n",
       "rating_three_count              float64\n",
       "rating_two_count                float64\n",
       "rating_one_count                float64\n",
       "badges_count                      int64\n",
       "badge_local_product               int64\n",
       "badge_product_quality             int64\n",
       "badge_fast_shipping               int64\n",
       "tags                             object\n",
       "product_color                    object\n",
       "product_variation_size_id        object\n",
       "product_variation_inventory       int64\n",
       "shipping_option_name             object\n",
       "shipping_option_price             int64\n",
       "shipping_is_express               int64\n",
       "countries_shipped_to              int64\n",
       "inventory_total                   int64\n",
       "has_urgency_banner              float64\n",
       "urgency_text                     object\n",
       "origin_country                   object\n",
       "merchant_title                   object\n",
       "merchant_name                    object\n",
       "merchant_info_subtitle           object\n",
       "merchant_rating_count             int64\n",
       "merchant_rating                 float64\n",
       "merchant_id                      object\n",
       "merchant_has_profile_picture      int64\n",
       "merchant_profile_picture         object\n",
       "product_url                      object\n",
       "product_picture                  object\n",
       "product_id                       object\n",
       "theme                            object\n",
       "crawl_month                      object\n",
       "dtype: object"
      ]
     },
     "execution_count": 7,
     "metadata": {},
     "output_type": "execute_result"
    }
   ],
   "source": [
    "data.dtypes"
   ]
  },
  {
   "cell_type": "markdown",
   "metadata": {},
   "source": [
    "## Missing values in different columns"
   ]
  },
  {
   "cell_type": "code",
   "execution_count": 8,
   "metadata": {
    "scrolled": true
   },
   "outputs": [
    {
     "data": {
      "text/plain": [
       "index                              0\n",
       "title                              0\n",
       "title_orig                         0\n",
       "price                              0\n",
       "retail_price                       0\n",
       "currency_buyer                     0\n",
       "units_sold                         0\n",
       "uses_ad_boosts                     0\n",
       "rating                             0\n",
       "rating_count                       0\n",
       "rating_five_count                 45\n",
       "rating_four_count                 45\n",
       "rating_three_count                45\n",
       "rating_two_count                  45\n",
       "rating_one_count                  45\n",
       "badges_count                       0\n",
       "badge_local_product                0\n",
       "badge_product_quality              0\n",
       "badge_fast_shipping                0\n",
       "tags                               0\n",
       "product_color                     41\n",
       "product_variation_size_id         14\n",
       "product_variation_inventory        0\n",
       "shipping_option_name               0\n",
       "shipping_option_price              0\n",
       "shipping_is_express                0\n",
       "countries_shipped_to               0\n",
       "inventory_total                    0\n",
       "has_urgency_banner              1100\n",
       "urgency_text                    1100\n",
       "origin_country                    17\n",
       "merchant_title                     0\n",
       "merchant_name                      4\n",
       "merchant_info_subtitle             1\n",
       "merchant_rating_count              0\n",
       "merchant_rating                    0\n",
       "merchant_id                        0\n",
       "merchant_has_profile_picture       0\n",
       "merchant_profile_picture        1347\n",
       "product_url                        0\n",
       "product_picture                    0\n",
       "product_id                         0\n",
       "theme                              0\n",
       "crawl_month                        0\n",
       "dtype: int64"
      ]
     },
     "execution_count": 8,
     "metadata": {},
     "output_type": "execute_result"
    }
   ],
   "source": [
    "data.isna().sum()"
   ]
  },
  {
   "cell_type": "markdown",
   "metadata": {},
   "source": [
    "## Filling Missing values"
   ]
  },
  {
   "cell_type": "code",
   "execution_count": 9,
   "metadata": {
    "scrolled": false
   },
   "outputs": [
    {
     "name": "stdout",
     "output_type": "stream",
     "text": [
      "S                               641\n",
      "XS                              356\n",
      "M                               200\n",
      "XXS                             100\n",
      "L                                49\n",
      "S.                               18\n",
      "XL                               17\n",
      "XXL                              15\n",
      "XXXS                              6\n",
      "Size S                            5\n",
      "4XL                               5\n",
      "XS.                               5\n",
      "s                                 5\n",
      "Size-XS                           4\n",
      "SIZE XS                           4\n",
      "2XL                               4\n",
      "M.                                4\n",
      "SizeL                             3\n",
      "10 ml                             3\n",
      "33                                3\n",
      "2pcs                              3\n",
      "Size-S                            3\n",
      "34                                3\n",
      "Size4XL                           2\n",
      "29                                2\n",
      "3XL                               2\n",
      "S(bust 88cm)                      2\n",
      "S Pink                            2\n",
      "1 pc.                             2\n",
      "SIZE-XXS                          2\n",
      "Suit-S                            2\n",
      "One Size                          2\n",
      "Size S.                           2\n",
      "size S                            2\n",
      "25                                2\n",
      "EU 35                             2\n",
      "Size -XXS                         2\n",
      "XXXXL                             2\n",
      "1                                 2\n",
      "XXXXXL                            2\n",
      "35                                2\n",
      "Size M                            2\n",
      "5XL                               2\n",
      "Size XXS                          1\n",
      "10pcs                             1\n",
      "20pcs                             1\n",
      "32/L                              1\n",
      "White                             1\n",
      "Women Size 36                     1\n",
      "EU39(US8)                         1\n",
      "17                                1\n",
      "S/M(child)                        1\n",
      "Size-5XL                          1\n",
      "5                                 1\n",
      "Size/S                            1\n",
      "36                                1\n",
      "3 layered anklet                  1\n",
      "4-5 Years                         1\n",
      "SIZE XXS                          1\n",
      "Women Size 37                     1\n",
      "daughter 24M                      1\n",
      "US5.5-EU35                        1\n",
      "60                                1\n",
      "100 cm                            1\n",
      "S (waist58-62cm)                  1\n",
      "L.                                1\n",
      "25-S                              1\n",
      "S..                               1\n",
      "Size--S                           1\n",
      "H01                               1\n",
      "S(Pink & Black)                   1\n",
      "Size-XXS                          1\n",
      "pants-S                           1\n",
      "Pack of 1                         1\n",
      "US 6.5 (EU 37)                    1\n",
      "Base Coat                         1\n",
      "B                                 1\n",
      "4                                 1\n",
      "1pc                               1\n",
      "20PCS-10PAIRS                     1\n",
      "1m by 3m                          1\n",
      "Round                             1\n",
      "AU plug Low quality               1\n",
      "Floating Chair for Kid            1\n",
      "04-3XL                            1\n",
      "Base & Top & Matte Top Coat       1\n",
      "SIZE-4XL                          1\n",
      "2                                 1\n",
      "US-S                              1\n",
      "Size-L                            1\n",
      "100 x 100cm(39.3 x 39.3inch)      1\n",
      "choose a size                     1\n",
      "26(Waist 72cm 28inch)             1\n",
      "Baby Float Boat                   1\n",
      "40 cm                             1\n",
      "XXXL                              1\n",
      "1 PC - XL                         1\n",
      "S Diameter 30cm                   1\n",
      "6XL                               1\n",
      "100pcs                            1\n",
      "first  generation                 1\n",
      "5PAIRS                            1\n",
      "30 cm                             1\n",
      "SIZE S                            1\n",
      "80 X 200 CM                       1\n",
      "X   L                             1\n"
     ]
    }
   ],
   "source": [
    "d1 = data['product_variation_size_id'].value_counts()\n",
    "print(d1.to_string())"
   ]
  },
  {
   "cell_type": "code",
   "execution_count": 10,
   "metadata": {
    "scrolled": true
   },
   "outputs": [],
   "source": [
    "data[\"rating_five_count\"].fillna(5, inplace = True)\n",
    "data[\"rating_four_count\"].fillna(0, inplace = True)\n",
    "data[\"rating_three_count\"].fillna(0, inplace = True)\n",
    "data[\"rating_two_count\"].fillna(0, inplace = True)\n",
    "data[\"rating_one_count\"].fillna(1, inplace = True)"
   ]
  },
  {
   "cell_type": "code",
   "execution_count": 11,
   "metadata": {},
   "outputs": [],
   "source": [
    "size_map = {\n",
    "   'XXS':1, 'XS': 2,'S':3,'M':4,'L':5,'XL':6,'XXL':7,\n",
    "    \n",
    "    'S.':3,'XXXS':1,'s':3,'Size S':3,'XS.':2,'4XL':7,'Size-XS':2,'2XL':7,'Size XS':2,                    \n",
    "'M.'  : 4 ,                                                   \n",
    "'SizeL'  :   5,                                                       \n",
    "'Size-S' : 3,                                                                              \n",
    "'3XL' : 7,                             \n",
    "'Size4XL' : 7,                         \n",
    "'Size S.' : 3,                          \n",
    "'EU 35'   : 1,                         \n",
    "'SIZE-XXS' :1,                        \n",
    "'Size M': 4,                           \n",
    "'S Pink' :3,                            \n",
    "'XXXXL'   : 7,                         \n",
    "'XXXXXL'  : 7,                          \n",
    "'size S'  :3,                         \n",
    "'Suit-S'  : 3,                          \n",
    "'S(bust 88cm)' : 3,                      \n",
    "'One Size': 1,                          \n",
    "'Size -XXS' : 1,                                                                                      \n",
    "'5XL': 7,                                                           \n",
    "'US-S' : 3,                       \n",
    "'Size XXS' : 1,                                          \n",
    "'US 6.5 (EU 37)' : 4,                                              \n",
    "'US5.5-EU35' : 3,                       \n",
    "'S Diameter 30cm' : 3,                                                           \n",
    "'X   L'  : 6,         \n",
    "'EU39(US8)' : 5,                                          \n",
    "'25-S' : 3,       \n",
    "'L.' : 5,                          \n",
    "'32/L' : 5,                             \n",
    "'S (waist58-62cm)' : 3,                 \n",
    "'SIZE S' : 3,                                                                                                                \n",
    "'1 PC - XL' : 6,                         \n",
    "'S..' : 3,                                                                                                           \n",
    "'SIZE XXS' : 1,                                        \n",
    "'XXXL': 7,                           \n",
    "'Size-XXS' : 1,                                                                              \n",
    "'pants-S' : 3,                          \n",
    "'Size-L' : 5,                           \n",
    "'SIZE-4XL' : 7,                                                       \n",
    "'04-3XL' : 7,                                \n",
    "'Size--S' : 3,                                                                                                                  \n",
    "'Size-5XL'  : 7,                                                         \n",
    "'Size/S' : 3,                           \n",
    "'6XL' : 7,                                                          \n",
    "    \n",
    "} \n",
    "\n",
    "\n",
    "data['product_variation_size_id'] = data['product_variation_size_id'].map(size_map) \n"
   ]
  },
  {
   "cell_type": "code",
   "execution_count": 12,
   "metadata": {},
   "outputs": [
    {
     "data": {
      "text/plain": [
       "0    3.0\n",
       "dtype: float64"
      ]
     },
     "execution_count": 12,
     "metadata": {},
     "output_type": "execute_result"
    }
   ],
   "source": [
    "data['product_variation_size_id'].mode()"
   ]
  },
  {
   "cell_type": "code",
   "execution_count": 13,
   "metadata": {},
   "outputs": [
    {
     "data": {
      "text/plain": [
       "0    black\n",
       "dtype: object"
      ]
     },
     "execution_count": 13,
     "metadata": {},
     "output_type": "execute_result"
    }
   ],
   "source": [
    "data['product_color'].mode()"
   ]
  },
  {
   "cell_type": "code",
   "execution_count": 14,
   "metadata": {},
   "outputs": [
    {
     "data": {
      "text/plain": [
       "78"
      ]
     },
     "execution_count": 14,
     "metadata": {},
     "output_type": "execute_result"
    }
   ],
   "source": [
    "data['product_variation_size_id'].isna().sum()"
   ]
  },
  {
   "cell_type": "code",
   "execution_count": 15,
   "metadata": {},
   "outputs": [],
   "source": [
    "data['product_variation_size_id'] = data['product_variation_size_id'].fillna(3)\n",
    "data['product_color'] = data['product_color'].fillna('black')                                               "
   ]
  },
  {
   "cell_type": "code",
   "execution_count": 16,
   "metadata": {},
   "outputs": [
    {
     "data": {
      "text/plain": [
       "3.0    770\n",
       "2.0    365\n",
       "4.0    207\n",
       "1.0    117\n",
       "5.0     56\n",
       "7.0     39\n",
       "6.0     19\n",
       "Name: product_variation_size_id, dtype: int64"
      ]
     },
     "execution_count": 16,
     "metadata": {},
     "output_type": "execute_result"
    }
   ],
   "source": [
    "data['product_variation_size_id'].value_counts()"
   ]
  },
  {
   "cell_type": "code",
   "execution_count": 17,
   "metadata": {},
   "outputs": [
    {
     "data": {
      "text/plain": [
       "index                              0\n",
       "title                              0\n",
       "title_orig                         0\n",
       "price                              0\n",
       "retail_price                       0\n",
       "currency_buyer                     0\n",
       "units_sold                         0\n",
       "uses_ad_boosts                     0\n",
       "rating                             0\n",
       "rating_count                       0\n",
       "rating_five_count                  0\n",
       "rating_four_count                  0\n",
       "rating_three_count                 0\n",
       "rating_two_count                   0\n",
       "rating_one_count                   0\n",
       "badges_count                       0\n",
       "badge_local_product                0\n",
       "badge_product_quality              0\n",
       "badge_fast_shipping                0\n",
       "tags                               0\n",
       "product_color                      0\n",
       "product_variation_size_id          0\n",
       "product_variation_inventory        0\n",
       "shipping_option_name               0\n",
       "shipping_option_price              0\n",
       "shipping_is_express                0\n",
       "countries_shipped_to               0\n",
       "inventory_total                    0\n",
       "has_urgency_banner              1100\n",
       "urgency_text                    1100\n",
       "origin_country                    17\n",
       "merchant_title                     0\n",
       "merchant_name                      4\n",
       "merchant_info_subtitle             1\n",
       "merchant_rating_count              0\n",
       "merchant_rating                    0\n",
       "merchant_id                        0\n",
       "merchant_has_profile_picture       0\n",
       "merchant_profile_picture        1347\n",
       "product_url                        0\n",
       "product_picture                    0\n",
       "product_id                         0\n",
       "theme                              0\n",
       "crawl_month                        0\n",
       "dtype: int64"
      ]
     },
     "execution_count": 17,
     "metadata": {},
     "output_type": "execute_result"
    }
   ],
   "source": [
    "data.isna().sum()"
   ]
  },
  {
   "cell_type": "code",
   "execution_count": 18,
   "metadata": {},
   "outputs": [
    {
     "data": {
      "text/plain": [
       "0       EUR\n",
       "1       EUR\n",
       "2       EUR\n",
       "3       EUR\n",
       "4       EUR\n",
       "       ... \n",
       "1568    EUR\n",
       "1569    EUR\n",
       "1570    EUR\n",
       "1571    EUR\n",
       "1572    EUR\n",
       "Name: currency_buyer, Length: 1573, dtype: string"
      ]
     },
     "execution_count": 18,
     "metadata": {},
     "output_type": "execute_result"
    }
   ],
   "source": [
    "data['currency_buyer']=data['currency_buyer'].astype('string')\n",
    "data['currency_buyer'].where(data.currency_buyer == 'EUR')\n"
   ]
  },
  {
   "cell_type": "markdown",
   "metadata": {},
   "source": [
    "## Checking and Removal of Outliers "
   ]
  },
  {
   "cell_type": "code",
   "execution_count": 19,
   "metadata": {},
   "outputs": [
    {
     "data": {
      "text/plain": [
       "Index(['index', 'retail_price', 'units_sold', 'uses_ad_boosts', 'rating_count',\n",
       "       'badges_count', 'badge_local_product', 'badge_product_quality',\n",
       "       'badge_fast_shipping', 'product_variation_inventory',\n",
       "       'shipping_option_price', 'shipping_is_express', 'countries_shipped_to',\n",
       "       'inventory_total', 'merchant_rating_count',\n",
       "       'merchant_has_profile_picture'],\n",
       "      dtype='object')"
      ]
     },
     "execution_count": 19,
     "metadata": {},
     "output_type": "execute_result"
    }
   ],
   "source": [
    "numcols =data.dtypes[data.dtypes=='int64'].index\n",
    "numcols"
   ]
  },
  {
   "cell_type": "code",
   "execution_count": 20,
   "metadata": {
    "scrolled": false
   },
   "outputs": [
    {
     "data": {
      "image/png": "[encoded data removed]",
      "text/plain": [
       "<Figure size 432x288 with 1 Axes>"
      ]
     },
     "metadata": {
      "needs_background": "light"
     },
     "output_type": "display_data"
    },
    {
     "data": {
      "image/png": "[encoded data removed]",
      "text/plain": [
       "<Figure size 432x288 with 1 Axes>"
      ]
     },
     "metadata": {
      "needs_background": "light"
     },
     "output_type": "display_data"
    },
    {
     "data": {
      "image/png": "[encoded data removed]",
      "text/plain": [
       "<Figure size 432x288 with 1 Axes>"
      ]
     },
     "metadata": {
      "needs_background": "light"
     },
     "output_type": "display_data"
    },
    {
     "data": {
      "image/png": "[encoded data removed]",
      "text/plain": [
       "<Figure size 432x288 with 1 Axes>"
      ]
     },
     "metadata": {
      "needs_background": "light"
     },
     "output_type": "display_data"
    },
    {
     "data": {
      "image/png": "[encoded data removed]",
      "text/plain": [
       "<Figure size 432x288 with 1 Axes>"
      ]
     },
     "metadata": {
      "needs_background": "light"
     },
     "output_type": "display_data"
    },
    {
     "data": {
      "image/png": "[encoded data removed]",
      "text/plain": [
       "<Figure size 432x288 with 1 Axes>"
      ]
     },
     "metadata": {
      "needs_background": "light"
     },
     "output_type": "display_data"
    },
    {
     "data": {
      "image/png": "[encoded data removed]",
      "text/plain": [
       "<Figure size 432x288 with 1 Axes>"
      ]
     },
     "metadata": {
      "needs_background": "light"
     },
     "output_type": "display_data"
    },
    {
     "data": {
      "image/png": "[encoded data removed]",
      "text/plain": [
       "<Figure size 432x288 with 1 Axes>"
      ]
     },
     "metadata": {
      "needs_background": "light"
     },
     "output_type": "display_data"
    },
    {
     "data": {
      "image/png": "[encoded data removed]",
      "text/plain": [
       "<Figure size 432x288 with 1 Axes>"
      ]
     },
     "metadata": {
      "needs_background": "light"
     },
     "output_type": "display_data"
    },
    {
     "data": {
      "image/png": "[encoded data removed]",
      "text/plain": [
       "<Figure size 432x288 with 1 Axes>"
      ]
     },
     "metadata": {
      "needs_background": "light"
     },
     "output_type": "display_data"
    },
    {
     "data": {
      "image/png": "[encoded data removed]",
      "text/plain": [
       "<Figure size 432x288 with 1 Axes>"
      ]
     },
     "metadata": {
      "needs_background": "light"
     },
     "output_type": "display_data"
    },
    {
     "data": {
      "image/png": "[encoded data removed]",
      "text/plain": [
       "<Figure size 432x288 with 1 Axes>"
      ]
     },
     "metadata": {
      "needs_background": "light"
     },
     "output_type": "display_data"
    },
    {
     "data": {
      "image/png": "[encoded data removed]",
      "text/plain": [
       "<Figure size 432x288 with 1 Axes>"
      ]
     },
     "metadata": {
      "needs_background": "light"
     },
     "output_type": "display_data"
    },
    {
     "data": {
      "image/png": "[encoded data removed]",
      "text/plain": [
       "<Figure size 432x288 with 1 Axes>"
      ]
     },
     "metadata": {
      "needs_background": "light"
     },
     "output_type": "display_data"
    },
    {
     "data": {
      "image/png": "[encoded data removed]",
      "text/plain": [
       "<Figure size 432x288 with 1 Axes>"
      ]
     },
     "metadata": {
      "needs_background": "light"
     },
     "output_type": "display_data"
    },
    {
     "data": {
      "image/png": "[encoded data removed]",
      "text/plain": [
       "<Figure size 432x288 with 1 Axes>"
      ]
     },
     "metadata": {
      "needs_background": "light"
     },
     "output_type": "display_data"
    }
   ],
   "source": [
    "for x in numcols:\n",
    "    sns.boxplot(data[x],orient='h')\n",
    "    plt.title(x)\n",
    "    plt.show()"
   ]
  },
  {
   "cell_type": "code",
   "execution_count": 21,
   "metadata": {},
   "outputs": [
    {
     "name": "stdout",
     "output_type": "stream",
     "text": [
      "index\n",
      "retail_price\n",
      "units_sold\n",
      "uses_ad_boosts\n",
      "rating_count\n",
      "badges_count\n",
      "badge_local_product\n",
      "badge_product_quality\n",
      "badge_fast_shipping\n",
      "product_variation_inventory\n",
      "shipping_option_price\n",
      "shipping_is_express\n",
      "countries_shipped_to\n",
      "inventory_total\n",
      "merchant_rating_count\n",
      "merchant_has_profile_picture\n"
     ]
    }
   ],
   "source": [
    "for x in numcols:\n",
    "    print(x)\n",
    "    descr = data[x].describe()\n",
    "    IQR = descr['75%'] - descr['25%']\n",
    "    upper_limit =  descr['75%'] + 1.5 * IQR\n",
    "    lower_limit =  descr['25%'] - 1.5 * IQR  \n",
    "    data[x][data[x]>upper_limit] = upper_limit\n",
    "    data[x][data[x]<lower_limit] = lower_limit"
   ]
  },
  {
   "cell_type": "markdown",
   "metadata": {},
   "source": [
    "## Checking after Removal of Outliers"
   ]
  },
  {
   "cell_type": "code",
   "execution_count": 22,
   "metadata": {},
   "outputs": [
    {
     "data": {
      "image/png": "[encoded data removed]",
      "text/plain": [
       "<Figure size 432x288 with 1 Axes>"
      ]
     },
     "metadata": {
      "needs_background": "light"
     },
     "output_type": "display_data"
    },
    {
     "data": {
      "image/png": "[encoded data removed]",
      "text/plain": [
       "<Figure size 432x288 with 1 Axes>"
      ]
     },
     "metadata": {
      "needs_background": "light"
     },
     "output_type": "display_data"
    },
    {
     "data": {
      "image/png": "[encoded data removed]",
      "text/plain": [
       "<Figure size 432x288 with 1 Axes>"
      ]
     },
     "metadata": {
      "needs_background": "light"
     },
     "output_type": "display_data"
    },
    {
     "data": {
      "image/png": "[encoded data removed]",
      "text/plain": [
       "<Figure size 432x288 with 1 Axes>"
      ]
     },
     "metadata": {
      "needs_background": "light"
     },
     "output_type": "display_data"
    },
    {
     "data": {
      "image/png": "[encoded data removed]",
      "text/plain": [
       "<Figure size 432x288 with 1 Axes>"
      ]
     },
     "metadata": {
      "needs_background": "light"
     },
     "output_type": "display_data"
    },
    {
     "data": {
      "image/png": "[encoded data removed]",
      "text/plain": [
       "<Figure size 432x288 with 1 Axes>"
      ]
     },
     "metadata": {
      "needs_background": "light"
     },
     "output_type": "display_data"
    },
    {
     "data": {
      "image/png": "[encoded data removed]",
      "text/plain": [
       "<Figure size 432x288 with 1 Axes>"
      ]
     },
     "metadata": {
      "needs_background": "light"
     },
     "output_type": "display_data"
    },
    {
     "data": {
      "image/png": "[encoded data removed]",
      "text/plain": [
       "<Figure size 432x288 with 1 Axes>"
      ]
     },
     "metadata": {
      "needs_background": "light"
     },
     "output_type": "display_data"
    },
    {
     "data": {
      "image/png": "[encoded data removed]",
      "text/plain": [
       "<Figure size 432x288 with 1 Axes>"
      ]
     },
     "metadata": {
      "needs_background": "light"
     },
     "output_type": "display_data"
    },
    {
     "data": {
      "image/png": "[encoded data removed]",
      "text/plain": [
       "<Figure size 432x288 with 1 Axes>"
      ]
     },
     "metadata": {
      "needs_background": "light"
     },
     "output_type": "display_data"
    },
    {
     "data": {
      "image/png": "[encoded data removed]",
      "text/plain": [
       "<Figure size 432x288 with 1 Axes>"
      ]
     },
     "metadata": {
      "needs_background": "light"
     },
     "output_type": "display_data"
    },
    {
     "data": {
      "image/png": "[encoded data removed]",
      "text/plain": [
       "<Figure size 432x288 with 1 Axes>"
      ]
     },
     "metadata": {
      "needs_background": "light"
     },
     "output_type": "display_data"
    },
    {
     "data": {
      "image/png": "[encoded data removed]",
      "text/plain": [
       "<Figure size 432x288 with 1 Axes>"
      ]
     },
     "metadata": {
      "needs_background": "light"
     },
     "output_type": "display_data"
    },
    {
     "data": {
      "image/png": "[encoded data removed]",
      "text/plain": [
       "<Figure size 432x288 with 1 Axes>"
      ]
     },
     "metadata": {
      "needs_background": "light"
     },
     "output_type": "display_data"
    },
    {
     "data": {
      "image/png": "[encoded data removed]",
      "text/plain": [
       "<Figure size 432x288 with 1 Axes>"
      ]
     },
     "metadata": {
      "needs_background": "light"
     },
     "output_type": "display_data"
    },
    {
     "data": {
      "image/png": "[encoded data removed]",
      "text/plain": [
       "<Figure size 432x288 with 1 Axes>"
      ]
     },
     "metadata": {
      "needs_background": "light"
     },
     "output_type": "display_data"
    }
   ],
   "source": [
    "for x in numcols:\n",
    "    sns.boxplot(data[x],orient='h')\n",
    "    plt.title(x)\n",
    "    plt.show()"
   ]
  },
  {
   "cell_type": "markdown",
   "metadata": {},
   "source": [
    "## EDA"
   ]
  },
  {
   "cell_type": "markdown",
   "metadata": {},
   "source": [
    "### From the below table  we can see top 10 products in the order of rating five."
   ]
  },
  {
   "cell_type": "code",
   "execution_count": 23,
   "metadata": {
    "scrolled": false
   },
   "outputs": [
    {
     "data": {
      "text/html": [
       "<div>\n",
       "<style scoped>\n",
       "    .dataframe tbody tr th:only-of-type {\n",
       "        vertical-align: middle;\n",
       "    }\n",
       "\n",
       "    .dataframe tbody tr th {\n",
       "        vertical-align: top;\n",
       "    }\n",
       "\n",
       "    .dataframe thead th {\n",
       "        text-align: right;\n",
       "    }\n",
       "</style>\n",
       "<table border=\"1\" class=\"dataframe\">\n",
       "  <thead>\n",
       "    <tr style=\"text-align: right;\">\n",
       "      <th></th>\n",
       "      <th>units_sold</th>\n",
       "      <th>rating_five_count</th>\n",
       "      <th>retail_price</th>\n",
       "      <th>total_retail_price</th>\n",
       "    </tr>\n",
       "    <tr>\n",
       "      <th>title</th>\n",
       "      <th></th>\n",
       "      <th></th>\n",
       "      <th></th>\n",
       "      <th></th>\n",
       "    </tr>\n",
       "  </thead>\n",
       "  <tbody>\n",
       "    <tr>\n",
       "      <th>Summer Students Style Bodycon Rompers Rompers Femmes Combinaison cintrée cintrée Combinaison zippée poitrine contrastée Couleur contrastée Manches courtes Manches courtes Col en V Short Body</th>\n",
       "      <td>12350</td>\n",
       "      <td>2418.0</td>\n",
       "      <td>10.0</td>\n",
       "      <td>123500.0</td>\n",
       "    </tr>\n",
       "    <tr>\n",
       "      <th>Printemps/Été Mode Femme \"miel\" Lettre Imprimé sans manches Chemise Sexy Brodée Gilet Bodycon Tricoté Gilet Coton Veste Tenue décontractée Débardeur Décontracté</th>\n",
       "      <td>12350</td>\n",
       "      <td>1781.0</td>\n",
       "      <td>5.0</td>\n",
       "      <td>61750.0</td>\n",
       "    </tr>\n",
       "    <tr>\n",
       "      <th>'Let That Shit Go' Femmes Graphic Tee Casual Cotton T-shirts manches courtes Bohemia Style Mandala Namaste Printed Top Blouse</th>\n",
       "      <td>10000</td>\n",
       "      <td>475.0</td>\n",
       "      <td>9.0</td>\n",
       "      <td>90000.0</td>\n",
       "    </tr>\n",
       "    <tr>\n",
       "      <th>Nouveau The New Men ' s Stitching Design Pantalon court de sport pour le jogging</th>\n",
       "      <td>5000</td>\n",
       "      <td>431.0</td>\n",
       "      <td>13.0</td>\n",
       "      <td>65000.0</td>\n",
       "    </tr>\n",
       "    <tr>\n",
       "      <th>Plus Taille S-5XL Femmes T-shirts d'été à manches courtes et col en V pour femmes T-shirt à manches courtes pour femmes T-shirt ample pour femmes T-shirt Candy Color Lady Pullovers Chemisier pour femmes</th>\n",
       "      <td>5000</td>\n",
       "      <td>289.0</td>\n",
       "      <td>5.0</td>\n",
       "      <td>25000.0</td>\n",
       "    </tr>\n",
       "    <tr>\n",
       "      <th>Pantalon dos nu à rayures et jambes larges pour femme grande taille Pantalon casual Rompers Fashion Shorts</th>\n",
       "      <td>1000</td>\n",
       "      <td>231.0</td>\n",
       "      <td>34.0</td>\n",
       "      <td>34000.0</td>\n",
       "    </tr>\n",
       "    <tr>\n",
       "      <th>Pantalon à bretelles 3 couleurs Nouvelle mode d'été pour dames Combinaison décontractée Combinaison d'été à bretelles longues Pantalon à bretelles</th>\n",
       "      <td>1000</td>\n",
       "      <td>231.0</td>\n",
       "      <td>54.5</td>\n",
       "      <td>54500.0</td>\n",
       "    </tr>\n",
       "    <tr>\n",
       "      <th>Summer Women s Fashion Lace Up Tie Pants Plus Size Casual High Waist Short Pants(S-5XL)</th>\n",
       "      <td>200</td>\n",
       "      <td>44.0</td>\n",
       "      <td>12.0</td>\n",
       "      <td>1200.0</td>\n",
       "    </tr>\n",
       "    <tr>\n",
       "      <th>(S-5XL) Femmes Mode D'été Double-couche Shorts De Sport Séchage Rapide Yoga Leggings De Sport Shorts De Fitness Plus La Taille</th>\n",
       "      <td>100</td>\n",
       "      <td>3.0</td>\n",
       "      <td>54.5</td>\n",
       "      <td>5450.0</td>\n",
       "    </tr>\n",
       "    <tr>\n",
       "      <th>Women's Fashion Graphic \\Don't Flatter Yourself....\\Tee for Women Summer Casual Tee T Shirts for Girls</th>\n",
       "      <td>10</td>\n",
       "      <td>1.0</td>\n",
       "      <td>22.0</td>\n",
       "      <td>220.0</td>\n",
       "    </tr>\n",
       "  </tbody>\n",
       "</table>\n",
       "</div>"
      ],
      "text/plain": [
       "                                                    units_sold  \\\n",
       "title                                                            \n",
       " Summer Students Style Bodycon Rompers Rompers ...       12350   \n",
       " Printemps/Été Mode Femme \"miel\" Lettre Imprimé...       12350   \n",
       "'Let That Shit Go' Femmes Graphic Tee Casual Co...       10000   \n",
       " Nouveau The New Men ' s Stitching Design Panta...        5000   \n",
       " Plus Taille S-5XL Femmes T-shirts d'été à manc...        5000   \n",
       " Pantalon dos nu à rayures et jambes larges pou...        1000   \n",
       " Pantalon à bretelles 3 couleurs Nouvelle mode ...        1000   \n",
       " Summer Women s Fashion Lace Up Tie Pants Plus ...         200   \n",
       "(S-5XL) Femmes Mode D'été Double-couche Shorts ...         100   \n",
       " Women's Fashion Graphic \\Don't Flatter Yoursel...          10   \n",
       "\n",
       "                                                    rating_five_count  \\\n",
       "title                                                                   \n",
       " Summer Students Style Bodycon Rompers Rompers ...             2418.0   \n",
       " Printemps/Été Mode Femme \"miel\" Lettre Imprimé...             1781.0   \n",
       "'Let That Shit Go' Femmes Graphic Tee Casual Co...              475.0   \n",
       " Nouveau The New Men ' s Stitching Design Panta...              431.0   \n",
       " Plus Taille S-5XL Femmes T-shirts d'été à manc...              289.0   \n",
       " Pantalon dos nu à rayures et jambes larges pou...              231.0   \n",
       " Pantalon à bretelles 3 couleurs Nouvelle mode ...              231.0   \n",
       " Summer Women s Fashion Lace Up Tie Pants Plus ...               44.0   \n",
       "(S-5XL) Femmes Mode D'été Double-couche Shorts ...                3.0   \n",
       " Women's Fashion Graphic \\Don't Flatter Yoursel...                1.0   \n",
       "\n",
       "                                                    retail_price  \\\n",
       "title                                                              \n",
       " Summer Students Style Bodycon Rompers Rompers ...          10.0   \n",
       " Printemps/Été Mode Femme \"miel\" Lettre Imprimé...           5.0   \n",
       "'Let That Shit Go' Femmes Graphic Tee Casual Co...           9.0   \n",
       " Nouveau The New Men ' s Stitching Design Panta...          13.0   \n",
       " Plus Taille S-5XL Femmes T-shirts d'été à manc...           5.0   \n",
       " Pantalon dos nu à rayures et jambes larges pou...          34.0   \n",
       " Pantalon à bretelles 3 couleurs Nouvelle mode ...          54.5   \n",
       " Summer Women s Fashion Lace Up Tie Pants Plus ...          12.0   \n",
       "(S-5XL) Femmes Mode D'été Double-couche Shorts ...          54.5   \n",
       " Women's Fashion Graphic \\Don't Flatter Yoursel...          22.0   \n",
       "\n",
       "                                                    total_retail_price  \n",
       "title                                                                   \n",
       " Summer Students Style Bodycon Rompers Rompers ...            123500.0  \n",
       " Printemps/Été Mode Femme \"miel\" Lettre Imprimé...             61750.0  \n",
       "'Let That Shit Go' Femmes Graphic Tee Casual Co...             90000.0  \n",
       " Nouveau The New Men ' s Stitching Design Panta...             65000.0  \n",
       " Plus Taille S-5XL Femmes T-shirts d'été à manc...             25000.0  \n",
       " Pantalon dos nu à rayures et jambes larges pou...             34000.0  \n",
       " Pantalon à bretelles 3 couleurs Nouvelle mode ...             54500.0  \n",
       " Summer Women s Fashion Lace Up Tie Pants Plus ...              1200.0  \n",
       "(S-5XL) Femmes Mode D'été Double-couche Shorts ...              5450.0  \n",
       " Women's Fashion Graphic \\Don't Flatter Yoursel...               220.0  "
      ]
     },
     "execution_count": 23,
     "metadata": {},
     "output_type": "execute_result"
    }
   ],
   "source": [
    "data['total_retail_price'] = data['units_sold'] * data['retail_price']\n",
    "d11 = data[['units_sold','rating_five_count','rating_four_count','rating_three_count','rating_two_count','rating_one_count']]\n",
    "d1 = data[['units_sold','title','rating_five_count','retail_price','total_retail_price']]\n",
    "d2 = d1.groupby(['title']).sum().head(10)\n",
    "d22 = d2.sort_values(['rating_five_count'],ascending = False).head(10)\n",
    "d22\n"
   ]
  },
  {
   "cell_type": "markdown",
   "metadata": {},
   "source": [
    "## Units sold vs Ratings  count"
   ]
  },
  {
   "cell_type": "markdown",
   "metadata": {},
   "source": [
    "### data shows a trend as retail price reaches more than 10 there is a sharp decrease in rating count which says that rating count is favored by products having retail price less than 10 "
   ]
  },
  {
   "cell_type": "code",
   "execution_count": 24,
   "metadata": {},
   "outputs": [
    {
     "data": {
      "text/plain": [
       "<AxesSubplot:xlabel='rating_one_count', ylabel='retail_price'>"
      ]
     },
     "execution_count": 24,
     "metadata": {},
     "output_type": "execute_result"
    },
    {
     "data": {
      "image/png": "[encoded data removed]",
      "text/plain": [
       "<Figure size 720x360 with 1 Axes>"
      ]
     },
     "metadata": {
      "needs_background": "light"
     },
     "output_type": "display_data"
    },
    {
     "data": {
      "image/png": "[encoded data removed]",
      "text/plain": [
       "<Figure size 720x360 with 1 Axes>"
      ]
     },
     "metadata": {
      "needs_background": "light"
     },
     "output_type": "display_data"
    },
    {
     "data": {
      "image/png": "[encoded data removed]",
      "text/plain": [
       "<Figure size 720x360 with 1 Axes>"
      ]
     },
     "metadata": {
      "needs_background": "light"
     },
     "output_type": "display_data"
    },
    {
     "data": {
      "image/png": "[encoded data removed]",
      "text/plain": [
       "<Figure size 720x360 with 1 Axes>"
      ]
     },
     "metadata": {
      "needs_background": "light"
     },
     "output_type": "display_data"
    },
    {
     "data": {
      "image/png": "[encoded data removed]",
      "text/plain": [
       "<Figure size 720x360 with 1 Axes>"
      ]
     },
     "metadata": {
      "needs_background": "light"
     },
     "output_type": "display_data"
    }
   ],
   "source": [
    "\n",
    "data1 = data[['title','units_sold','retail_price','rating_five_count']]\n",
    "data2 = data[['title','units_sold','retail_price', 'rating_four_count']]\n",
    "data3  = data[['title','units_sold','retail_price','rating_three_count']]\n",
    "data4 = data[['title','units_sold','retail_price','rating_two_count']]\n",
    "data5 = data[['title','units_sold','retail_price','rating_one_count']]\n",
    "grp1 = data1.groupby(['title']).sum().head(10)\n",
    "srt1 = grp1.sort_values(['retail_price','rating_five_count'],ascending=False)\n",
    "\n",
    "grp2 = data2.groupby(['title']).sum().head(10)\n",
    "srt2 = grp2.sort_values(['retail_price','rating_four_count'],ascending=False)\n",
    "\n",
    "grp3 = data3.groupby(['title']).sum().head(10)\n",
    "srt3 = grp3.sort_values(['retail_price','rating_three_count'],ascending=False)\n",
    "\n",
    "grp4 = data4.groupby(['title']).sum().head(10)\n",
    "srt4 = grp4.sort_values(['retail_price','rating_two_count'],ascending=False)\n",
    "\n",
    "grp5 = data5.groupby(['title']).sum().head(10)\n",
    "srt5 = grp5.sort_values(['retail_price','rating_one_count'],ascending=False)\n",
    "\n",
    "\n",
    "\n",
    "plt.figure(figsize=(10,5))\n",
    "sns.barplot(x = 'rating_five_count' ,y='retail_price'  ,data=srt1,palette='Blues')\n",
    "\n",
    "plt.figure(figsize=(10,5))\n",
    "sns.barplot(x = 'rating_four_count' ,y='retail_price' ,data=srt2,palette='Blues')\n",
    "\n",
    "plt.figure(figsize=(10,5))\n",
    "sns.barplot(x = 'rating_three_count' ,y='retail_price',data=srt3,palette='Blues')\n",
    "\n",
    "plt.figure(figsize=(10,5))\n",
    "sns.barplot(x = 'rating_two_count',y='retail_price',data=srt4,palette='Blues')\n",
    "\n",
    "plt.figure(figsize=(10,5))\n",
    "sns.barplot(x = 'rating_one_count',y='retail_price',data=srt5,palette='Blues')\n",
    "\n"
   ]
  },
  {
   "cell_type": "markdown",
   "metadata": {},
   "source": [
    "### From table below retail price between 10 and 5 is one of the reasons to sell very high number of units. we can see a trend where retail price becomes more than 10 the number of units sold sharply decreases."
   ]
  },
  {
   "cell_type": "code",
   "execution_count": 25,
   "metadata": {},
   "outputs": [
    {
     "data": {
      "text/html": [
       "<div>\n",
       "<style scoped>\n",
       "    .dataframe tbody tr th:only-of-type {\n",
       "        vertical-align: middle;\n",
       "    }\n",
       "\n",
       "    .dataframe tbody tr th {\n",
       "        vertical-align: top;\n",
       "    }\n",
       "\n",
       "    .dataframe thead th {\n",
       "        text-align: right;\n",
       "    }\n",
       "</style>\n",
       "<table border=\"1\" class=\"dataframe\">\n",
       "  <thead>\n",
       "    <tr style=\"text-align: right;\">\n",
       "      <th></th>\n",
       "      <th></th>\n",
       "      <th>rating_five_count</th>\n",
       "      <th>retail_price</th>\n",
       "      <th>total_retail_price</th>\n",
       "    </tr>\n",
       "    <tr>\n",
       "      <th>title</th>\n",
       "      <th>units_sold</th>\n",
       "      <th></th>\n",
       "      <th></th>\n",
       "      <th></th>\n",
       "    </tr>\n",
       "  </thead>\n",
       "  <tbody>\n",
       "    <tr>\n",
       "      <th>Summer Students Style Bodycon Rompers Rompers Femmes Combinaison cintrée cintrée Combinaison zippée poitrine contrastée Couleur contrastée Manches courtes Manches courtes Col en V Short Body</th>\n",
       "      <th>12350</th>\n",
       "      <td>2418.0</td>\n",
       "      <td>10.0</td>\n",
       "      <td>123500.0</td>\n",
       "    </tr>\n",
       "    <tr>\n",
       "      <th>Printemps/Été Mode Femme \"miel\" Lettre Imprimé sans manches Chemise Sexy Brodée Gilet Bodycon Tricoté Gilet Coton Veste Tenue décontractée Débardeur Décontracté</th>\n",
       "      <th>12350</th>\n",
       "      <td>1781.0</td>\n",
       "      <td>5.0</td>\n",
       "      <td>61750.0</td>\n",
       "    </tr>\n",
       "    <tr>\n",
       "      <th>'Let That Shit Go' Femmes Graphic Tee Casual Cotton T-shirts manches courtes Bohemia Style Mandala Namaste Printed Top Blouse</th>\n",
       "      <th>10000</th>\n",
       "      <td>475.0</td>\n",
       "      <td>9.0</td>\n",
       "      <td>90000.0</td>\n",
       "    </tr>\n",
       "    <tr>\n",
       "      <th>Nouveau The New Men ' s Stitching Design Pantalon court de sport pour le jogging</th>\n",
       "      <th>5000</th>\n",
       "      <td>431.0</td>\n",
       "      <td>13.0</td>\n",
       "      <td>65000.0</td>\n",
       "    </tr>\n",
       "    <tr>\n",
       "      <th>Plus Taille S-5XL Femmes T-shirts d'été à manches courtes et col en V pour femmes T-shirt à manches courtes pour femmes T-shirt ample pour femmes T-shirt Candy Color Lady Pullovers Chemisier pour femmes</th>\n",
       "      <th>5000</th>\n",
       "      <td>289.0</td>\n",
       "      <td>5.0</td>\n",
       "      <td>25000.0</td>\n",
       "    </tr>\n",
       "    <tr>\n",
       "      <th>Pantalon à bretelles 3 couleurs Nouvelle mode d'été pour dames Combinaison décontractée Combinaison d'été à bretelles longues Pantalon à bretelles</th>\n",
       "      <th>1000</th>\n",
       "      <td>231.0</td>\n",
       "      <td>54.5</td>\n",
       "      <td>54500.0</td>\n",
       "    </tr>\n",
       "    <tr>\n",
       "      <th>Pantalon dos nu à rayures et jambes larges pour femme grande taille Pantalon casual Rompers Fashion Shorts</th>\n",
       "      <th>1000</th>\n",
       "      <td>231.0</td>\n",
       "      <td>34.0</td>\n",
       "      <td>34000.0</td>\n",
       "    </tr>\n",
       "    <tr>\n",
       "      <th>Summer Women s Fashion Lace Up Tie Pants Plus Size Casual High Waist Short Pants(S-5XL)</th>\n",
       "      <th>200</th>\n",
       "      <td>44.0</td>\n",
       "      <td>12.0</td>\n",
       "      <td>1200.0</td>\n",
       "    </tr>\n",
       "    <tr>\n",
       "      <th>(S-5XL) Femmes Mode D'été Double-couche Shorts De Sport Séchage Rapide Yoga Leggings De Sport Shorts De Fitness Plus La Taille</th>\n",
       "      <th>100</th>\n",
       "      <td>3.0</td>\n",
       "      <td>54.5</td>\n",
       "      <td>5450.0</td>\n",
       "    </tr>\n",
       "    <tr>\n",
       "      <th>Women's Fashion Graphic \\Don't Flatter Yourself....\\Tee for Women Summer Casual Tee T Shirts for Girls</th>\n",
       "      <th>10</th>\n",
       "      <td>1.0</td>\n",
       "      <td>22.0</td>\n",
       "      <td>220.0</td>\n",
       "    </tr>\n",
       "  </tbody>\n",
       "</table>\n",
       "</div>"
      ],
      "text/plain": [
       "                                                               rating_five_count  \\\n",
       "title                                              units_sold                      \n",
       " Summer Students Style Bodycon Rompers Rompers ... 12350                  2418.0   \n",
       " Printemps/Été Mode Femme \"miel\" Lettre Imprimé... 12350                  1781.0   \n",
       "'Let That Shit Go' Femmes Graphic Tee Casual Co... 10000                   475.0   \n",
       " Nouveau The New Men ' s Stitching Design Panta... 5000                    431.0   \n",
       " Plus Taille S-5XL Femmes T-shirts d'été à manc... 5000                    289.0   \n",
       " Pantalon à bretelles 3 couleurs Nouvelle mode ... 1000                    231.0   \n",
       " Pantalon dos nu à rayures et jambes larges pou... 1000                    231.0   \n",
       " Summer Women s Fashion Lace Up Tie Pants Plus ... 200                      44.0   \n",
       "(S-5XL) Femmes Mode D'été Double-couche Shorts ... 100                       3.0   \n",
       " Women's Fashion Graphic \\Don't Flatter Yoursel... 10                        1.0   \n",
       "\n",
       "                                                               retail_price  \\\n",
       "title                                              units_sold                 \n",
       " Summer Students Style Bodycon Rompers Rompers ... 12350               10.0   \n",
       " Printemps/Été Mode Femme \"miel\" Lettre Imprimé... 12350                5.0   \n",
       "'Let That Shit Go' Femmes Graphic Tee Casual Co... 10000                9.0   \n",
       " Nouveau The New Men ' s Stitching Design Panta... 5000                13.0   \n",
       " Plus Taille S-5XL Femmes T-shirts d'été à manc... 5000                 5.0   \n",
       " Pantalon à bretelles 3 couleurs Nouvelle mode ... 1000                54.5   \n",
       " Pantalon dos nu à rayures et jambes larges pou... 1000                34.0   \n",
       " Summer Women s Fashion Lace Up Tie Pants Plus ... 200                 12.0   \n",
       "(S-5XL) Femmes Mode D'été Double-couche Shorts ... 100                 54.5   \n",
       " Women's Fashion Graphic \\Don't Flatter Yoursel... 10                  22.0   \n",
       "\n",
       "                                                               total_retail_price  \n",
       "title                                              units_sold                      \n",
       " Summer Students Style Bodycon Rompers Rompers ... 12350                 123500.0  \n",
       " Printemps/Été Mode Femme \"miel\" Lettre Imprimé... 12350                  61750.0  \n",
       "'Let That Shit Go' Femmes Graphic Tee Casual Co... 10000                  90000.0  \n",
       " Nouveau The New Men ' s Stitching Design Panta... 5000                   65000.0  \n",
       " Plus Taille S-5XL Femmes T-shirts d'été à manc... 5000                   25000.0  \n",
       " Pantalon à bretelles 3 couleurs Nouvelle mode ... 1000                   54500.0  \n",
       " Pantalon dos nu à rayures et jambes larges pou... 1000                   34000.0  \n",
       " Summer Women s Fashion Lace Up Tie Pants Plus ... 200                     1200.0  \n",
       "(S-5XL) Femmes Mode D'été Double-couche Shorts ... 100                     5450.0  \n",
       " Women's Fashion Graphic \\Don't Flatter Yoursel... 10                       220.0  "
      ]
     },
     "execution_count": 25,
     "metadata": {},
     "output_type": "execute_result"
    }
   ],
   "source": [
    "d3 = d2.groupby(['title','units_sold'],sort=True).sum().sort_values(['units_sold','retail_price'],ascending= False).head(10)\n",
    "d3.head(20)"
   ]
  },
  {
   "cell_type": "code",
   "execution_count": 26,
   "metadata": {},
   "outputs": [
    {
     "data": {
      "text/plain": [
       "[]"
      ]
     },
     "execution_count": 26,
     "metadata": {},
     "output_type": "execute_result"
    },
    {
     "data": {
      "image/png": "[encoded data removed]",
      "text/plain": [
       "<Figure size 432x288 with 1 Axes>"
      ]
     },
     "metadata": {
      "needs_background": "light"
     },
     "output_type": "display_data"
    }
   ],
   "source": [
    "sns.lineplot(x=data['price'],y=data['units_sold' ],color='red')\n",
    "plt.plot()"
   ]
  },
  {
   "cell_type": "markdown",
   "metadata": {},
   "source": [
    "## Top 10 Products in terms of Profit Percentage"
   ]
  },
  {
   "cell_type": "code",
   "execution_count": 27,
   "metadata": {},
   "outputs": [],
   "source": [
    "data['profit'] = data['retail_price'] - data['price']\n",
    "data ['profit_percentage'] = data['profit'] / data['retail_price'] * 100"
   ]
  },
  {
   "cell_type": "code",
   "execution_count": 28,
   "metadata": {},
   "outputs": [
    {
     "data": {
      "text/html": [
       "<div>\n",
       "<style scoped>\n",
       "    .dataframe tbody tr th:only-of-type {\n",
       "        vertical-align: middle;\n",
       "    }\n",
       "\n",
       "    .dataframe tbody tr th {\n",
       "        vertical-align: top;\n",
       "    }\n",
       "\n",
       "    .dataframe thead th {\n",
       "        text-align: right;\n",
       "    }\n",
       "</style>\n",
       "<table border=\"1\" class=\"dataframe\">\n",
       "  <thead>\n",
       "    <tr style=\"text-align: right;\">\n",
       "      <th></th>\n",
       "      <th></th>\n",
       "      <th>units_sold</th>\n",
       "      <th>price</th>\n",
       "      <th>retail_price</th>\n",
       "      <th>profit</th>\n",
       "    </tr>\n",
       "    <tr>\n",
       "      <th>title</th>\n",
       "      <th>profit_percentage</th>\n",
       "      <th></th>\n",
       "      <th></th>\n",
       "      <th></th>\n",
       "      <th></th>\n",
       "    </tr>\n",
       "  </thead>\n",
       "  <tbody>\n",
       "    <tr>\n",
       "      <th>(S-5XL) Femmes Mode D'été Double-couche Shorts De Sport Séchage Rapide Yoga Leggings De Sport Shorts De Fitness Plus La Taille</th>\n",
       "      <th>96.844037</th>\n",
       "      <td>100</td>\n",
       "      <td>1.72</td>\n",
       "      <td>54.5</td>\n",
       "      <td>52.78</td>\n",
       "    </tr>\n",
       "    <tr>\n",
       "      <th>10 couleurs femmes shorts d'été lacent ceinture élastique culotte lâche, plus la taille S-6XL</th>\n",
       "      <th>96.330275</th>\n",
       "      <td>100</td>\n",
       "      <td>2.00</td>\n",
       "      <td>54.5</td>\n",
       "      <td>52.50</td>\n",
       "    </tr>\n",
       "    <tr>\n",
       "      <th>(S-7XL) Femmes Camisole Été Imprimé Gilet Floral Sans Manches Gilet Col V Chemise Plus La Taille</th>\n",
       "      <th>96.330275</th>\n",
       "      <td>1000</td>\n",
       "      <td>2.00</td>\n",
       "      <td>54.5</td>\n",
       "      <td>52.50</td>\n",
       "    </tr>\n",
       "    <tr>\n",
       "      <th>Papillon Imprimer Coton Masque Visage Sport En Plein Air Rencontrez Masque D'isolement D'été Nouvelle Mode À La Mode Masque De Rue Casual Bandana pour les Femmes Soins de Santé</th>\n",
       "      <th>95.100917</th>\n",
       "      <td>10</td>\n",
       "      <td>2.67</td>\n",
       "      <td>54.5</td>\n",
       "      <td>51.83</td>\n",
       "    </tr>\n",
       "    <tr>\n",
       "      <th>Pantalon une pièce imprimé à franges lâches d'été</th>\n",
       "      <th>94.495413</th>\n",
       "      <td>100</td>\n",
       "      <td>3.00</td>\n",
       "      <td>54.5</td>\n",
       "      <td>51.50</td>\n",
       "    </tr>\n",
       "    <tr>\n",
       "      <th>Été Nouvelles Femmes De Mode D'été Sans Manches Lisse Comme Jennessee Whisky Lettre Imprimé Coton Chemises Graphiques Débardeurs</th>\n",
       "      <th>93.384615</th>\n",
       "      <td>1000</td>\n",
       "      <td>1.72</td>\n",
       "      <td>26.0</td>\n",
       "      <td>24.28</td>\n",
       "    </tr>\n",
       "    <tr>\n",
       "      <th>20 chaussettes courtes confortables de mode de sucrerie de couleur invisible de chaussettes antidérapantes de silicone de chaussettes de chaussettes</th>\n",
       "      <th>93.211009</th>\n",
       "      <td>5000</td>\n",
       "      <td>3.70</td>\n",
       "      <td>54.5</td>\n",
       "      <td>50.80</td>\n",
       "    </tr>\n",
       "    <tr>\n",
       "      <th>Femmes sans manches Débardeur Chemise Débardeur Chemise Foi décontractée Lettre Foi décontractée T-shirt imprimé lettre T-shirt ample Chemisier Chemisier en coton Col rond T-shirt graphique à col rond</th>\n",
       "      <th>93.137615</th>\n",
       "      <td>10000</td>\n",
       "      <td>3.74</td>\n",
       "      <td>54.5</td>\n",
       "      <td>50.76</td>\n",
       "    </tr>\n",
       "    <tr>\n",
       "      <th>Pantalon décontracté d'été Pantalon à cinq points pour femmes Section mince Vêtements d'extérieur Pantalon moyen Grande taille Femme Lâche Femme</th>\n",
       "      <th>93.037736</th>\n",
       "      <td>100</td>\n",
       "      <td>3.69</td>\n",
       "      <td>53.0</td>\n",
       "      <td>49.31</td>\n",
       "    </tr>\n",
       "    <tr>\n",
       "      <th>Women's Fashion Fitness Gilet de fitness pour dames Débardeur solide Débardeur pour dames Gilet sans manches Gilet d'été pour femmes Gilet de course sport sexy pour femmes</th>\n",
       "      <th>93.009174</th>\n",
       "      <td>5000</td>\n",
       "      <td>3.81</td>\n",
       "      <td>54.5</td>\n",
       "      <td>50.69</td>\n",
       "    </tr>\n",
       "  </tbody>\n",
       "</table>\n",
       "</div>"
      ],
      "text/plain": [
       "                                                                      units_sold  \\\n",
       "title                                              profit_percentage               \n",
       "(S-5XL) Femmes Mode D'été Double-couche Shorts ... 96.844037                 100   \n",
       "10 couleurs femmes shorts d'été lacent ceinture... 96.330275                 100   \n",
       "(S-7XL) Femmes Camisole Été Imprimé Gilet Flora... 96.330275                1000   \n",
       "Papillon Imprimer Coton Masque Visage Sport En ... 95.100917                  10   \n",
       "Pantalon une pièce imprimé à franges lâches d'été  94.495413                 100   \n",
       "Été Nouvelles Femmes De Mode D'été Sans Manches... 93.384615                1000   \n",
       "20 chaussettes courtes confortables de mode de ... 93.211009                5000   \n",
       "Femmes sans manches Débardeur Chemise Débardeur... 93.137615               10000   \n",
       "Pantalon décontracté d'été Pantalon à cinq poin... 93.037736                 100   \n",
       "Women's Fashion Fitness Gilet de fitness pour d... 93.009174                5000   \n",
       "\n",
       "                                                                      price  \\\n",
       "title                                              profit_percentage          \n",
       "(S-5XL) Femmes Mode D'été Double-couche Shorts ... 96.844037           1.72   \n",
       "10 couleurs femmes shorts d'été lacent ceinture... 96.330275           2.00   \n",
       "(S-7XL) Femmes Camisole Été Imprimé Gilet Flora... 96.330275           2.00   \n",
       "Papillon Imprimer Coton Masque Visage Sport En ... 95.100917           2.67   \n",
       "Pantalon une pièce imprimé à franges lâches d'été  94.495413           3.00   \n",
       "Été Nouvelles Femmes De Mode D'été Sans Manches... 93.384615           1.72   \n",
       "20 chaussettes courtes confortables de mode de ... 93.211009           3.70   \n",
       "Femmes sans manches Débardeur Chemise Débardeur... 93.137615           3.74   \n",
       "Pantalon décontracté d'été Pantalon à cinq poin... 93.037736           3.69   \n",
       "Women's Fashion Fitness Gilet de fitness pour d... 93.009174           3.81   \n",
       "\n",
       "                                                                      retail_price  \\\n",
       "title                                              profit_percentage                 \n",
       "(S-5XL) Femmes Mode D'été Double-couche Shorts ... 96.844037                  54.5   \n",
       "10 couleurs femmes shorts d'été lacent ceinture... 96.330275                  54.5   \n",
       "(S-7XL) Femmes Camisole Été Imprimé Gilet Flora... 96.330275                  54.5   \n",
       "Papillon Imprimer Coton Masque Visage Sport En ... 95.100917                  54.5   \n",
       "Pantalon une pièce imprimé à franges lâches d'été  94.495413                  54.5   \n",
       "Été Nouvelles Femmes De Mode D'été Sans Manches... 93.384615                  26.0   \n",
       "20 chaussettes courtes confortables de mode de ... 93.211009                  54.5   \n",
       "Femmes sans manches Débardeur Chemise Débardeur... 93.137615                  54.5   \n",
       "Pantalon décontracté d'été Pantalon à cinq poin... 93.037736                  53.0   \n",
       "Women's Fashion Fitness Gilet de fitness pour d... 93.009174                  54.5   \n",
       "\n",
       "                                                                      profit  \n",
       "title                                              profit_percentage          \n",
       "(S-5XL) Femmes Mode D'été Double-couche Shorts ... 96.844037           52.78  \n",
       "10 couleurs femmes shorts d'été lacent ceinture... 96.330275           52.50  \n",
       "(S-7XL) Femmes Camisole Été Imprimé Gilet Flora... 96.330275           52.50  \n",
       "Papillon Imprimer Coton Masque Visage Sport En ... 95.100917           51.83  \n",
       "Pantalon une pièce imprimé à franges lâches d'été  94.495413           51.50  \n",
       "Été Nouvelles Femmes De Mode D'été Sans Manches... 93.384615           24.28  \n",
       "20 chaussettes courtes confortables de mode de ... 93.211009           50.80  \n",
       "Femmes sans manches Débardeur Chemise Débardeur... 93.137615           50.76  \n",
       "Pantalon décontracté d'été Pantalon à cinq poin... 93.037736           49.31  \n",
       "Women's Fashion Fitness Gilet de fitness pour d... 93.009174           50.69  "
      ]
     },
     "execution_count": 28,
     "metadata": {},
     "output_type": "execute_result"
    }
   ],
   "source": [
    "# data['profit'] = data['retail_price'] - data['price']\n",
    "# data ['profit_percentage'] = data['profit'] / data['retail_price'] * 100\n",
    "data6 = data[['title','units_sold','price','retail_price','profit','profit_percentage']]\n",
    "grp6 = data6.groupby(['title','profit_percentage'],sort =True).aggregate(max)\n",
    "srt6= grp6.sort_values(['profit_percentage'],ascending = False).head(10)\n",
    "data7 = data[['title','units_sold','profit_percentage']]\n",
    "grp7 = data7.groupby('title',sort=True).aggregate(max)\n",
    "srt7 = grp7.sort_values(['profit_percentage'],ascending = False)\n",
    "\n",
    "\n",
    "srt6\n"
   ]
  },
  {
   "cell_type": "markdown",
   "metadata": {},
   "source": [
    "## Profit percentage vs Units sold"
   ]
  },
  {
   "cell_type": "code",
   "execution_count": 29,
   "metadata": {},
   "outputs": [],
   "source": [
    " \n",
    "\n",
    "\n",
    "\n",
    "filter1 = (srt7['profit_percentage'] >= 90) & (srt7['profit_percentage'] < 100)\n",
    "\n",
    "filter2 = (srt7['profit_percentage'] >= 80) & (srt7['profit_percentage'] < 90)\n",
    "\n",
    "filter3 = (srt7['profit_percentage'] >= 70) & (srt7['profit_percentage'] < 80)\n",
    "\n",
    "filter4 = (srt7['profit_percentage'] >= 60) & (srt7['profit_percentage'] < 70)\n",
    "\n",
    "filter5 = (srt7['profit_percentage'] >= 50) & (srt7['profit_percentage'] < 60)\n",
    "\n",
    "filter6 = (srt7['profit_percentage'] >= 40) & (srt7['profit_percentage'] < 50)\n",
    "\n",
    "\n"
   ]
  },
  {
   "cell_type": "code",
   "execution_count": 30,
   "metadata": {},
   "outputs": [],
   "source": [
    "condition1 = srt7[filter1].astype('int64').head()\n",
    "condition2 = srt7[filter2].astype('int64').head()\n",
    "condition3 = srt7[filter3].astype('int64').head()\n",
    "condition4 = srt7[filter4].astype('int64').head()\n",
    "condition5 = srt7[filter5].astype('int64').head()\n",
    "condition6 = srt7[filter6].astype('int64').head()"
   ]
  },
  {
   "cell_type": "code",
   "execution_count": 31,
   "metadata": {
    "scrolled": true
   },
   "outputs": [
    {
     "data": {
      "text/plain": [
       "units_sold             int64\n",
       "profit_percentage    float64\n",
       "dtype: object"
      ]
     },
     "execution_count": 31,
     "metadata": {},
     "output_type": "execute_result"
    }
   ],
   "source": [
    "srt7.dtypes"
   ]
  },
  {
   "cell_type": "code",
   "execution_count": 32,
   "metadata": {
    "scrolled": false
   },
   "outputs": [
    {
     "data": {
      "text/plain": [
       "<AxesSubplot:xlabel='profit_percentage', ylabel='units_sold'>"
      ]
     },
     "execution_count": 32,
     "metadata": {},
     "output_type": "execute_result"
    },
    {
     "data": {
      "image/png": "[encoded data removed]",
      "text/plain": [
       "<Figure size 720x360 with 1 Axes>"
      ]
     },
     "metadata": {
      "needs_background": "light"
     },
     "output_type": "display_data"
    },
    {
     "data": {
      "image/png": "[encoded data removed]",
      "text/plain": [
       "<Figure size 720x360 with 1 Axes>"
      ]
     },
     "metadata": {
      "needs_background": "light"
     },
     "output_type": "display_data"
    },
    {
     "data": {
      "image/png": "[encoded data removed]",
      "text/plain": [
       "<Figure size 720x360 with 1 Axes>"
      ]
     },
     "metadata": {
      "needs_background": "light"
     },
     "output_type": "display_data"
    },
    {
     "data": {
      "image/png": "[encoded data removed]",
      "text/plain": [
       "<Figure size 720x360 with 1 Axes>"
      ]
     },
     "metadata": {
      "needs_background": "light"
     },
     "output_type": "display_data"
    },
    {
     "data": {
      "image/png": "[encoded data removed]",
      "text/plain": [
       "<Figure size 720x360 with 1 Axes>"
      ]
     },
     "metadata": {
      "needs_background": "light"
     },
     "output_type": "display_data"
    },
    {
     "data": {
      "image/png": "[encoded data removed]",
      "text/plain": [
       "<Figure size 720x360 with 1 Axes>"
      ]
     },
     "metadata": {
      "needs_background": "light"
     },
     "output_type": "display_data"
    }
   ],
   "source": [
    "plt.figure(figsize=(10,5))\n",
    "sns.barplot(x = 'profit_percentage' ,y= 'units_sold' ,data=condition1,palette='Blues')\n",
    "\n",
    "plt.figure(figsize=(10,5))\n",
    "sns.barplot(x = 'profit_percentage' ,y= 'units_sold' ,data=condition2,palette='Blues')\n",
    "\n",
    "plt.figure(figsize=(10,5))\n",
    "sns.barplot(x = 'profit_percentage' ,y= 'units_sold' ,data=condition3,palette='Blues')\n",
    "\n",
    "plt.figure(figsize=(10,5))\n",
    "sns.barplot(x = 'profit_percentage' ,y= 'units_sold' ,data=condition4,palette='Blues')\n",
    "\n",
    "plt.figure(figsize=(10,5))\n",
    "sns.barplot(x = 'profit_percentage' ,y= 'units_sold' ,data=condition5,palette='Blues')\n",
    "\n",
    "plt.figure(figsize=(10,5))\n",
    "sns.barplot(x = 'profit_percentage' ,y= 'units_sold' ,data=condition6,palette='Blues')\n",
    "\n"
   ]
  },
  {
   "cell_type": "markdown",
   "metadata": {},
   "source": [
    "### The graph below states that shipping option price and retail price shows a linear relationship"
   ]
  },
  {
   "cell_type": "code",
   "execution_count": 33,
   "metadata": {},
   "outputs": [
    {
     "data": {
      "text/plain": [
       "[]"
      ]
     },
     "execution_count": 33,
     "metadata": {},
     "output_type": "execute_result"
    },
    {
     "data": {
      "image/png": "[encoded data removed]",
      "text/plain": [
       "<Figure size 432x288 with 1 Axes>"
      ]
     },
     "metadata": {
      "needs_background": "light"
     },
     "output_type": "display_data"
    }
   ],
   "source": [
    "sns.lineplot(x=data['shipping_option_price'],y=data['retail_price'],color='red')\n",
    "plt.plot()"
   ]
  },
  {
   "cell_type": "markdown",
   "metadata": {},
   "source": [
    "## Retail price vs Product size"
   ]
  },
  {
   "cell_type": "code",
   "execution_count": 34,
   "metadata": {},
   "outputs": [],
   "source": [
    "size_map_reverse = {\n",
    "   1:'XXS',  2:'XS',3:'S',4:'M',5:'L',6:'XL',7:'XXL'}\n",
    "\n",
    "data['product_variation_size_id'] = data['product_variation_size_id'].map(size_map_reverse) "
   ]
  },
  {
   "cell_type": "code",
   "execution_count": 35,
   "metadata": {},
   "outputs": [
    {
     "data": {
      "text/plain": [
       "<AxesSubplot:xlabel='product_variation_size_id', ylabel='retail_price'>"
      ]
     },
     "execution_count": 35,
     "metadata": {},
     "output_type": "execute_result"
    },
    {
     "data": {
      "image/png": "[encoded data removed]",
      "text/plain": [
       "<Figure size 720x360 with 1 Axes>"
      ]
     },
     "metadata": {
      "needs_background": "light"
     },
     "output_type": "display_data"
    }
   ],
   "source": [
    "d5 = data.sort_values(['retail_price'],ascending = False)\n",
    "\n",
    "plt.figure(figsize=(10,5))\n",
    "sns.barplot(x = 'product_variation_size_id',y='retail_price',data=d5,order = ['XXS','XS','S','M','L','XL','XXL'],palette='Blues')"
   ]
  },
  {
   "cell_type": "markdown",
   "metadata": {},
   "source": [
    "### From above graph we can see retail price increases with product size."
   ]
  },
  {
   "cell_type": "markdown",
   "metadata": {},
   "source": [
    "## Preparing data for building model"
   ]
  },
  {
   "cell_type": "code",
   "execution_count": 36,
   "metadata": {},
   "outputs": [],
   "source": [
    "data = data.drop(['badges_count','badge_local_product','badge_product_quality','inventory_total','shipping_is_express'],axis = 1)"
   ]
  },
  {
   "cell_type": "code",
   "execution_count": 37,
   "metadata": {},
   "outputs": [],
   "source": [
    "size_map_reverse = {\n",
    "   'XXS':1,'XS':2,'S':3,'M':4,'L':5,'XL':6,'XXL':7}\n",
    "\n",
    "data['product_variation_size_id'] = data['product_variation_size_id'].map(size_map_reverse) "
   ]
  },
  {
   "cell_type": "code",
   "execution_count": 38,
   "metadata": {
    "scrolled": true
   },
   "outputs": [
    {
     "data": {
      "text/html": [
       "<div>\n",
       "<style scoped>\n",
       "    .dataframe tbody tr th:only-of-type {\n",
       "        vertical-align: middle;\n",
       "    }\n",
       "\n",
       "    .dataframe tbody tr th {\n",
       "        vertical-align: top;\n",
       "    }\n",
       "\n",
       "    .dataframe thead th {\n",
       "        text-align: right;\n",
       "    }\n",
       "</style>\n",
       "<table border=\"1\" class=\"dataframe\">\n",
       "  <thead>\n",
       "    <tr style=\"text-align: right;\">\n",
       "      <th></th>\n",
       "      <th>index</th>\n",
       "      <th>price</th>\n",
       "      <th>retail_price</th>\n",
       "      <th>units_sold</th>\n",
       "      <th>uses_ad_boosts</th>\n",
       "      <th>rating</th>\n",
       "      <th>rating_count</th>\n",
       "      <th>rating_five_count</th>\n",
       "      <th>rating_four_count</th>\n",
       "      <th>rating_three_count</th>\n",
       "      <th>...</th>\n",
       "      <th>product_variation_inventory</th>\n",
       "      <th>shipping_option_price</th>\n",
       "      <th>countries_shipped_to</th>\n",
       "      <th>has_urgency_banner</th>\n",
       "      <th>merchant_rating_count</th>\n",
       "      <th>merchant_rating</th>\n",
       "      <th>merchant_has_profile_picture</th>\n",
       "      <th>total_retail_price</th>\n",
       "      <th>profit</th>\n",
       "      <th>profit_percentage</th>\n",
       "    </tr>\n",
       "  </thead>\n",
       "  <tbody>\n",
       "    <tr>\n",
       "      <th>index</th>\n",
       "      <td>1.000000</td>\n",
       "      <td>-0.016162</td>\n",
       "      <td>-0.008196</td>\n",
       "      <td>-0.034178</td>\n",
       "      <td>0.041861</td>\n",
       "      <td>0.049934</td>\n",
       "      <td>-0.036042</td>\n",
       "      <td>-0.036638</td>\n",
       "      <td>-0.037003</td>\n",
       "      <td>-0.037812</td>\n",
       "      <td>...</td>\n",
       "      <td>0.029333</td>\n",
       "      <td>0.009552</td>\n",
       "      <td>-0.044844</td>\n",
       "      <td>NaN</td>\n",
       "      <td>-0.020751</td>\n",
       "      <td>0.029291</td>\n",
       "      <td>NaN</td>\n",
       "      <td>-0.004521</td>\n",
       "      <td>-0.004817</td>\n",
       "      <td>-0.000163</td>\n",
       "    </tr>\n",
       "    <tr>\n",
       "      <th>price</th>\n",
       "      <td>-0.016162</td>\n",
       "      <td>1.000000</td>\n",
       "      <td>0.319997</td>\n",
       "      <td>0.011688</td>\n",
       "      <td>-0.073269</td>\n",
       "      <td>0.053469</td>\n",
       "      <td>0.060879</td>\n",
       "      <td>-0.000673</td>\n",
       "      <td>0.001648</td>\n",
       "      <td>-0.011343</td>\n",
       "      <td>...</td>\n",
       "      <td>0.274819</td>\n",
       "      <td>0.845813</td>\n",
       "      <td>-0.008465</td>\n",
       "      <td>NaN</td>\n",
       "      <td>-0.018851</td>\n",
       "      <td>0.047121</td>\n",
       "      <td>NaN</td>\n",
       "      <td>0.112939</td>\n",
       "      <td>0.101586</td>\n",
       "      <td>-0.081503</td>\n",
       "    </tr>\n",
       "    <tr>\n",
       "      <th>retail_price</th>\n",
       "      <td>-0.008196</td>\n",
       "      <td>0.319997</td>\n",
       "      <td>1.000000</td>\n",
       "      <td>-0.041485</td>\n",
       "      <td>-0.041917</td>\n",
       "      <td>0.034916</td>\n",
       "      <td>-0.008967</td>\n",
       "      <td>0.024948</td>\n",
       "      <td>0.031722</td>\n",
       "      <td>0.027483</td>\n",
       "      <td>...</td>\n",
       "      <td>0.143889</td>\n",
       "      <td>0.284276</td>\n",
       "      <td>0.121312</td>\n",
       "      <td>NaN</td>\n",
       "      <td>0.032619</td>\n",
       "      <td>0.032766</td>\n",
       "      <td>NaN</td>\n",
       "      <td>0.415428</td>\n",
       "      <td>0.975024</td>\n",
       "      <td>0.819011</td>\n",
       "    </tr>\n",
       "    <tr>\n",
       "      <th>units_sold</th>\n",
       "      <td>-0.034178</td>\n",
       "      <td>0.011688</td>\n",
       "      <td>-0.041485</td>\n",
       "      <td>1.000000</td>\n",
       "      <td>-0.018215</td>\n",
       "      <td>0.059135</td>\n",
       "      <td>0.936914</td>\n",
       "      <td>0.702109</td>\n",
       "      <td>0.701613</td>\n",
       "      <td>0.679141</td>\n",
       "      <td>...</td>\n",
       "      <td>0.201097</td>\n",
       "      <td>0.027910</td>\n",
       "      <td>0.021367</td>\n",
       "      <td>NaN</td>\n",
       "      <td>0.356859</td>\n",
       "      <td>0.185828</td>\n",
       "      <td>NaN</td>\n",
       "      <td>0.635714</td>\n",
       "      <td>-0.046301</td>\n",
       "      <td>-0.087228</td>\n",
       "    </tr>\n",
       "    <tr>\n",
       "      <th>uses_ad_boosts</th>\n",
       "      <td>0.041861</td>\n",
       "      <td>-0.073269</td>\n",
       "      <td>-0.041917</td>\n",
       "      <td>-0.018215</td>\n",
       "      <td>1.000000</td>\n",
       "      <td>-0.049410</td>\n",
       "      <td>-0.039249</td>\n",
       "      <td>-0.043329</td>\n",
       "      <td>-0.043691</td>\n",
       "      <td>-0.041540</td>\n",
       "      <td>...</td>\n",
       "      <td>-0.135384</td>\n",
       "      <td>-0.073891</td>\n",
       "      <td>0.005683</td>\n",
       "      <td>NaN</td>\n",
       "      <td>0.018345</td>\n",
       "      <td>-0.022564</td>\n",
       "      <td>NaN</td>\n",
       "      <td>-0.040108</td>\n",
       "      <td>-0.026838</td>\n",
       "      <td>-0.026078</td>\n",
       "    </tr>\n",
       "    <tr>\n",
       "      <th>rating</th>\n",
       "      <td>0.049934</td>\n",
       "      <td>0.053469</td>\n",
       "      <td>0.034916</td>\n",
       "      <td>0.059135</td>\n",
       "      <td>-0.049410</td>\n",
       "      <td>1.000000</td>\n",
       "      <td>0.079944</td>\n",
       "      <td>0.097374</td>\n",
       "      <td>0.062574</td>\n",
       "      <td>0.014703</td>\n",
       "      <td>...</td>\n",
       "      <td>0.031954</td>\n",
       "      <td>0.066146</td>\n",
       "      <td>0.059155</td>\n",
       "      <td>NaN</td>\n",
       "      <td>0.050264</td>\n",
       "      <td>0.237305</td>\n",
       "      <td>NaN</td>\n",
       "      <td>0.056325</td>\n",
       "      <td>0.024129</td>\n",
       "      <td>0.016204</td>\n",
       "    </tr>\n",
       "    <tr>\n",
       "      <th>rating_count</th>\n",
       "      <td>-0.036042</td>\n",
       "      <td>0.060879</td>\n",
       "      <td>-0.008967</td>\n",
       "      <td>0.936914</td>\n",
       "      <td>-0.039249</td>\n",
       "      <td>0.079944</td>\n",
       "      <td>1.000000</td>\n",
       "      <td>0.721283</td>\n",
       "      <td>0.720097</td>\n",
       "      <td>0.690579</td>\n",
       "      <td>...</td>\n",
       "      <td>0.208097</td>\n",
       "      <td>0.078852</td>\n",
       "      <td>0.026379</td>\n",
       "      <td>NaN</td>\n",
       "      <td>0.375295</td>\n",
       "      <td>0.218926</td>\n",
       "      <td>NaN</td>\n",
       "      <td>0.612907</td>\n",
       "      <td>-0.023687</td>\n",
       "      <td>-0.085925</td>\n",
       "    </tr>\n",
       "    <tr>\n",
       "      <th>rating_five_count</th>\n",
       "      <td>-0.036638</td>\n",
       "      <td>-0.000673</td>\n",
       "      <td>0.024948</td>\n",
       "      <td>0.702109</td>\n",
       "      <td>-0.043329</td>\n",
       "      <td>0.097374</td>\n",
       "      <td>0.721283</td>\n",
       "      <td>1.000000</td>\n",
       "      <td>0.981308</td>\n",
       "      <td>0.933014</td>\n",
       "      <td>...</td>\n",
       "      <td>0.126954</td>\n",
       "      <td>0.002529</td>\n",
       "      <td>0.035613</td>\n",
       "      <td>NaN</td>\n",
       "      <td>0.334303</td>\n",
       "      <td>0.162635</td>\n",
       "      <td>NaN</td>\n",
       "      <td>0.519567</td>\n",
       "      <td>0.026354</td>\n",
       "      <td>-0.007863</td>\n",
       "    </tr>\n",
       "    <tr>\n",
       "      <th>rating_four_count</th>\n",
       "      <td>-0.037003</td>\n",
       "      <td>0.001648</td>\n",
       "      <td>0.031722</td>\n",
       "      <td>0.701613</td>\n",
       "      <td>-0.043691</td>\n",
       "      <td>0.062574</td>\n",
       "      <td>0.720097</td>\n",
       "      <td>0.981308</td>\n",
       "      <td>1.000000</td>\n",
       "      <td>0.976517</td>\n",
       "      <td>...</td>\n",
       "      <td>0.135092</td>\n",
       "      <td>0.002109</td>\n",
       "      <td>0.039473</td>\n",
       "      <td>NaN</td>\n",
       "      <td>0.337753</td>\n",
       "      <td>0.143029</td>\n",
       "      <td>NaN</td>\n",
       "      <td>0.532299</td>\n",
       "      <td>0.032923</td>\n",
       "      <td>-0.000751</td>\n",
       "    </tr>\n",
       "    <tr>\n",
       "      <th>rating_three_count</th>\n",
       "      <td>-0.037812</td>\n",
       "      <td>-0.011343</td>\n",
       "      <td>0.027483</td>\n",
       "      <td>0.679141</td>\n",
       "      <td>-0.041540</td>\n",
       "      <td>0.014703</td>\n",
       "      <td>0.690579</td>\n",
       "      <td>0.933014</td>\n",
       "      <td>0.976517</td>\n",
       "      <td>1.000000</td>\n",
       "      <td>...</td>\n",
       "      <td>0.135342</td>\n",
       "      <td>-0.011862</td>\n",
       "      <td>0.041606</td>\n",
       "      <td>NaN</td>\n",
       "      <td>0.334960</td>\n",
       "      <td>0.112356</td>\n",
       "      <td>NaN</td>\n",
       "      <td>0.515007</td>\n",
       "      <td>0.031517</td>\n",
       "      <td>0.006500</td>\n",
       "    </tr>\n",
       "    <tr>\n",
       "      <th>rating_two_count</th>\n",
       "      <td>-0.033873</td>\n",
       "      <td>-0.009483</td>\n",
       "      <td>0.027604</td>\n",
       "      <td>0.657029</td>\n",
       "      <td>-0.043963</td>\n",
       "      <td>-0.023559</td>\n",
       "      <td>0.664952</td>\n",
       "      <td>0.874357</td>\n",
       "      <td>0.933517</td>\n",
       "      <td>0.984942</td>\n",
       "      <td>...</td>\n",
       "      <td>0.133836</td>\n",
       "      <td>-0.010957</td>\n",
       "      <td>0.035767</td>\n",
       "      <td>NaN</td>\n",
       "      <td>0.324710</td>\n",
       "      <td>0.093490</td>\n",
       "      <td>NaN</td>\n",
       "      <td>0.502954</td>\n",
       "      <td>0.031209</td>\n",
       "      <td>0.009128</td>\n",
       "    </tr>\n",
       "    <tr>\n",
       "      <th>rating_one_count</th>\n",
       "      <td>-0.038384</td>\n",
       "      <td>0.005229</td>\n",
       "      <td>0.025635</td>\n",
       "      <td>0.667736</td>\n",
       "      <td>-0.040299</td>\n",
       "      <td>-0.058450</td>\n",
       "      <td>0.676277</td>\n",
       "      <td>0.829729</td>\n",
       "      <td>0.892531</td>\n",
       "      <td>0.952395</td>\n",
       "      <td>...</td>\n",
       "      <td>0.132902</td>\n",
       "      <td>0.004198</td>\n",
       "      <td>0.024441</td>\n",
       "      <td>NaN</td>\n",
       "      <td>0.317198</td>\n",
       "      <td>0.082484</td>\n",
       "      <td>NaN</td>\n",
       "      <td>0.510881</td>\n",
       "      <td>0.025692</td>\n",
       "      <td>-0.000666</td>\n",
       "    </tr>\n",
       "    <tr>\n",
       "      <th>badge_fast_shipping</th>\n",
       "      <td>NaN</td>\n",
       "      <td>NaN</td>\n",
       "      <td>NaN</td>\n",
       "      <td>NaN</td>\n",
       "      <td>NaN</td>\n",
       "      <td>NaN</td>\n",
       "      <td>NaN</td>\n",
       "      <td>NaN</td>\n",
       "      <td>NaN</td>\n",
       "      <td>NaN</td>\n",
       "      <td>...</td>\n",
       "      <td>NaN</td>\n",
       "      <td>NaN</td>\n",
       "      <td>NaN</td>\n",
       "      <td>NaN</td>\n",
       "      <td>NaN</td>\n",
       "      <td>NaN</td>\n",
       "      <td>NaN</td>\n",
       "      <td>NaN</td>\n",
       "      <td>NaN</td>\n",
       "      <td>NaN</td>\n",
       "    </tr>\n",
       "    <tr>\n",
       "      <th>product_variation_size_id</th>\n",
       "      <td>-0.037626</td>\n",
       "      <td>0.280787</td>\n",
       "      <td>0.146777</td>\n",
       "      <td>0.152874</td>\n",
       "      <td>-0.039271</td>\n",
       "      <td>0.006983</td>\n",
       "      <td>0.175702</td>\n",
       "      <td>0.106322</td>\n",
       "      <td>0.106700</td>\n",
       "      <td>0.104746</td>\n",
       "      <td>...</td>\n",
       "      <td>0.339686</td>\n",
       "      <td>0.251705</td>\n",
       "      <td>0.158085</td>\n",
       "      <td>NaN</td>\n",
       "      <td>0.093224</td>\n",
       "      <td>0.085597</td>\n",
       "      <td>NaN</td>\n",
       "      <td>0.126664</td>\n",
       "      <td>0.088298</td>\n",
       "      <td>0.014380</td>\n",
       "    </tr>\n",
       "    <tr>\n",
       "      <th>product_variation_inventory</th>\n",
       "      <td>0.029333</td>\n",
       "      <td>0.274819</td>\n",
       "      <td>0.143889</td>\n",
       "      <td>0.201097</td>\n",
       "      <td>-0.135384</td>\n",
       "      <td>0.031954</td>\n",
       "      <td>0.208097</td>\n",
       "      <td>0.126954</td>\n",
       "      <td>0.135092</td>\n",
       "      <td>0.135342</td>\n",
       "      <td>...</td>\n",
       "      <td>1.000000</td>\n",
       "      <td>0.294764</td>\n",
       "      <td>0.134837</td>\n",
       "      <td>NaN</td>\n",
       "      <td>0.088262</td>\n",
       "      <td>0.158771</td>\n",
       "      <td>NaN</td>\n",
       "      <td>0.185067</td>\n",
       "      <td>0.086665</td>\n",
       "      <td>0.012909</td>\n",
       "    </tr>\n",
       "    <tr>\n",
       "      <th>shipping_option_price</th>\n",
       "      <td>0.009552</td>\n",
       "      <td>0.845813</td>\n",
       "      <td>0.284276</td>\n",
       "      <td>0.027910</td>\n",
       "      <td>-0.073891</td>\n",
       "      <td>0.066146</td>\n",
       "      <td>0.078852</td>\n",
       "      <td>0.002529</td>\n",
       "      <td>0.002109</td>\n",
       "      <td>-0.011862</td>\n",
       "      <td>...</td>\n",
       "      <td>0.294764</td>\n",
       "      <td>1.000000</td>\n",
       "      <td>-0.014091</td>\n",
       "      <td>NaN</td>\n",
       "      <td>-0.011479</td>\n",
       "      <td>0.049854</td>\n",
       "      <td>NaN</td>\n",
       "      <td>0.126015</td>\n",
       "      <td>0.100222</td>\n",
       "      <td>-0.081221</td>\n",
       "    </tr>\n",
       "    <tr>\n",
       "      <th>countries_shipped_to</th>\n",
       "      <td>-0.044844</td>\n",
       "      <td>-0.008465</td>\n",
       "      <td>0.121312</td>\n",
       "      <td>0.021367</td>\n",
       "      <td>0.005683</td>\n",
       "      <td>0.059155</td>\n",
       "      <td>0.026379</td>\n",
       "      <td>0.035613</td>\n",
       "      <td>0.039473</td>\n",
       "      <td>0.041606</td>\n",
       "      <td>...</td>\n",
       "      <td>0.134837</td>\n",
       "      <td>-0.014091</td>\n",
       "      <td>1.000000</td>\n",
       "      <td>NaN</td>\n",
       "      <td>0.156220</td>\n",
       "      <td>0.171518</td>\n",
       "      <td>NaN</td>\n",
       "      <td>0.073441</td>\n",
       "      <td>0.129367</td>\n",
       "      <td>0.155780</td>\n",
       "    </tr>\n",
       "    <tr>\n",
       "      <th>has_urgency_banner</th>\n",
       "      <td>NaN</td>\n",
       "      <td>NaN</td>\n",
       "      <td>NaN</td>\n",
       "      <td>NaN</td>\n",
       "      <td>NaN</td>\n",
       "      <td>NaN</td>\n",
       "      <td>NaN</td>\n",
       "      <td>NaN</td>\n",
       "      <td>NaN</td>\n",
       "      <td>NaN</td>\n",
       "      <td>...</td>\n",
       "      <td>NaN</td>\n",
       "      <td>NaN</td>\n",
       "      <td>NaN</td>\n",
       "      <td>NaN</td>\n",
       "      <td>NaN</td>\n",
       "      <td>NaN</td>\n",
       "      <td>NaN</td>\n",
       "      <td>NaN</td>\n",
       "      <td>NaN</td>\n",
       "      <td>NaN</td>\n",
       "    </tr>\n",
       "    <tr>\n",
       "      <th>merchant_rating_count</th>\n",
       "      <td>-0.020751</td>\n",
       "      <td>-0.018851</td>\n",
       "      <td>0.032619</td>\n",
       "      <td>0.356859</td>\n",
       "      <td>0.018345</td>\n",
       "      <td>0.050264</td>\n",
       "      <td>0.375295</td>\n",
       "      <td>0.334303</td>\n",
       "      <td>0.337753</td>\n",
       "      <td>0.334960</td>\n",
       "      <td>...</td>\n",
       "      <td>0.088262</td>\n",
       "      <td>-0.011479</td>\n",
       "      <td>0.156220</td>\n",
       "      <td>NaN</td>\n",
       "      <td>1.000000</td>\n",
       "      <td>0.198519</td>\n",
       "      <td>NaN</td>\n",
       "      <td>0.293200</td>\n",
       "      <td>0.038671</td>\n",
       "      <td>0.019347</td>\n",
       "    </tr>\n",
       "    <tr>\n",
       "      <th>merchant_rating</th>\n",
       "      <td>0.029291</td>\n",
       "      <td>0.047121</td>\n",
       "      <td>0.032766</td>\n",
       "      <td>0.185828</td>\n",
       "      <td>-0.022564</td>\n",
       "      <td>0.237305</td>\n",
       "      <td>0.218926</td>\n",
       "      <td>0.162635</td>\n",
       "      <td>0.143029</td>\n",
       "      <td>0.112356</td>\n",
       "      <td>...</td>\n",
       "      <td>0.158771</td>\n",
       "      <td>0.049854</td>\n",
       "      <td>0.171518</td>\n",
       "      <td>NaN</td>\n",
       "      <td>0.198519</td>\n",
       "      <td>1.000000</td>\n",
       "      <td>NaN</td>\n",
       "      <td>0.140191</td>\n",
       "      <td>0.023359</td>\n",
       "      <td>0.008236</td>\n",
       "    </tr>\n",
       "    <tr>\n",
       "      <th>merchant_has_profile_picture</th>\n",
       "      <td>NaN</td>\n",
       "      <td>NaN</td>\n",
       "      <td>NaN</td>\n",
       "      <td>NaN</td>\n",
       "      <td>NaN</td>\n",
       "      <td>NaN</td>\n",
       "      <td>NaN</td>\n",
       "      <td>NaN</td>\n",
       "      <td>NaN</td>\n",
       "      <td>NaN</td>\n",
       "      <td>...</td>\n",
       "      <td>NaN</td>\n",
       "      <td>NaN</td>\n",
       "      <td>NaN</td>\n",
       "      <td>NaN</td>\n",
       "      <td>NaN</td>\n",
       "      <td>NaN</td>\n",
       "      <td>NaN</td>\n",
       "      <td>NaN</td>\n",
       "      <td>NaN</td>\n",
       "      <td>NaN</td>\n",
       "    </tr>\n",
       "    <tr>\n",
       "      <th>total_retail_price</th>\n",
       "      <td>-0.004521</td>\n",
       "      <td>0.112939</td>\n",
       "      <td>0.415428</td>\n",
       "      <td>0.635714</td>\n",
       "      <td>-0.040108</td>\n",
       "      <td>0.056325</td>\n",
       "      <td>0.612907</td>\n",
       "      <td>0.519567</td>\n",
       "      <td>0.532299</td>\n",
       "      <td>0.515007</td>\n",
       "      <td>...</td>\n",
       "      <td>0.185067</td>\n",
       "      <td>0.126015</td>\n",
       "      <td>0.073441</td>\n",
       "      <td>NaN</td>\n",
       "      <td>0.293200</td>\n",
       "      <td>0.140191</td>\n",
       "      <td>NaN</td>\n",
       "      <td>1.000000</td>\n",
       "      <td>0.409740</td>\n",
       "      <td>0.327899</td>\n",
       "    </tr>\n",
       "    <tr>\n",
       "      <th>profit</th>\n",
       "      <td>-0.004817</td>\n",
       "      <td>0.101586</td>\n",
       "      <td>0.975024</td>\n",
       "      <td>-0.046301</td>\n",
       "      <td>-0.026838</td>\n",
       "      <td>0.024129</td>\n",
       "      <td>-0.023687</td>\n",
       "      <td>0.026354</td>\n",
       "      <td>0.032923</td>\n",
       "      <td>0.031517</td>\n",
       "      <td>...</td>\n",
       "      <td>0.086665</td>\n",
       "      <td>0.100222</td>\n",
       "      <td>0.129367</td>\n",
       "      <td>NaN</td>\n",
       "      <td>0.038671</td>\n",
       "      <td>0.023359</td>\n",
       "      <td>NaN</td>\n",
       "      <td>0.409740</td>\n",
       "      <td>1.000000</td>\n",
       "      <td>0.879100</td>\n",
       "    </tr>\n",
       "    <tr>\n",
       "      <th>profit_percentage</th>\n",
       "      <td>-0.000163</td>\n",
       "      <td>-0.081503</td>\n",
       "      <td>0.819011</td>\n",
       "      <td>-0.087228</td>\n",
       "      <td>-0.026078</td>\n",
       "      <td>0.016204</td>\n",
       "      <td>-0.085925</td>\n",
       "      <td>-0.007863</td>\n",
       "      <td>-0.000751</td>\n",
       "      <td>0.006500</td>\n",
       "      <td>...</td>\n",
       "      <td>0.012909</td>\n",
       "      <td>-0.081221</td>\n",
       "      <td>0.155780</td>\n",
       "      <td>NaN</td>\n",
       "      <td>0.019347</td>\n",
       "      <td>0.008236</td>\n",
       "      <td>NaN</td>\n",
       "      <td>0.327899</td>\n",
       "      <td>0.879100</td>\n",
       "      <td>1.000000</td>\n",
       "    </tr>\n",
       "  </tbody>\n",
       "</table>\n",
       "<p>24 rows × 24 columns</p>\n",
       "</div>"
      ],
      "text/plain": [
       "                                 index     price  retail_price  units_sold  \\\n",
       "index                         1.000000 -0.016162     -0.008196   -0.034178   \n",
       "price                        -0.016162  1.000000      0.319997    0.011688   \n",
       "retail_price                 -0.008196  0.319997      1.000000   -0.041485   \n",
       "units_sold                   -0.034178  0.011688     -0.041485    1.000000   \n",
       "uses_ad_boosts                0.041861 -0.073269     -0.041917   -0.018215   \n",
       "rating                        0.049934  0.053469      0.034916    0.059135   \n",
       "rating_count                 -0.036042  0.060879     -0.008967    0.936914   \n",
       "rating_five_count            -0.036638 -0.000673      0.024948    0.702109   \n",
       "rating_four_count            -0.037003  0.001648      0.031722    0.701613   \n",
       "rating_three_count           -0.037812 -0.011343      0.027483    0.679141   \n",
       "rating_two_count             -0.033873 -0.009483      0.027604    0.657029   \n",
       "rating_one_count             -0.038384  0.005229      0.025635    0.667736   \n",
       "badge_fast_shipping                NaN       NaN           NaN         NaN   \n",
       "product_variation_size_id    -0.037626  0.280787      0.146777    0.152874   \n",
       "product_variation_inventory   0.029333  0.274819      0.143889    0.201097   \n",
       "shipping_option_price         0.009552  0.845813      0.284276    0.027910   \n",
       "countries_shipped_to         -0.044844 -0.008465      0.121312    0.021367   \n",
       "has_urgency_banner                 NaN       NaN           NaN         NaN   \n",
       "merchant_rating_count        -0.020751 -0.018851      0.032619    0.356859   \n",
       "merchant_rating               0.029291  0.047121      0.032766    0.185828   \n",
       "merchant_has_profile_picture       NaN       NaN           NaN         NaN   \n",
       "total_retail_price           -0.004521  0.112939      0.415428    0.635714   \n",
       "profit                       -0.004817  0.101586      0.975024   -0.046301   \n",
       "profit_percentage            -0.000163 -0.081503      0.819011   -0.087228   \n",
       "\n",
       "                              uses_ad_boosts    rating  rating_count  \\\n",
       "index                               0.041861  0.049934     -0.036042   \n",
       "price                              -0.073269  0.053469      0.060879   \n",
       "retail_price                       -0.041917  0.034916     -0.008967   \n",
       "units_sold                         -0.018215  0.059135      0.936914   \n",
       "uses_ad_boosts                      1.000000 -0.049410     -0.039249   \n",
       "rating                             -0.049410  1.000000      0.079944   \n",
       "rating_count                       -0.039249  0.079944      1.000000   \n",
       "rating_five_count                  -0.043329  0.097374      0.721283   \n",
       "rating_four_count                  -0.043691  0.062574      0.720097   \n",
       "rating_three_count                 -0.041540  0.014703      0.690579   \n",
       "rating_two_count                   -0.043963 -0.023559      0.664952   \n",
       "rating_one_count                   -0.040299 -0.058450      0.676277   \n",
       "badge_fast_shipping                      NaN       NaN           NaN   \n",
       "product_variation_size_id          -0.039271  0.006983      0.175702   \n",
       "product_variation_inventory        -0.135384  0.031954      0.208097   \n",
       "shipping_option_price              -0.073891  0.066146      0.078852   \n",
       "countries_shipped_to                0.005683  0.059155      0.026379   \n",
       "has_urgency_banner                       NaN       NaN           NaN   \n",
       "merchant_rating_count               0.018345  0.050264      0.375295   \n",
       "merchant_rating                    -0.022564  0.237305      0.218926   \n",
       "merchant_has_profile_picture             NaN       NaN           NaN   \n",
       "total_retail_price                 -0.040108  0.056325      0.612907   \n",
       "profit                             -0.026838  0.024129     -0.023687   \n",
       "profit_percentage                  -0.026078  0.016204     -0.085925   \n",
       "\n",
       "                              rating_five_count  rating_four_count  \\\n",
       "index                                 -0.036638          -0.037003   \n",
       "price                                 -0.000673           0.001648   \n",
       "retail_price                           0.024948           0.031722   \n",
       "units_sold                             0.702109           0.701613   \n",
       "uses_ad_boosts                        -0.043329          -0.043691   \n",
       "rating                                 0.097374           0.062574   \n",
       "rating_count                           0.721283           0.720097   \n",
       "rating_five_count                      1.000000           0.981308   \n",
       "rating_four_count                      0.981308           1.000000   \n",
       "rating_three_count                     0.933014           0.976517   \n",
       "rating_two_count                       0.874357           0.933517   \n",
       "rating_one_count                       0.829729           0.892531   \n",
       "badge_fast_shipping                         NaN                NaN   \n",
       "product_variation_size_id              0.106322           0.106700   \n",
       "product_variation_inventory            0.126954           0.135092   \n",
       "shipping_option_price                  0.002529           0.002109   \n",
       "countries_shipped_to                   0.035613           0.039473   \n",
       "has_urgency_banner                          NaN                NaN   \n",
       "merchant_rating_count                  0.334303           0.337753   \n",
       "merchant_rating                        0.162635           0.143029   \n",
       "merchant_has_profile_picture                NaN                NaN   \n",
       "total_retail_price                     0.519567           0.532299   \n",
       "profit                                 0.026354           0.032923   \n",
       "profit_percentage                     -0.007863          -0.000751   \n",
       "\n",
       "                              rating_three_count  ...  \\\n",
       "index                                  -0.037812  ...   \n",
       "price                                  -0.011343  ...   \n",
       "retail_price                            0.027483  ...   \n",
       "units_sold                              0.679141  ...   \n",
       "uses_ad_boosts                         -0.041540  ...   \n",
       "rating                                  0.014703  ...   \n",
       "rating_count                            0.690579  ...   \n",
       "rating_five_count                       0.933014  ...   \n",
       "rating_four_count                       0.976517  ...   \n",
       "rating_three_count                      1.000000  ...   \n",
       "rating_two_count                        0.984942  ...   \n",
       "rating_one_count                        0.952395  ...   \n",
       "badge_fast_shipping                          NaN  ...   \n",
       "product_variation_size_id               0.104746  ...   \n",
       "product_variation_inventory             0.135342  ...   \n",
       "shipping_option_price                  -0.011862  ...   \n",
       "countries_shipped_to                    0.041606  ...   \n",
       "has_urgency_banner                           NaN  ...   \n",
       "merchant_rating_count                   0.334960  ...   \n",
       "merchant_rating                         0.112356  ...   \n",
       "merchant_has_profile_picture                 NaN  ...   \n",
       "total_retail_price                      0.515007  ...   \n",
       "profit                                  0.031517  ...   \n",
       "profit_percentage                       0.006500  ...   \n",
       "\n",
       "                              product_variation_inventory  \\\n",
       "index                                            0.029333   \n",
       "price                                            0.274819   \n",
       "retail_price                                     0.143889   \n",
       "units_sold                                       0.201097   \n",
       "uses_ad_boosts                                  -0.135384   \n",
       "rating                                           0.031954   \n",
       "rating_count                                     0.208097   \n",
       "rating_five_count                                0.126954   \n",
       "rating_four_count                                0.135092   \n",
       "rating_three_count                               0.135342   \n",
       "rating_two_count                                 0.133836   \n",
       "rating_one_count                                 0.132902   \n",
       "badge_fast_shipping                                   NaN   \n",
       "product_variation_size_id                        0.339686   \n",
       "product_variation_inventory                      1.000000   \n",
       "shipping_option_price                            0.294764   \n",
       "countries_shipped_to                             0.134837   \n",
       "has_urgency_banner                                    NaN   \n",
       "merchant_rating_count                            0.088262   \n",
       "merchant_rating                                  0.158771   \n",
       "merchant_has_profile_picture                          NaN   \n",
       "total_retail_price                               0.185067   \n",
       "profit                                           0.086665   \n",
       "profit_percentage                                0.012909   \n",
       "\n",
       "                              shipping_option_price  countries_shipped_to  \\\n",
       "index                                      0.009552             -0.044844   \n",
       "price                                      0.845813             -0.008465   \n",
       "retail_price                               0.284276              0.121312   \n",
       "units_sold                                 0.027910              0.021367   \n",
       "uses_ad_boosts                            -0.073891              0.005683   \n",
       "rating                                     0.066146              0.059155   \n",
       "rating_count                               0.078852              0.026379   \n",
       "rating_five_count                          0.002529              0.035613   \n",
       "rating_four_count                          0.002109              0.039473   \n",
       "rating_three_count                        -0.011862              0.041606   \n",
       "rating_two_count                          -0.010957              0.035767   \n",
       "rating_one_count                           0.004198              0.024441   \n",
       "badge_fast_shipping                             NaN                   NaN   \n",
       "product_variation_size_id                  0.251705              0.158085   \n",
       "product_variation_inventory                0.294764              0.134837   \n",
       "shipping_option_price                      1.000000             -0.014091   \n",
       "countries_shipped_to                      -0.014091              1.000000   \n",
       "has_urgency_banner                              NaN                   NaN   \n",
       "merchant_rating_count                     -0.011479              0.156220   \n",
       "merchant_rating                            0.049854              0.171518   \n",
       "merchant_has_profile_picture                    NaN                   NaN   \n",
       "total_retail_price                         0.126015              0.073441   \n",
       "profit                                     0.100222              0.129367   \n",
       "profit_percentage                         -0.081221              0.155780   \n",
       "\n",
       "                              has_urgency_banner  merchant_rating_count  \\\n",
       "index                                        NaN              -0.020751   \n",
       "price                                        NaN              -0.018851   \n",
       "retail_price                                 NaN               0.032619   \n",
       "units_sold                                   NaN               0.356859   \n",
       "uses_ad_boosts                               NaN               0.018345   \n",
       "rating                                       NaN               0.050264   \n",
       "rating_count                                 NaN               0.375295   \n",
       "rating_five_count                            NaN               0.334303   \n",
       "rating_four_count                            NaN               0.337753   \n",
       "rating_three_count                           NaN               0.334960   \n",
       "rating_two_count                             NaN               0.324710   \n",
       "rating_one_count                             NaN               0.317198   \n",
       "badge_fast_shipping                          NaN                    NaN   \n",
       "product_variation_size_id                    NaN               0.093224   \n",
       "product_variation_inventory                  NaN               0.088262   \n",
       "shipping_option_price                        NaN              -0.011479   \n",
       "countries_shipped_to                         NaN               0.156220   \n",
       "has_urgency_banner                           NaN                    NaN   \n",
       "merchant_rating_count                        NaN               1.000000   \n",
       "merchant_rating                              NaN               0.198519   \n",
       "merchant_has_profile_picture                 NaN                    NaN   \n",
       "total_retail_price                           NaN               0.293200   \n",
       "profit                                       NaN               0.038671   \n",
       "profit_percentage                            NaN               0.019347   \n",
       "\n",
       "                              merchant_rating  merchant_has_profile_picture  \\\n",
       "index                                0.029291                           NaN   \n",
       "price                                0.047121                           NaN   \n",
       "retail_price                         0.032766                           NaN   \n",
       "units_sold                           0.185828                           NaN   \n",
       "uses_ad_boosts                      -0.022564                           NaN   \n",
       "rating                               0.237305                           NaN   \n",
       "rating_count                         0.218926                           NaN   \n",
       "rating_five_count                    0.162635                           NaN   \n",
       "rating_four_count                    0.143029                           NaN   \n",
       "rating_three_count                   0.112356                           NaN   \n",
       "rating_two_count                     0.093490                           NaN   \n",
       "rating_one_count                     0.082484                           NaN   \n",
       "badge_fast_shipping                       NaN                           NaN   \n",
       "product_variation_size_id            0.085597                           NaN   \n",
       "product_variation_inventory          0.158771                           NaN   \n",
       "shipping_option_price                0.049854                           NaN   \n",
       "countries_shipped_to                 0.171518                           NaN   \n",
       "has_urgency_banner                        NaN                           NaN   \n",
       "merchant_rating_count                0.198519                           NaN   \n",
       "merchant_rating                      1.000000                           NaN   \n",
       "merchant_has_profile_picture              NaN                           NaN   \n",
       "total_retail_price                   0.140191                           NaN   \n",
       "profit                               0.023359                           NaN   \n",
       "profit_percentage                    0.008236                           NaN   \n",
       "\n",
       "                              total_retail_price    profit  profit_percentage  \n",
       "index                                  -0.004521 -0.004817          -0.000163  \n",
       "price                                   0.112939  0.101586          -0.081503  \n",
       "retail_price                            0.415428  0.975024           0.819011  \n",
       "units_sold                              0.635714 -0.046301          -0.087228  \n",
       "uses_ad_boosts                         -0.040108 -0.026838          -0.026078  \n",
       "rating                                  0.056325  0.024129           0.016204  \n",
       "rating_count                            0.612907 -0.023687          -0.085925  \n",
       "rating_five_count                       0.519567  0.026354          -0.007863  \n",
       "rating_four_count                       0.532299  0.032923          -0.000751  \n",
       "rating_three_count                      0.515007  0.031517           0.006500  \n",
       "rating_two_count                        0.502954  0.031209           0.009128  \n",
       "rating_one_count                        0.510881  0.025692          -0.000666  \n",
       "badge_fast_shipping                          NaN       NaN                NaN  \n",
       "product_variation_size_id               0.126664  0.088298           0.014380  \n",
       "product_variation_inventory             0.185067  0.086665           0.012909  \n",
       "shipping_option_price                   0.126015  0.100222          -0.081221  \n",
       "countries_shipped_to                    0.073441  0.129367           0.155780  \n",
       "has_urgency_banner                           NaN       NaN                NaN  \n",
       "merchant_rating_count                   0.293200  0.038671           0.019347  \n",
       "merchant_rating                         0.140191  0.023359           0.008236  \n",
       "merchant_has_profile_picture                 NaN       NaN                NaN  \n",
       "total_retail_price                      1.000000  0.409740           0.327899  \n",
       "profit                                  0.409740  1.000000           0.879100  \n",
       "profit_percentage                       0.327899  0.879100           1.000000  \n",
       "\n",
       "[24 rows x 24 columns]"
      ]
     },
     "execution_count": 38,
     "metadata": {},
     "output_type": "execute_result"
    }
   ],
   "source": [
    " \n",
    "data.corr()"
   ]
  },
  {
   "cell_type": "markdown",
   "metadata": {},
   "source": [
    "## Linear Regression\n",
    "\n",
    "\n",
    "\n"
   ]
  },
  {
   "cell_type": "code",
   "execution_count": 39,
   "metadata": {},
   "outputs": [],
   "source": [
    "drop_columns = ['retail_price','title','currency_buyer','shipping_option_name','theme','product_color',\n",
    "                'product_id',\"title_orig\",\"product_url\",\"tags\",\"urgency_text\",\"origin_country\",\"merchant_title\",\n",
    "                 \"merchant_name\",\"merchant_info_subtitle\",\"merchant_profile_picture\",\"product_url\",\"product_picture\",\n",
    "                 \"crawl_month\",\"merchant_id\",\"merchant_has_profile_picture\",\"has_urgency_banner\",\n",
    "                \"merchant_has_profile_picture\"]\n",
    "    \n"
   ]
  },
  {
   "cell_type": "code",
   "execution_count": 40,
   "metadata": {},
   "outputs": [],
   "source": [
    "X = data.drop(drop_columns,axis=1)\n",
    "y = data['retail_price']"
   ]
  },
  {
   "cell_type": "code",
   "execution_count": null,
   "metadata": {},
   "outputs": [],
   "source": [
    "         \n",
    "                      \n",
    "                  \n",
    "                                        \n",
    "                   \n",
    "                   \n",
    "                    \n",
    "          "
   ]
  },
  {
   "cell_type": "code",
   "execution_count": 41,
   "metadata": {},
   "outputs": [],
   "source": [
    "from sklearn.model_selection import train_test_split #we are only importing  train_test_split function from sklearn within the class model_selection\n",
    "\n",
    "#train_test_split is splitiing the data randomnly\n",
    "\n",
    "X_train1, X_test1, y_train1, y_test1 = train_test_split(X, y, test_size=0.20) #80% data will be for training and 20% data for testing.\n",
    "\n"
   ]
  },
  {
   "cell_type": "code",
   "execution_count": 42,
   "metadata": {
    "scrolled": true
   },
   "outputs": [
    {
     "data": {
      "text/html": [
       "<div>\n",
       "<style scoped>\n",
       "    .dataframe tbody tr th:only-of-type {\n",
       "        vertical-align: middle;\n",
       "    }\n",
       "\n",
       "    .dataframe tbody tr th {\n",
       "        vertical-align: top;\n",
       "    }\n",
       "\n",
       "    .dataframe thead th {\n",
       "        text-align: right;\n",
       "    }\n",
       "</style>\n",
       "<table border=\"1\" class=\"dataframe\">\n",
       "  <thead>\n",
       "    <tr style=\"text-align: right;\">\n",
       "      <th></th>\n",
       "      <th>index</th>\n",
       "      <th>price</th>\n",
       "      <th>units_sold</th>\n",
       "      <th>uses_ad_boosts</th>\n",
       "      <th>rating</th>\n",
       "      <th>rating_count</th>\n",
       "      <th>rating_five_count</th>\n",
       "      <th>rating_four_count</th>\n",
       "      <th>rating_three_count</th>\n",
       "      <th>rating_two_count</th>\n",
       "      <th>...</th>\n",
       "      <th>badge_fast_shipping</th>\n",
       "      <th>product_variation_size_id</th>\n",
       "      <th>product_variation_inventory</th>\n",
       "      <th>shipping_option_price</th>\n",
       "      <th>countries_shipped_to</th>\n",
       "      <th>merchant_rating_count</th>\n",
       "      <th>merchant_rating</th>\n",
       "      <th>total_retail_price</th>\n",
       "      <th>profit</th>\n",
       "      <th>profit_percentage</th>\n",
       "    </tr>\n",
       "  </thead>\n",
       "  <tbody>\n",
       "    <tr>\n",
       "      <th>0</th>\n",
       "      <td>0</td>\n",
       "      <td>16.00</td>\n",
       "      <td>100</td>\n",
       "      <td>0</td>\n",
       "      <td>3.76</td>\n",
       "      <td>54.0</td>\n",
       "      <td>26.0</td>\n",
       "      <td>8.0</td>\n",
       "      <td>10.0</td>\n",
       "      <td>1.0</td>\n",
       "      <td>...</td>\n",
       "      <td>0</td>\n",
       "      <td>4</td>\n",
       "      <td>50</td>\n",
       "      <td>4.0</td>\n",
       "      <td>34</td>\n",
       "      <td>568.0</td>\n",
       "      <td>4.128521</td>\n",
       "      <td>1400.0</td>\n",
       "      <td>-2.00</td>\n",
       "      <td>-14.285714</td>\n",
       "    </tr>\n",
       "    <tr>\n",
       "      <th>1</th>\n",
       "      <td>1</td>\n",
       "      <td>8.00</td>\n",
       "      <td>12350</td>\n",
       "      <td>1</td>\n",
       "      <td>3.45</td>\n",
       "      <td>2101.5</td>\n",
       "      <td>2269.0</td>\n",
       "      <td>1027.0</td>\n",
       "      <td>1118.0</td>\n",
       "      <td>644.0</td>\n",
       "      <td>...</td>\n",
       "      <td>0</td>\n",
       "      <td>2</td>\n",
       "      <td>50</td>\n",
       "      <td>2.0</td>\n",
       "      <td>41</td>\n",
       "      <td>17752.0</td>\n",
       "      <td>3.899673</td>\n",
       "      <td>271700.0</td>\n",
       "      <td>14.00</td>\n",
       "      <td>63.636364</td>\n",
       "    </tr>\n",
       "    <tr>\n",
       "      <th>2</th>\n",
       "      <td>2</td>\n",
       "      <td>8.00</td>\n",
       "      <td>100</td>\n",
       "      <td>0</td>\n",
       "      <td>3.57</td>\n",
       "      <td>14.0</td>\n",
       "      <td>5.0</td>\n",
       "      <td>4.0</td>\n",
       "      <td>2.0</td>\n",
       "      <td>0.0</td>\n",
       "      <td>...</td>\n",
       "      <td>0</td>\n",
       "      <td>2</td>\n",
       "      <td>1</td>\n",
       "      <td>3.0</td>\n",
       "      <td>36</td>\n",
       "      <td>295.0</td>\n",
       "      <td>3.989831</td>\n",
       "      <td>4300.0</td>\n",
       "      <td>35.00</td>\n",
       "      <td>81.395349</td>\n",
       "    </tr>\n",
       "    <tr>\n",
       "      <th>3</th>\n",
       "      <td>3</td>\n",
       "      <td>8.00</td>\n",
       "      <td>5000</td>\n",
       "      <td>1</td>\n",
       "      <td>4.03</td>\n",
       "      <td>579.0</td>\n",
       "      <td>295.0</td>\n",
       "      <td>119.0</td>\n",
       "      <td>87.0</td>\n",
       "      <td>42.0</td>\n",
       "      <td>...</td>\n",
       "      <td>0</td>\n",
       "      <td>4</td>\n",
       "      <td>50</td>\n",
       "      <td>2.0</td>\n",
       "      <td>41</td>\n",
       "      <td>23832.0</td>\n",
       "      <td>4.020435</td>\n",
       "      <td>40000.0</td>\n",
       "      <td>0.00</td>\n",
       "      <td>0.000000</td>\n",
       "    </tr>\n",
       "    <tr>\n",
       "      <th>4</th>\n",
       "      <td>4</td>\n",
       "      <td>2.72</td>\n",
       "      <td>100</td>\n",
       "      <td>1</td>\n",
       "      <td>3.10</td>\n",
       "      <td>20.0</td>\n",
       "      <td>6.0</td>\n",
       "      <td>4.0</td>\n",
       "      <td>2.0</td>\n",
       "      <td>2.0</td>\n",
       "      <td>...</td>\n",
       "      <td>0</td>\n",
       "      <td>3</td>\n",
       "      <td>1</td>\n",
       "      <td>1.0</td>\n",
       "      <td>35</td>\n",
       "      <td>14482.0</td>\n",
       "      <td>4.001588</td>\n",
       "      <td>300.0</td>\n",
       "      <td>0.28</td>\n",
       "      <td>9.333333</td>\n",
       "    </tr>\n",
       "  </tbody>\n",
       "</table>\n",
       "<p>5 rows × 21 columns</p>\n",
       "</div>"
      ],
      "text/plain": [
       "   index  price  units_sold  uses_ad_boosts  rating  rating_count  \\\n",
       "0      0  16.00         100               0    3.76          54.0   \n",
       "1      1   8.00       12350               1    3.45        2101.5   \n",
       "2      2   8.00         100               0    3.57          14.0   \n",
       "3      3   8.00        5000               1    4.03         579.0   \n",
       "4      4   2.72         100               1    3.10          20.0   \n",
       "\n",
       "   rating_five_count  rating_four_count  rating_three_count  rating_two_count  \\\n",
       "0               26.0                8.0                10.0               1.0   \n",
       "1             2269.0             1027.0              1118.0             644.0   \n",
       "2                5.0                4.0                 2.0               0.0   \n",
       "3              295.0              119.0                87.0              42.0   \n",
       "4                6.0                4.0                 2.0               2.0   \n",
       "\n",
       "   ...  badge_fast_shipping  product_variation_size_id  \\\n",
       "0  ...                    0                          4   \n",
       "1  ...                    0                          2   \n",
       "2  ...                    0                          2   \n",
       "3  ...                    0                          4   \n",
       "4  ...                    0                          3   \n",
       "\n",
       "   product_variation_inventory  shipping_option_price  countries_shipped_to  \\\n",
       "0                           50                    4.0                    34   \n",
       "1                           50                    2.0                    41   \n",
       "2                            1                    3.0                    36   \n",
       "3                           50                    2.0                    41   \n",
       "4                            1                    1.0                    35   \n",
       "\n",
       "   merchant_rating_count  merchant_rating  total_retail_price  profit  \\\n",
       "0                  568.0         4.128521              1400.0   -2.00   \n",
       "1                17752.0         3.899673            271700.0   14.00   \n",
       "2                  295.0         3.989831              4300.0   35.00   \n",
       "3                23832.0         4.020435             40000.0    0.00   \n",
       "4                14482.0         4.001588               300.0    0.28   \n",
       "\n",
       "   profit_percentage  \n",
       "0         -14.285714  \n",
       "1          63.636364  \n",
       "2          81.395349  \n",
       "3           0.000000  \n",
       "4           9.333333  \n",
       "\n",
       "[5 rows x 21 columns]"
      ]
     },
     "execution_count": 42,
     "metadata": {},
     "output_type": "execute_result"
    }
   ],
   "source": [
    "X.head()"
   ]
  },
  {
   "cell_type": "code",
   "execution_count": 43,
   "metadata": {},
   "outputs": [
    {
     "data": {
      "text/plain": [
       "0    14.0\n",
       "1    22.0\n",
       "2    43.0\n",
       "3     8.0\n",
       "4     3.0\n",
       "Name: retail_price, dtype: float64"
      ]
     },
     "execution_count": 43,
     "metadata": {},
     "output_type": "execute_result"
    }
   ],
   "source": [
    "y.head()"
   ]
  },
  {
   "cell_type": "code",
   "execution_count": 44,
   "metadata": {},
   "outputs": [
    {
     "data": {
      "text/plain": [
       "index                            int64\n",
       "price                          float64\n",
       "units_sold                       int64\n",
       "uses_ad_boosts                   int64\n",
       "rating                         float64\n",
       "rating_count                   float64\n",
       "rating_five_count              float64\n",
       "rating_four_count              float64\n",
       "rating_three_count             float64\n",
       "rating_two_count               float64\n",
       "rating_one_count               float64\n",
       "badge_fast_shipping              int64\n",
       "product_variation_size_id        int64\n",
       "product_variation_inventory      int64\n",
       "shipping_option_price          float64\n",
       "countries_shipped_to             int64\n",
       "merchant_rating_count          float64\n",
       "merchant_rating                float64\n",
       "total_retail_price             float64\n",
       "profit                         float64\n",
       "profit_percentage              float64\n",
       "dtype: object"
      ]
     },
     "execution_count": 44,
     "metadata": {},
     "output_type": "execute_result"
    }
   ],
   "source": [
    "X.dtypes"
   ]
  },
  {
   "cell_type": "code",
   "execution_count": 45,
   "metadata": {
    "scrolled": false
   },
   "outputs": [
    {
     "data": {
      "text/html": [
       "<div>\n",
       "<style scoped>\n",
       "    .dataframe tbody tr th:only-of-type {\n",
       "        vertical-align: middle;\n",
       "    }\n",
       "\n",
       "    .dataframe tbody tr th {\n",
       "        vertical-align: top;\n",
       "    }\n",
       "\n",
       "    .dataframe thead th {\n",
       "        text-align: right;\n",
       "    }\n",
       "</style>\n",
       "<table border=\"1\" class=\"dataframe\">\n",
       "  <thead>\n",
       "    <tr style=\"text-align: right;\">\n",
       "      <th></th>\n",
       "      <th>index</th>\n",
       "      <th>price</th>\n",
       "      <th>units_sold</th>\n",
       "      <th>uses_ad_boosts</th>\n",
       "      <th>rating</th>\n",
       "      <th>rating_count</th>\n",
       "      <th>rating_five_count</th>\n",
       "      <th>rating_four_count</th>\n",
       "      <th>rating_three_count</th>\n",
       "      <th>rating_two_count</th>\n",
       "      <th>...</th>\n",
       "      <th>badge_fast_shipping</th>\n",
       "      <th>product_variation_size_id</th>\n",
       "      <th>product_variation_inventory</th>\n",
       "      <th>shipping_option_price</th>\n",
       "      <th>countries_shipped_to</th>\n",
       "      <th>merchant_rating_count</th>\n",
       "      <th>merchant_rating</th>\n",
       "      <th>total_retail_price</th>\n",
       "      <th>profit</th>\n",
       "      <th>profit_percentage</th>\n",
       "    </tr>\n",
       "  </thead>\n",
       "  <tbody>\n",
       "    <tr>\n",
       "      <th>1208</th>\n",
       "      <td>1208</td>\n",
       "      <td>3.92</td>\n",
       "      <td>12350</td>\n",
       "      <td>1</td>\n",
       "      <td>3.76</td>\n",
       "      <td>2101.5</td>\n",
       "      <td>1975.0</td>\n",
       "      <td>793.0</td>\n",
       "      <td>682.0</td>\n",
       "      <td>397.0</td>\n",
       "      <td>...</td>\n",
       "      <td>0</td>\n",
       "      <td>4</td>\n",
       "      <td>7</td>\n",
       "      <td>1.0</td>\n",
       "      <td>36</td>\n",
       "      <td>55499.0</td>\n",
       "      <td>4.138885</td>\n",
       "      <td>49400.0</td>\n",
       "      <td>0.08</td>\n",
       "      <td>2.000000</td>\n",
       "    </tr>\n",
       "    <tr>\n",
       "      <th>319</th>\n",
       "      <td>319</td>\n",
       "      <td>8.00</td>\n",
       "      <td>100</td>\n",
       "      <td>1</td>\n",
       "      <td>3.00</td>\n",
       "      <td>11.0</td>\n",
       "      <td>3.0</td>\n",
       "      <td>1.0</td>\n",
       "      <td>3.0</td>\n",
       "      <td>1.0</td>\n",
       "      <td>...</td>\n",
       "      <td>0</td>\n",
       "      <td>3</td>\n",
       "      <td>50</td>\n",
       "      <td>2.0</td>\n",
       "      <td>35</td>\n",
       "      <td>5768.0</td>\n",
       "      <td>4.484397</td>\n",
       "      <td>700.0</td>\n",
       "      <td>-1.00</td>\n",
       "      <td>-14.285714</td>\n",
       "    </tr>\n",
       "    <tr>\n",
       "      <th>928</th>\n",
       "      <td>928</td>\n",
       "      <td>2.71</td>\n",
       "      <td>100</td>\n",
       "      <td>1</td>\n",
       "      <td>3.40</td>\n",
       "      <td>20.0</td>\n",
       "      <td>6.0</td>\n",
       "      <td>5.0</td>\n",
       "      <td>4.0</td>\n",
       "      <td>1.0</td>\n",
       "      <td>...</td>\n",
       "      <td>0</td>\n",
       "      <td>2</td>\n",
       "      <td>2</td>\n",
       "      <td>1.0</td>\n",
       "      <td>31</td>\n",
       "      <td>3762.0</td>\n",
       "      <td>3.797448</td>\n",
       "      <td>600.0</td>\n",
       "      <td>3.29</td>\n",
       "      <td>54.833333</td>\n",
       "    </tr>\n",
       "    <tr>\n",
       "      <th>1126</th>\n",
       "      <td>1126</td>\n",
       "      <td>8.00</td>\n",
       "      <td>10000</td>\n",
       "      <td>0</td>\n",
       "      <td>4.14</td>\n",
       "      <td>2101.5</td>\n",
       "      <td>1209.0</td>\n",
       "      <td>449.0</td>\n",
       "      <td>277.0</td>\n",
       "      <td>115.0</td>\n",
       "      <td>...</td>\n",
       "      <td>0</td>\n",
       "      <td>2</td>\n",
       "      <td>50</td>\n",
       "      <td>2.0</td>\n",
       "      <td>31</td>\n",
       "      <td>10258.0</td>\n",
       "      <td>4.243712</td>\n",
       "      <td>70000.0</td>\n",
       "      <td>-1.00</td>\n",
       "      <td>-14.285714</td>\n",
       "    </tr>\n",
       "    <tr>\n",
       "      <th>511</th>\n",
       "      <td>511</td>\n",
       "      <td>6.00</td>\n",
       "      <td>5000</td>\n",
       "      <td>1</td>\n",
       "      <td>3.90</td>\n",
       "      <td>813.0</td>\n",
       "      <td>387.0</td>\n",
       "      <td>168.0</td>\n",
       "      <td>120.0</td>\n",
       "      <td>65.0</td>\n",
       "      <td>...</td>\n",
       "      <td>0</td>\n",
       "      <td>2</td>\n",
       "      <td>50</td>\n",
       "      <td>2.0</td>\n",
       "      <td>38</td>\n",
       "      <td>22765.0</td>\n",
       "      <td>4.238173</td>\n",
       "      <td>85000.0</td>\n",
       "      <td>11.00</td>\n",
       "      <td>64.705882</td>\n",
       "    </tr>\n",
       "  </tbody>\n",
       "</table>\n",
       "<p>5 rows × 21 columns</p>\n",
       "</div>"
      ],
      "text/plain": [
       "      index  price  units_sold  uses_ad_boosts  rating  rating_count  \\\n",
       "1208   1208   3.92       12350               1    3.76        2101.5   \n",
       "319     319   8.00         100               1    3.00          11.0   \n",
       "928     928   2.71         100               1    3.40          20.0   \n",
       "1126   1126   8.00       10000               0    4.14        2101.5   \n",
       "511     511   6.00        5000               1    3.90         813.0   \n",
       "\n",
       "      rating_five_count  rating_four_count  rating_three_count  \\\n",
       "1208             1975.0              793.0               682.0   \n",
       "319                 3.0                1.0                 3.0   \n",
       "928                 6.0                5.0                 4.0   \n",
       "1126             1209.0              449.0               277.0   \n",
       "511               387.0              168.0               120.0   \n",
       "\n",
       "      rating_two_count  ...  badge_fast_shipping  product_variation_size_id  \\\n",
       "1208             397.0  ...                    0                          4   \n",
       "319                1.0  ...                    0                          3   \n",
       "928                1.0  ...                    0                          2   \n",
       "1126             115.0  ...                    0                          2   \n",
       "511               65.0  ...                    0                          2   \n",
       "\n",
       "      product_variation_inventory  shipping_option_price  \\\n",
       "1208                            7                    1.0   \n",
       "319                            50                    2.0   \n",
       "928                             2                    1.0   \n",
       "1126                           50                    2.0   \n",
       "511                            50                    2.0   \n",
       "\n",
       "      countries_shipped_to  merchant_rating_count  merchant_rating  \\\n",
       "1208                    36                55499.0         4.138885   \n",
       "319                     35                 5768.0         4.484397   \n",
       "928                     31                 3762.0         3.797448   \n",
       "1126                    31                10258.0         4.243712   \n",
       "511                     38                22765.0         4.238173   \n",
       "\n",
       "      total_retail_price  profit  profit_percentage  \n",
       "1208             49400.0    0.08           2.000000  \n",
       "319                700.0   -1.00         -14.285714  \n",
       "928                600.0    3.29          54.833333  \n",
       "1126             70000.0   -1.00         -14.285714  \n",
       "511              85000.0   11.00          64.705882  \n",
       "\n",
       "[5 rows x 21 columns]"
      ]
     },
     "execution_count": 45,
     "metadata": {},
     "output_type": "execute_result"
    }
   ],
   "source": [
    "X_train1.head() #"
   ]
  },
  {
   "cell_type": "code",
   "execution_count": 46,
   "metadata": {},
   "outputs": [
    {
     "data": {
      "text/plain": [
       "(1258, 21)"
      ]
     },
     "execution_count": 46,
     "metadata": {},
     "output_type": "execute_result"
    }
   ],
   "source": [
    "X_train1.shape"
   ]
  },
  {
   "cell_type": "code",
   "execution_count": 47,
   "metadata": {},
   "outputs": [
    {
     "data": {
      "text/plain": [
       "(315, 21)"
      ]
     },
     "execution_count": 47,
     "metadata": {},
     "output_type": "execute_result"
    }
   ],
   "source": [
    "X_test1.shape"
   ]
  },
  {
   "cell_type": "code",
   "execution_count": 48,
   "metadata": {},
   "outputs": [
    {
     "data": {
      "text/plain": [
       "(1258,)"
      ]
     },
     "execution_count": 48,
     "metadata": {},
     "output_type": "execute_result"
    }
   ],
   "source": [
    "y_train1.shape "
   ]
  },
  {
   "cell_type": "code",
   "execution_count": 49,
   "metadata": {},
   "outputs": [
    {
     "data": {
      "text/plain": [
       "(315,)"
      ]
     },
     "execution_count": 49,
     "metadata": {},
     "output_type": "execute_result"
    }
   ],
   "source": [
    "y_test1.shape"
   ]
  },
  {
   "cell_type": "code",
   "execution_count": 50,
   "metadata": {},
   "outputs": [],
   "source": [
    "from sklearn.linear_model import LinearRegression"
   ]
  },
  {
   "cell_type": "code",
   "execution_count": 51,
   "metadata": {},
   "outputs": [],
   "source": [
    "lin_reg = LinearRegression()"
   ]
  },
  {
   "cell_type": "code",
   "execution_count": 52,
   "metadata": {},
   "outputs": [
    {
     "data": {
      "text/plain": [
       "LinearRegression()"
      ]
     },
     "execution_count": 52,
     "metadata": {},
     "output_type": "execute_result"
    }
   ],
   "source": [
    "lin_reg.fit(X_train1,y_train1)"
   ]
  },
  {
   "cell_type": "code",
   "execution_count": 53,
   "metadata": {},
   "outputs": [
    {
     "data": {
      "text/plain": [
       "-5.659005496453211e-17"
      ]
     },
     "execution_count": 53,
     "metadata": {},
     "output_type": "execute_result"
    }
   ],
   "source": [
    "m  = lin_reg.coef_\n",
    "m[0]"
   ]
  },
  {
   "cell_type": "code",
   "execution_count": 54,
   "metadata": {},
   "outputs": [
    {
     "data": {
      "text/plain": [
       "2.213340621892712e-12"
      ]
     },
     "execution_count": 54,
     "metadata": {},
     "output_type": "execute_result"
    }
   ],
   "source": [
    "c = lin_reg.intercept_\n",
    "c"
   ]
  },
  {
   "cell_type": "code",
   "execution_count": 55,
   "metadata": {},
   "outputs": [],
   "source": [
    "ypred1 = lin_reg.predict(X_test1)"
   ]
  },
  {
   "cell_type": "code",
   "execution_count": 56,
   "metadata": {},
   "outputs": [
    {
     "data": {
      "text/plain": [
       "array([ 7. , 14. ,  7. , 30. , 54.5, 11. ,  8. , 22. , 12. , 54.5,  7. ,\n",
       "       51. , 11. , 54.5,  7. , 54.5, 54.5, 48. , 54.5, 40. , 11. , 51. ,\n",
       "        9. , 11. , 10. ,  8. , 14. ,  7. ,  6. , 10. ,  7. ,  9. ,  9. ,\n",
       "       12. ,  9. ,  7. ,  5. ,  8. ,  7. ,  9. , 54.5, 54.5,  8. ,  8. ,\n",
       "        6. , 16. , 30. , 10. ,  2. ,  7. , 10. ,  6. ,  7. , 54.5, 26. ,\n",
       "       11. , 13. , 11. , 27. ,  4. ,  6. , 54.5,  5. , 54.5, 11. ,  7. ,\n",
       "       12. , 11. ,  5. ,  7. , 54.5,  8. , 11. , 47. , 42. , 10. ,  6. ,\n",
       "       54.5,  8. ,  6. , 21. , 26. , 54.5,  8. ,  6. , 10. ,  4. , 11. ,\n",
       "        6. , 11. ,  6. ,  7. , 42. ,  8. , 54.5,  6. , 11. , 25. ,  6. ,\n",
       "       10. ,  7. ,  5. , 13. , 54.5,  4. ,  2. , 17. ,  7. ,  6. , 42. ,\n",
       "        7. , 13. , 10. , 17. ,  8. , 54.5,  3. , 10. ,  6. , 11. , 10. ,\n",
       "       10. , 12. , 22. ,  4. , 16. , 19. , 48. ,  9. ,  7. ,  7. , 10. ,\n",
       "       34. ,  7. ,  5. ,  6. , 11. ,  4. ,  6. , 28. , 14. ,  6. , 16. ,\n",
       "        6. ,  3. ,  8. , 10. , 54.5, 10. , 10. ,  8. , 11. ,  6. , 54.5,\n",
       "        3. , 54.5, 11. , 11. ,  7. , 17. , 25. ,  5. , 54. , 54.5, 47. ,\n",
       "       26. ,  6. , 12. ,  7. , 25. , 10. ,  8. , 38. ,  5. ,  9. , 22. ,\n",
       "        5. ,  4. , 54.5, 54.5,  4. , 17. ,  6. ,  4. , 22. ,  4. , 10. ,\n",
       "       12. , 17. , 10. , 33. , 15. , 17. ,  6. , 25. , 26. ,  6. ,  9. ,\n",
       "       20. ,  5. , 22. , 33. ,  8. , 10. , 22. , 49. , 26. , 17. ,  4. ,\n",
       "       17. , 11. ,  2. ,  2. , 43. , 10. , 54.5, 54.5,  4. , 54.5, 54.5,\n",
       "       54.5,  5. ,  6. ,  6. , 26. ,  8. , 54.5,  8. , 54.5,  8. , 10. ,\n",
       "       31. ,  7. , 26. ,  4. , 11. , 54.5, 51. , 26. , 13. ,  6. , 11. ,\n",
       "       11. , 22. , 10. , 54.5,  6. , 13. ,  7. ,  5. , 54.5,  7. , 11. ,\n",
       "        5. , 10. , 11. ,  7. , 54.5,  8. , 11. , 11. , 49. ,  7. , 54.5,\n",
       "       11. ,  7. , 54.5,  6. , 33. , 11. ,  5. , 54.5,  5. , 54.5, 11. ,\n",
       "       10. , 13. , 43. , 22. , 13. ,  7. , 11. ,  7. ,  6. ,  6. , 54.5,\n",
       "       33. , 54.5, 30. ,  7. ,  7. , 47. , 54.5,  2. ,  2. ,  6. ,  2. ,\n",
       "       13. , 33. ,  5. ,  4. ,  7. , 10. , 10. ,  6. ,  5. ,  8. , 16. ,\n",
       "        8. , 26. ,  4. , 54.5,  4. , 10. ,  4. ])"
      ]
     },
     "execution_count": 56,
     "metadata": {},
     "output_type": "execute_result"
    }
   ],
   "source": [
    "ypred1"
   ]
  },
  {
   "cell_type": "code",
   "execution_count": 57,
   "metadata": {},
   "outputs": [
    {
     "name": "stdout",
     "output_type": "stream",
     "text": [
      "MSE: 1.8464447895911373e-23\n"
     ]
    }
   ],
   "source": [
    "from sklearn.metrics import mean_squared_error #calculating MSE\n",
    "MSE=mean_squared_error(ypred1,y_test1)\n",
    "print(\"MSE:\",MSE)"
   ]
  },
  {
   "cell_type": "code",
   "execution_count": 58,
   "metadata": {},
   "outputs": [
    {
     "name": "stdout",
     "output_type": "stream",
     "text": [
      "MSE for Training: 2.780779081151284e-23\n"
     ]
    }
   ],
   "source": [
    "#Training Error\n",
    "y_pred_training = lin_reg.predict(X_train1)\n",
    "MSE_training=mean_squared_error(y_pred_training,y_train1)\n",
    "print(\"MSE for Training:\",MSE_training)"
   ]
  },
  {
   "cell_type": "code",
   "execution_count": 59,
   "metadata": {},
   "outputs": [
    {
     "data": {
      "text/plain": [
       "1.0"
      ]
     },
     "execution_count": 59,
     "metadata": {},
     "output_type": "execute_result"
    }
   ],
   "source": [
    "lin_reg.score(X_train1,y_train1)"
   ]
  },
  {
   "cell_type": "code",
   "execution_count": 60,
   "metadata": {},
   "outputs": [
    {
     "data": {
      "text/plain": [
       "1.0"
      ]
     },
     "execution_count": 60,
     "metadata": {},
     "output_type": "execute_result"
    }
   ],
   "source": [
    "lin_reg.score(X_test1,y_test1)"
   ]
  },
  {
   "cell_type": "code",
   "execution_count": 61,
   "metadata": {},
   "outputs": [
    {
     "data": {
      "text/plain": [
       "'100.00 %'"
      ]
     },
     "execution_count": 61,
     "metadata": {},
     "output_type": "execute_result"
    }
   ],
   "source": [
    "from sklearn.metrics import r2_score\n",
    "res1=r2_score(y_test1,ypred1)\n",
    "res1=\"{:.2f} %\".format(res1.mean()*100)\n",
    "res1"
   ]
  },
  {
   "cell_type": "markdown",
   "metadata": {},
   "source": [
    "## Random Forest Regressor"
   ]
  },
  {
   "cell_type": "code",
   "execution_count": 62,
   "metadata": {},
   "outputs": [],
   "source": [
    "from sklearn.model_selection import train_test_split\n",
    "X_train2, X_test2, y_train2, y_test2 = train_test_split(X, y, test_size=0.20) #80% data will be for training and 20% for testing."
   ]
  },
  {
   "cell_type": "code",
   "execution_count": 63,
   "metadata": {},
   "outputs": [],
   "source": [
    "from sklearn.model_selection import GridSearchCV #GridSearchCV is for parameter tuning\n",
    "from sklearn.ensemble import RandomForestRegressor\n",
    "regressor = RandomForestRegressor()"
   ]
  },
  {
   "cell_type": "code",
   "execution_count": 64,
   "metadata": {},
   "outputs": [],
   "source": [
    "n_estimators=[122,123,124,125] #number of decision trees in the forest, default = 100\n",
    "criterion=['mse'] #criteria for choosing nodes default = 'mse'\n",
    "max_depth=[8,9,10,11] #maximum number of nodes in a tree default = None (it will go till all possible nodes)\n",
    "#max_features = ['sqrt']\n",
    "parameters={'n_estimators': n_estimators,'criterion':criterion,'max_depth':max_depth} #this will undergo 6*2*3 = 36 iterations"
   ]
  },
  {
   "cell_type": "code",
   "execution_count": 65,
   "metadata": {},
   "outputs": [
    {
     "data": {
      "text/plain": [
       "GridSearchCV(estimator=RandomForestRegressor(),\n",
       "             param_grid={'criterion': ['mse'], 'max_depth': [8, 9, 10, 11],\n",
       "                         'n_estimators': [122, 123, 124, 125]})"
      ]
     },
     "execution_count": 65,
     "metadata": {},
     "output_type": "execute_result"
    }
   ],
   "source": [
    "RFR_reg = GridSearchCV(regressor,parameters)\n",
    "RFR_reg.fit(X_train2,y_train2)"
   ]
  },
  {
   "cell_type": "code",
   "execution_count": 66,
   "metadata": {},
   "outputs": [
    {
     "data": {
      "text/plain": [
       "{'criterion': 'mse', 'max_depth': 10, 'n_estimators': 124}"
      ]
     },
     "execution_count": 66,
     "metadata": {},
     "output_type": "execute_result"
    }
   ],
   "source": [
    "RFR_reg.best_params_"
   ]
  },
  {
   "cell_type": "code",
   "execution_count": 67,
   "metadata": {},
   "outputs": [],
   "source": [
    "ypred2 = RFR_reg.predict(X_test2)"
   ]
  },
  {
   "cell_type": "code",
   "execution_count": 68,
   "metadata": {},
   "outputs": [
    {
     "name": "stdout",
     "output_type": "stream",
     "text": [
      "MSE: 2.0884586843302104\n"
     ]
    }
   ],
   "source": [
    "from sklearn.metrics import mean_squared_error #calculating MSE\n",
    "MSE=mean_squared_error(ypred2,y_test2)\n",
    "print(\"MSE:\",MSE)"
   ]
  },
  {
   "cell_type": "code",
   "execution_count": 69,
   "metadata": {},
   "outputs": [
    {
     "data": {
      "text/plain": [
       "'100.00 %'"
      ]
     },
     "execution_count": 69,
     "metadata": {},
     "output_type": "execute_result"
    }
   ],
   "source": [
    "res2=RFR_reg.score(X_test2,ypred2)\n",
    "res2=\"{:.2f} %\".format(res2.mean()*100)\n",
    "res2"
   ]
  },
  {
   "cell_type": "code",
   "execution_count": 70,
   "metadata": {},
   "outputs": [
    {
     "data": {
      "text/html": [
       "<div>\n",
       "<style scoped>\n",
       "    .dataframe tbody tr th:only-of-type {\n",
       "        vertical-align: middle;\n",
       "    }\n",
       "\n",
       "    .dataframe tbody tr th {\n",
       "        vertical-align: top;\n",
       "    }\n",
       "\n",
       "    .dataframe thead th {\n",
       "        text-align: right;\n",
       "    }\n",
       "</style>\n",
       "<table border=\"1\" class=\"dataframe\">\n",
       "  <thead>\n",
       "    <tr style=\"text-align: right;\">\n",
       "      <th></th>\n",
       "      <th>Algorithm</th>\n",
       "      <th>Results</th>\n",
       "    </tr>\n",
       "  </thead>\n",
       "  <tbody>\n",
       "    <tr>\n",
       "      <th>0</th>\n",
       "      <td>Linear Regression</td>\n",
       "      <td>100.00 %</td>\n",
       "    </tr>\n",
       "    <tr>\n",
       "      <th>1</th>\n",
       "      <td>Random Forest Regressor</td>\n",
       "      <td>100.00 %</td>\n",
       "    </tr>\n",
       "  </tbody>\n",
       "</table>\n",
       "</div>"
      ],
      "text/plain": [
       "                 Algorithm   Results\n",
       "0        Linear Regression  100.00 %\n",
       "1  Random Forest Regressor  100.00 %"
      ]
     },
     "execution_count": 70,
     "metadata": {},
     "output_type": "execute_result"
    }
   ],
   "source": [
    "results= pd.DataFrame([[\"Linear Regression\",res1],[\"Random Forest Regressor\",res2]],columns=[\"Algorithm\",\"Results\"])\n",
    "results"
   ]
  },
  {
   "cell_type": "code",
   "execution_count": 71,
   "metadata": {},
   "outputs": [],
   "source": [
    "#END"
   ]
  }
 ],
 "metadata": {
  "kernelspec": {
   "display_name": "Python 3",
   "language": "python",
   "name": "python3"
  },
  "language_info": {
   "codemirror_mode": {
    "name": "ipython",
    "version": 3
   },
   "file_extension": ".py",
   "mimetype": "text/x-python",
   "name": "python",
   "nbconvert_exporter": "python",
   "pygments_lexer": "ipython3",
   "version": "3.8.5"
  },
  "varInspector": {
   "cols": {
    "lenName": 16,
    "lenType": 16,
    "lenVar": 40
   },
   "kernels_config": {
    "python": {
     "delete_cmd_postfix": "",
     "delete_cmd_prefix": "del ",
     "library": "var_list.py",
     "varRefreshCmd": "print(var_dic_list())"
    },
    "r": {
     "delete_cmd_postfix": ") ",
     "delete_cmd_prefix": "rm(",
     "library": "var_list.r",
     "varRefreshCmd": "cat(var_dic_list()) "
    }
   },
   "types_to_exclude": [
    "module",
    "function",
    "builtin_function_or_method",
    "instance",
    "_Feature"
   ],
   "window_display": false
  }
 },
 "nbformat": 4,
 "nbformat_minor": 4
}
